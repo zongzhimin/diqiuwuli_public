{
 "cells": [
  {
   "cell_type": "code",
   "execution_count": 1,
   "metadata": {},
   "outputs": [],
   "source": [
    "import numpy as np\n",
    "import matplotlib.pyplot as plt"
   ]
  },
  {
   "cell_type": "code",
   "execution_count": 70,
   "metadata": {},
   "outputs": [],
   "source": [
    "water_rho = 1010.0\n",
    "water_vp = 1500.0\n",
    "water_vs = 0.0"
   ]
  },
  {
   "cell_type": "code",
   "execution_count": 69,
   "metadata": {},
   "outputs": [],
   "source": [
    "labels = np.zeros((2048,3),dtype=np.float32)\n",
    "for num in range(2048):\n",
    "    left = np.random.randint(256, 640)\n",
    "    right = np.random.randint(256, 640)\n",
    "    width = np.random.randint(40, 200)\n",
    "    labels[num,0] = left\n",
    "    labels[num,1] = right\n",
    "    labels[num,2] = width\n",
    "    depth_list = np.linspace(left,right,1024).astype(int)\n",
    "    vp = np.ones((1024,1024),dtype=np.float32)*2000\n",
    "    vs = np.ones((1024,1024),dtype=np.float32)*1155\n",
    "    rho = np.ones((1024,1024),dtype=np.float32)*2074\n",
    "    for i,depth in enumerate(depth_list):\n",
    "        vp[depth:depth+width,i] = 1500.0\n",
    "        vs[depth:depth+width,i] = 0.0\n",
    "        rho[depth:depth+width,i] = 1010.0\n",
    "    vp[::2,::2].T.tofile(r'\\\\10.1.4.151\\share\\zzm\\data\\experiment3\\model_512\\m_'+str(num)+ '.vp')\n",
    "    vs[::2,::2].T.tofile(r'\\\\10.1.4.151\\share\\zzm\\data\\experiment3\\model_512\\m_'+str(num)+ '.vs')\n",
    "    rho[::2,::2].T.tofile(r'\\\\10.1.4.151\\share\\zzm\\data\\experiment3\\model_512\\m_'+str(num)+ '.rho')\n",
    "np.save(r'\\\\10.1.4.151\\share\\zzm\\data\\experiment3\\model_512_label\\labels',labels)"
   ]
  }
 ],
 "metadata": {
  "kernelspec": {
   "display_name": "Python 3",
   "language": "python",
   "name": "python3"
  },
  "language_info": {
   "codemirror_mode": {
    "name": "ipython",
    "version": 3
   },
   "file_extension": ".py",
   "mimetype": "text/x-python",
   "name": "python",
   "nbconvert_exporter": "python",
   "pygments_lexer": "ipython3",
   "version": "3.7.3"
  }
 },
 "nbformat": 4,
 "nbformat_minor": 1
}
