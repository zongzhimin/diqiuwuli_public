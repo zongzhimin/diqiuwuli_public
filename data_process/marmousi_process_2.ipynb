{
 "cells": [
  {
   "cell_type": "code",
   "execution_count": 2,
   "metadata": {},
   "outputs": [],
   "source": [
    "import numpy as np\n",
    "import matplotlib.pyplot as plt"
   ]
  },
  {
   "cell_type": "code",
   "execution_count": 39,
   "metadata": {},
   "outputs": [],
   "source": [
    "for num in range(2048):\n",
    "    vp = np.ones((1024,1024),dtype=np.float32)*2000\n",
    "    x = np.random.randint(200, 800)\n",
    "    y = np.random.randint(200, 800)\n",
    "    r = np.random.randint(50, min(x,1024-x,y,1024-y,200))\n",
    "    for i in range(x-r,x+r):\n",
    "        for j in range(y-r,y+r):\n",
    "            if (i-x)**2+(j-y)**2<r**2:\n",
    "                vp[i,j] = 3000.\n",
    "    vs = vp / np.sqrt(3)\n",
    "    rho = 0.31 * vp ** (1 / 4) * 1000\n",
    "    vp[::2,::2].T.tofile(r'\\\\10.1.4.151\\share\\zzm\\data\\experiment2\\model_512\\m_'+str(num)+ '.vp')\n",
    "    vs[::2,::2].T.tofile(r'\\\\10.1.4.151\\share\\zzm\\data\\experiment2\\model_512\\m_'+str(num)+ '.vs')\n",
    "    rho[::2,::2].T.tofile(r'\\\\10.1.4.151\\share\\zzm\\data\\experiment2\\model_512\\m_'+str(num)+ '.rho')"
   ]
  },
  {
   "cell_type": "code",
   "execution_count": null,
   "outputs": [],
   "source": [
    "for num in range(2048):\n",
    "    vp = np.ones((1024,1024),dtype=np.float32)*2000\n",
    "    x = np.random.randint(200, 800)\n",
    "    y = np.random.randint(200, 800)\n",
    "    r = np.random.randint(50, min(x,1024-x,y,1024-y,200))\n",
    "    for i in range(x-r,x+r):\n",
    "        for j in range(y-r,y+r):\n",
    "            if (i-x)**2+(j-y)**2<r**2:\n",
    "                vp[i,j] = 3000.\n",
    "    vs = vp / np.sqrt(3)\n",
    "    rho = 0.31 * vp ** (1 / 4) * 1000\n",
    "    vp[::4,::4].T.tofile(r'\\\\10.1.4.151\\share\\zzm\\data\\experiment2\\model_256\\m_'+str(num)+ '.vp')\n",
    "    vs[::4,::4].T.tofile(r'\\\\10.1.4.151\\share\\zzm\\data\\experiment2\\model_256\\m_'+str(num)+ '.vs')\n",
    "    rho[::4,::4].T.tofile(r'\\\\10.1.4.151\\share\\zzm\\data\\experiment2\\model_256\\m_'+str(num)+ '.rho')"
   ],
   "metadata": {
    "collapsed": false,
    "pycharm": {
     "name": "#%%\n"
    }
   }
  },
  {
   "cell_type": "code",
   "execution_count": 37,
   "metadata": {},
   "outputs": [
    {
     "data": {
      "text/plain": [
       "array([[2000., 2000., 2000., ..., 2000., 2000., 2000.],\n",
       "       [2000., 2000., 2000., ..., 2000., 2000., 2000.],\n",
       "       [2000., 2000., 2000., ..., 2000., 2000., 2000.],\n",
       "       ...,\n",
       "       [2000., 2000., 2000., ..., 2000., 2000., 2000.],\n",
       "       [2000., 2000., 2000., ..., 2000., 2000., 2000.],\n",
       "       [2000., 2000., 2000., ..., 2000., 2000., 2000.]], dtype=float32)"
      ]
     },
     "execution_count": 37,
     "metadata": {},
     "output_type": "execute_result"
    }
   ],
   "source": [
    "vp"
   ]
  }
 ],
 "metadata": {
  "kernelspec": {
   "display_name": "Python 3",
   "language": "python",
   "name": "python3"
  },
  "language_info": {
   "codemirror_mode": {
    "name": "ipython",
    "version": 3
   },
   "file_extension": ".py",
   "mimetype": "text/x-python",
   "name": "python",
   "nbconvert_exporter": "python",
   "pygments_lexer": "ipython3",
   "version": "3.7.3"
  }
 },
 "nbformat": 4,
 "nbformat_minor": 1
}