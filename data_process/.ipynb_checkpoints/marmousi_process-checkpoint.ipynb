{
 "cells": [
  {
   "cell_type": "code",
   "execution_count": 5,
   "metadata": {},
   "outputs": [],
   "source": [
    "import numpy as np\n",
    "import matplotlib.pyplot as plt"
   ]
  },
  {
   "cell_type": "code",
   "execution_count": 74,
   "metadata": {},
   "outputs": [],
   "source": [
    "# 放入DENISE密度要*1000\n",
    "\n",
    "marmousi_rho = np.load('E:\\dataaaaaaaaaa\\marmousi.rho.npy')\n",
    "marmousi_vp = np.load('E:\\dataaaaaaaaaa\\marmousi.vp.npy')\n",
    "marmousi_vs = np.load('E:\\dataaaaaaaaaa\\marmousi.vs.npy')"
   ]
  },
  {
   "cell_type": "code",
   "execution_count": 76,
   "metadata": {},
   "outputs": [],
   "source": [
    "marmousi_vp = marmousi_vp.T\n",
    "marmousi_rho = marmousi_rho.T\n",
    "marmousi_vs = marmousi_vs.T"
   ]
  },
  {
   "cell_type": "code",
   "execution_count": 100,
   "metadata": {},
   "outputs": [],
   "source": [
    "for index in range(3):\n",
    "    m_vp = np.array(marmousi_vp[500:500+1024,0+index:1024+index])\n",
    "    m_rho = np.array(marmousi_rho[500:500+1024,0+index:1024+index])*1000\n",
    "    m_vs = np.array(marmousi_vs[500:500+1024,0+index:1024+index])\n",
    "    x = np.random.randint(200, 800)\n",
    "    y = np.random.randint(200, 800)\n",
    "    r = np.random.randint(50, min(x,1024-x,y,1024-y,200))\n",
    "    for i in range(x-r,x+r):\n",
    "        for j in range(y-r,y+r):\n",
    "            if (i-x)**2+(j-y)**2<r**2:\n",
    "                m_vp[i,j] = 3000.\n",
    "                m_vs[i,j] = 3000. / np.sqrt(3)\n",
    "                m_rho[i,j] = 0.31 * 3000. ** (1 / 4) * 1000\n",
    "\n",
    "    m_vp[::2,::2].T.tofile(r'E:\\dataaaaaaaaaa\\test1\\m_'+str(index)+ '.vp')\n",
    "    m_vs[::2,::2].T.tofile(r'E:\\dataaaaaaaaaa\\test1\\m_'+str(index)+ '.vs')\n",
    "    m_rho[::2,::2].T.tofile(r'E:\\dataaaaaaaaaa\\test1\\m_'+str(index)+ '.rho')\n",
    "# plt.figure(figsize=(12,12))\n",
    "# plt.imshow(m_vp)\n",
    "# cax = plt.axes([0.125,0.3,0.775,0.05])\n",
    "# plt.colorbar(cax=cax,orientation='horizontal')\n",
    "# plt.show()\n"
   ]
  },
  {
   "cell_type": "code",
   "execution_count": null,
   "metadata": {
    "pycharm": {
     "name": "#%%\n"
    }
   },
   "outputs": [],
   "source": [
    "data = np.fromfile(r'E:\\dataaaaaaaaaa\\test1\\m_'+str(0)+ '.rho', dtype=np.float32)\n",
    "vpdata = data.reshape(512, 512)\n",
    "plt.imshow(vpdata.T)"
   ]
  },
  {
   "cell_type": "code",
   "execution_count": 104,
   "metadata": {},
   "outputs": [
    {
     "data": {
      "text/plain": [
       "<matplotlib.image.AxesImage at 0x20540415c88>"
      ]
     },
     "execution_count": 104,
     "metadata": {},
     "output_type": "execute_result"
    },
    {
     "data": {
      "image/png": "[encoded data removed]",
      "text/plain": [
       "<Figure size 432x288 with 1 Axes>"
      ]
     },
     "metadata": {
      "needs_background": "light"
     },
     "output_type": "display_data"
    }
   ],
   "source": [
    "data = np.fromfile(r'E:\\dataaaaaaaaaa\\test1\\m_'+str(0)+ '.rho', dtype=np.float32)\n",
    "vpdata = data.reshape(512, 512)\n",
    "plt.imshow(vpdata.T)"
   ]
  }
 ],
 "metadata": {
  "kernelspec": {
   "display_name": "Python 3",
   "language": "python",
   "name": "python3"
  },
  "language_info": {
   "codemirror_mode": {
    "name": "ipython",
    "version": 3
   },
   "file_extension": ".py",
   "mimetype": "text/x-python",
   "name": "python",
   "nbconvert_exporter": "python",
   "pygments_lexer": "ipython3",
   "version": "3.7.3"
  }
 },
 "nbformat": 4,
 "nbformat_minor": 1
}
