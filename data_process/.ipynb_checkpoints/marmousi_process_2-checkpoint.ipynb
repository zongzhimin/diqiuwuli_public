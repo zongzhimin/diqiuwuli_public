{
 "cells": [
  {
   "cell_type": "code",
   "execution_count": 1,
   "metadata": {},
   "outputs": [],
   "source": [
    "import numpy as np\n",
    "import matplotlib.pyplot as plt"
   ]
  },
  {
   "cell_type": "code",
   "execution_count": 24,
   "metadata": {},
   "outputs": [
    {
     "data": {
      "text/plain": [
       "6"
      ]
     },
     "execution_count": 24,
     "metadata": {},
     "output_type": "execute_result"
    }
   ],
   "source": [
    "np.random.randint(0, 7)"
   ]
  },
  {
   "cell_type": "code",
   "execution_count": 25,
   "metadata": {},
   "outputs": [],
   "source": [
    "s_list = [3000,3500,4000,4500,5000,5500,6000]"
   ]
  },
  {
   "cell_type": "code",
   "execution_count": 31,
   "metadata": {},
   "outputs": [
    {
     "data": {
      "text/plain": [
       "6000"
      ]
     },
     "execution_count": 31,
     "metadata": {},
     "output_type": "execute_result"
    }
   ],
   "source": [
    "s_list[np.random.randint(0, 7)]"
   ]
  },
  {
   "cell_type": "code",
   "execution_count": 10,
   "metadata": {},
   "outputs": [
    {
     "name": "stdout",
     "output_type": "stream",
     "text": [
      "99 end\n",
      "199 end\n",
      "299 end\n",
      "399 end\n",
      "499 end\n",
      "599 end\n",
      "699 end\n",
      "799 end\n",
      "899 end\n",
      "999 end\n",
      "1099 end\n",
      "1199 end\n",
      "1299 end\n",
      "1399 end\n",
      "1499 end\n",
      "1599 end\n",
      "1699 end\n",
      "1799 end\n",
      "1899 end\n",
      "1999 end\n"
     ]
    },
    {
     "ename": "FileNotFoundError",
     "evalue": "[Errno 2] No such file or directory: '\\\\\\\\10.1.4.151\\\\share\\\\zzm\\\\data\\\\experiment2\\\\model_512_v2_2_label\\\\labels.npy'",
     "output_type": "error",
     "traceback": [
      "\u001b[1;31m---------------------------------------------------------------------------\u001b[0m",
      "\u001b[1;31mFileNotFoundError\u001b[0m                         Traceback (most recent call last)",
      "\u001b[1;32m<ipython-input-10-159d2a10cdae>\u001b[0m in \u001b[0;36m<module>\u001b[1;34m\u001b[0m\n\u001b[0;32m     19\u001b[0m     \u001b[1;32mif\u001b[0m \u001b[1;33m(\u001b[0m\u001b[0mnum\u001b[0m\u001b[1;33m+\u001b[0m\u001b[1;36m1\u001b[0m\u001b[1;33m)\u001b[0m\u001b[1;33m%\u001b[0m\u001b[1;36m100\u001b[0m \u001b[1;33m==\u001b[0m \u001b[1;36m0\u001b[0m\u001b[1;33m:\u001b[0m\u001b[1;33m\u001b[0m\u001b[1;33m\u001b[0m\u001b[0m\n\u001b[0;32m     20\u001b[0m         \u001b[0mprint\u001b[0m\u001b[1;33m(\u001b[0m\u001b[0mnum\u001b[0m\u001b[1;33m,\u001b[0m\u001b[1;34m\"end\"\u001b[0m\u001b[1;33m)\u001b[0m\u001b[1;33m\u001b[0m\u001b[1;33m\u001b[0m\u001b[0m\n\u001b[1;32m---> 21\u001b[1;33m \u001b[0mnp\u001b[0m\u001b[1;33m.\u001b[0m\u001b[0msave\u001b[0m\u001b[1;33m(\u001b[0m\u001b[1;34mr'\\\\10.1.4.151\\share\\zzm\\data\\experiment2\\model_512_v2_2_label\\labels'\u001b[0m\u001b[1;33m,\u001b[0m\u001b[0mlabels\u001b[0m\u001b[1;33m)\u001b[0m\u001b[1;33m\u001b[0m\u001b[1;33m\u001b[0m\u001b[0m\n\u001b[0m",
      "\u001b[1;32mD:\\development\\Anaconda3\\lib\\site-packages\\numpy\\lib\\npyio.py\u001b[0m in \u001b[0;36msave\u001b[1;34m(file, arr, allow_pickle, fix_imports)\u001b[0m\n\u001b[0;32m    522\u001b[0m         \u001b[1;32mif\u001b[0m \u001b[1;32mnot\u001b[0m \u001b[0mfile\u001b[0m\u001b[1;33m.\u001b[0m\u001b[0mendswith\u001b[0m\u001b[1;33m(\u001b[0m\u001b[1;34m'.npy'\u001b[0m\u001b[1;33m)\u001b[0m\u001b[1;33m:\u001b[0m\u001b[1;33m\u001b[0m\u001b[1;33m\u001b[0m\u001b[0m\n\u001b[0;32m    523\u001b[0m             \u001b[0mfile\u001b[0m \u001b[1;33m=\u001b[0m \u001b[0mfile\u001b[0m \u001b[1;33m+\u001b[0m \u001b[1;34m'.npy'\u001b[0m\u001b[1;33m\u001b[0m\u001b[1;33m\u001b[0m\u001b[0m\n\u001b[1;32m--> 524\u001b[1;33m         \u001b[0mfid\u001b[0m \u001b[1;33m=\u001b[0m \u001b[0mopen\u001b[0m\u001b[1;33m(\u001b[0m\u001b[0mfile\u001b[0m\u001b[1;33m,\u001b[0m \u001b[1;34m\"wb\"\u001b[0m\u001b[1;33m)\u001b[0m\u001b[1;33m\u001b[0m\u001b[1;33m\u001b[0m\u001b[0m\n\u001b[0m\u001b[0;32m    525\u001b[0m         \u001b[0mown_fid\u001b[0m \u001b[1;33m=\u001b[0m \u001b[1;32mTrue\u001b[0m\u001b[1;33m\u001b[0m\u001b[1;33m\u001b[0m\u001b[0m\n\u001b[0;32m    526\u001b[0m \u001b[1;33m\u001b[0m\u001b[0m\n",
      "\u001b[1;31mFileNotFoundError\u001b[0m: [Errno 2] No such file or directory: '\\\\\\\\10.1.4.151\\\\share\\\\zzm\\\\data\\\\experiment2\\\\model_512_v2_2_label\\\\labels.npy'"
     ]
    }
   ],
   "source": [
    "total_num = 10240\n",
    "labels = np.zeros((total_num,4),dtype=np.float32)\n",
    "s_list = [3000,3500,4000,4500,5000,5500,6000]\n",
    "for num in range(total_num):\n",
    "    vp = np.ones((1024,1024),dtype=np.float32)*2000\n",
    "    x = np.random.randint(200, 800)\n",
    "    y = np.random.randint(200, 800)\n",
    "    r = np.random.randint(50, min(x,1024-x,y,1024-y,200))\n",
    "    s = s_list[np.random.randint(0, 7)]\n",
    "    labels[num,0] = x\n",
    "    labels[num,1] = y\n",
    "    labels[num,2] = r\n",
    "    labels[num,3] = s\n",
    "    for i in range(x-r,x+r):\n",
    "        for j in range(y-r,y+r):\n",
    "            if (i-x)**2+(j-y)**2<r**2:\n",
    "                vp[i,j] = s.\n",
    "    vs = vp / np.sqrt(3)\n",
    "    rho = 0.31 * vp ** (1 / 4) * 1000\n",
    "    vp[::2,::2].T.tofile(r'\\\\10.1.4.151\\share\\zzm\\data\\experiment2\\model_512_s\\m_'+str(num)+ '.vp')\n",
    "    vs[::2,::2].T.tofile(r'\\\\10.1.4.151\\share\\zzm\\data\\experiment2\\model_512_s\\m_'+str(num)+ '.vs')\n",
    "    rho[::2,::2].T.tofile(r'\\\\10.1.4.151\\share\\zzm\\data\\experiment2\\model_512_s\\m_'+str(num)+ '.rho')\n",
    "    if (num+1)%100 == 0:\n",
    "        print(num,\"end\")\n",
    "np.save(r'\\\\10.1.4.151\\share\\zzm\\data\\experiment2\\model_512_s_labels\\labels',labels)"
   ]
  },
  {
   "cell_type": "code",
   "execution_count": 12,
   "metadata": {},
   "outputs": [],
   "source": [
    "np.save(r'\\\\10.1.4.151\\share\\zzm\\data\\experiment2\\model_512_v2_2_label\\labels',labels)"
   ]
  },
  {
   "cell_type": "code",
   "execution_count": null,
   "metadata": {
    "pycharm": {
     "name": "#%%\n"
    }
   },
   "outputs": [],
   "source": [
    "for num in range(2048):\n",
    "    vp = np.ones((1024,1024),dtype=np.float32)*2000\n",
    "    x = np.random.randint(200, 800)\n",
    "    y = np.random.randint(200, 800)\n",
    "    r = np.random.randint(50, min(x,1024-x,y,1024-y,200))\n",
    "    for i in range(x-r,x+r):\n",
    "        for j in range(y-r,y+r):\n",
    "            if (i-x)**2+(j-y)**2<r**2:\n",
    "                vp[i,j] = 3000.\n",
    "    vs = vp / np.sqrt(3)\n",
    "    rho = 0.31 * vp ** (1 / 4) * 1000\n",
    "    vp[::4,::4].T.tofile(r'\\\\10.1.4.151\\share\\zzm\\data\\experiment2\\model_256\\m_'+str(num)+ '.vp')\n",
    "    vs[::4,::4].T.tofile(r'\\\\10.1.4.151\\share\\zzm\\data\\experiment2\\model_256\\m_'+str(num)+ '.vs')\n",
    "    rho[::4,::4].T.tofile(r'\\\\10.1.4.151\\share\\zzm\\data\\experiment2\\model_256\\m_'+str(num)+ '.rho')"
   ]
  },
  {
   "cell_type": "code",
   "execution_count": null,
   "metadata": {
    "pycharm": {
     "name": "#%%\n"
    }
   },
   "outputs": [],
   "source": [
    "vp"
   ]
  },
  {
   "cell_type": "code",
   "execution_count": null,
   "metadata": {
    "pycharm": {
     "name": "#%%\n"
    }
   },
   "outputs": [],
   "source": [
    "vp"
   ]
  },
  {
   "cell_type": "code",
   "execution_count": null,
   "metadata": {
    "pycharm": {
     "name": "#%%\n"
    }
   },
   "outputs": [],
   "source": [
    "vp"
   ]
  },
  {
   "cell_type": "code",
   "execution_count": null,
   "metadata": {
    "pycharm": {
     "name": "#%%\n"
    }
   },
   "outputs": [],
   "source": [
    "vp"
   ]
  },
  {
   "cell_type": "code",
   "execution_count": null,
   "metadata": {
    "pycharm": {
     "name": "#%%\n"
    }
   },
   "outputs": [],
   "source": [
    "vp"
   ]
  },
  {
   "cell_type": "code",
   "execution_count": null,
   "metadata": {
    "pycharm": {
     "name": "#%%\n"
    }
   },
   "outputs": [],
   "source": [
    "vp"
   ]
  },
  {
   "cell_type": "code",
   "execution_count": null,
   "metadata": {
    "pycharm": {
     "name": "#%%\n"
    }
   },
   "outputs": [],
   "source": [
    "vp"
   ]
  },
  {
   "cell_type": "code",
   "execution_count": null,
   "metadata": {
    "pycharm": {
     "name": "#%%\n"
    }
   },
   "outputs": [],
   "source": [
    "vp"
   ]
  },
  {
   "cell_type": "code",
   "execution_count": null,
   "metadata": {
    "pycharm": {
     "name": "#%%\n"
    }
   },
   "outputs": [],
   "source": [
    "vp"
   ]
  },
  {
   "cell_type": "code",
   "execution_count": 37,
   "metadata": {},
   "outputs": [
    {
     "data": {
      "text/plain": [
       "array([[2000., 2000., 2000., ..., 2000., 2000., 2000.],\n",
       "       [2000., 2000., 2000., ..., 2000., 2000., 2000.],\n",
       "       [2000., 2000., 2000., ..., 2000., 2000., 2000.],\n",
       "       ...,\n",
       "       [2000., 2000., 2000., ..., 2000., 2000., 2000.],\n",
       "       [2000., 2000., 2000., ..., 2000., 2000., 2000.],\n",
       "       [2000., 2000., 2000., ..., 2000., 2000., 2000.]], dtype=float32)"
      ]
     },
     "execution_count": 37,
     "metadata": {},
     "output_type": "execute_result"
    }
   ],
   "source": [
    "vp"
   ]
  }
 ],
 "metadata": {
  "kernelspec": {
   "display_name": "Python 3",
   "language": "python",
   "name": "python3"
  },
  "language_info": {
   "codemirror_mode": {
    "name": "ipython",
    "version": 3
   },
   "file_extension": ".py",
   "mimetype": "text/x-python",
   "name": "python",
   "nbconvert_exporter": "python",
   "pygments_lexer": "ipython3",
   "version": "3.7.3"
  }
 },
 "nbformat": 4,
 "nbformat_minor": 1
}
