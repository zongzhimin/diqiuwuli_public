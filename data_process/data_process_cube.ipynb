{
 "cells": [
  {
   "cell_type": "code",
   "execution_count": 1,
   "metadata": {},
   "outputs": [],
   "source": [
    "import numpy as np\n",
    "import matplotlib.pyplot as plt"
   ]
  },
  {
   "cell_type": "code",
   "execution_count": 2,
   "metadata": {},
   "outputs": [
    {
     "ename": "NameError",
     "evalue": "name 'x' is not defined",
     "output_type": "error",
     "traceback": [
      "\u001b[1;31m---------------------------------------------------------------------------\u001b[0m",
      "\u001b[1;31mNameError\u001b[0m                                 Traceback (most recent call last)",
      "\u001b[1;32m<ipython-input-2-5d5885509e61>\u001b[0m in \u001b[0;36m<module>\u001b[1;34m\u001b[0m\n\u001b[0;32m      6\u001b[0m \u001b[1;33m\u001b[0m\u001b[0m\n\u001b[0;32m      7\u001b[0m     \u001b[0my\u001b[0m \u001b[1;33m=\u001b[0m \u001b[0mnp\u001b[0m\u001b[1;33m.\u001b[0m\u001b[0mrandom\u001b[0m\u001b[1;33m.\u001b[0m\u001b[0mrandint\u001b[0m\u001b[1;33m(\u001b[0m\u001b[1;36m200\u001b[0m\u001b[1;33m,\u001b[0m \u001b[1;36m800\u001b[0m\u001b[1;33m)\u001b[0m\u001b[1;33m\u001b[0m\u001b[1;33m\u001b[0m\u001b[0m\n\u001b[1;32m----> 8\u001b[1;33m     \u001b[0mr\u001b[0m \u001b[1;33m=\u001b[0m \u001b[0mnp\u001b[0m\u001b[1;33m.\u001b[0m\u001b[0mrandom\u001b[0m\u001b[1;33m.\u001b[0m\u001b[0mrandint\u001b[0m\u001b[1;33m(\u001b[0m\u001b[1;36m50\u001b[0m\u001b[1;33m,\u001b[0m \u001b[0mmin\u001b[0m\u001b[1;33m(\u001b[0m\u001b[0mx\u001b[0m\u001b[1;33m,\u001b[0m\u001b[1;36m1024\u001b[0m\u001b[1;33m-\u001b[0m\u001b[0mx\u001b[0m\u001b[1;33m,\u001b[0m\u001b[0my\u001b[0m\u001b[1;33m,\u001b[0m\u001b[1;36m1024\u001b[0m\u001b[1;33m-\u001b[0m\u001b[0my\u001b[0m\u001b[1;33m,\u001b[0m\u001b[1;36m200\u001b[0m\u001b[1;33m)\u001b[0m\u001b[1;33m)\u001b[0m\u001b[1;33m\u001b[0m\u001b[1;33m\u001b[0m\u001b[0m\n\u001b[0m\u001b[0;32m      9\u001b[0m     \u001b[0mlabels\u001b[0m\u001b[1;33m[\u001b[0m\u001b[0mnum\u001b[0m\u001b[1;33m,\u001b[0m\u001b[1;36m0\u001b[0m\u001b[1;33m]\u001b[0m \u001b[1;33m=\u001b[0m \u001b[0mx\u001b[0m\u001b[1;33m\u001b[0m\u001b[1;33m\u001b[0m\u001b[0m\n\u001b[0;32m     10\u001b[0m     \u001b[0mlabels\u001b[0m\u001b[1;33m[\u001b[0m\u001b[0mnum\u001b[0m\u001b[1;33m,\u001b[0m\u001b[1;36m1\u001b[0m\u001b[1;33m]\u001b[0m \u001b[1;33m=\u001b[0m \u001b[0my\u001b[0m\u001b[1;33m\u001b[0m\u001b[1;33m\u001b[0m\u001b[0m\n",
      "\u001b[1;31mNameError\u001b[0m: name 'x' is not defined"
     ]
    }
   ],
   "source": [
    "#     xl   xr\n",
    "#  yu\n",
    "#  yd\n",
    "labels = np.zeros((2048,4),dtype=np.float32)\n",
    "num = 0\n",
    "while num < 2048:\n",
    "    vp = np.ones((1024,1024),dtype=np.float32)*2000\n",
    "    x1 = np.random.randint(128, 896)\n",
    "    x2 = np.random.randint(128, 896)\n",
    "    y1 = np.random.randint(128, 896)\n",
    "    y2 = np.random.randint(128, 896)\n",
    "    x_l = min(x1,x2)\n",
    "    x_r = max(x1,x2)\n",
    "    y_u = min(y1,y2)\n",
    "    y_d = max(y1,y2)\n",
    "    if x_r - x_l < 50 or y_d - y_u < 50 or x_r - x_l > 400 or y_d - y_u > 400:\n",
    "        continue\n",
    "    \n",
    "    labels[num,0] = x_l\n",
    "    labels[num,1] = x_r\n",
    "    labels[num,2] = y_u\n",
    "    labels[num,3] = y_d\n",
    "    \n",
    "    vp[y_u:y_d,x_l:x_r] = 3000\n",
    "    vs = vp / np.sqrt(3)\n",
    "    rho = 0.31 * vp ** (1 / 4) * 1000\n",
    "    vp[::2,::2].T.tofile(r'\\\\10.1.4.151\\share\\zzm\\data\\experiment2\\model_512_v2_2\\m_'+str(num)+ '.vp')\n",
    "    vs[::2,::2].T.tofile(r'\\\\10.1.4.151\\share\\zzm\\data\\experiment2\\model_512_v2_2\\m_'+str(num)+ '.vs')\n",
    "    rho[::2,::2].T.tofile(r'\\\\10.1.4.151\\share\\zzm\\data\\experiment2\\model_512_v2_2\\m_'+str(num)+ '.rho')\n",
    "    num+=1\n",
    "    if (num+1)%100 == 0:\n",
    "        print(num,\"end\")\n",
    "np.save(r'\\\\10.1.4.151\\share\\zzm\\data\\experiment2\\model_512_v2_2_label\\labels',labels)"
   ]
  }
 ],
 "metadata": {
  "kernelspec": {
   "display_name": "Python 3",
   "language": "python",
   "name": "python3"
  },
  "language_info": {
   "codemirror_mode": {
    "name": "ipython",
    "version": 3
   },
   "file_extension": ".py",
   "mimetype": "text/x-python",
   "name": "python",
   "nbconvert_exporter": "python",
   "pygments_lexer": "ipython3",
   "version": "3.7.3"
  }
 },
 "nbformat": 4,
 "nbformat_minor": 1
}
