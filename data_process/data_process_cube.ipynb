{
 "cells": [
  {
   "cell_type": "code",
   "execution_count": 1,
   "metadata": {},
   "outputs": [],
   "source": [
    "import numpy as np\n",
    "import matplotlib.pyplot as plt"
   ]
  },
  {
   "cell_type": "code",
   "execution_count": 18,
   "metadata": {},
   "outputs": [
    {
     "name": "stdout",
     "output_type": "stream",
     "text": [
      "99 end\n",
      "199 end\n",
      "299 end\n",
      "399 end\n",
      "499 end\n",
      "599 end\n",
      "699 end\n",
      "799 end\n",
      "899 end\n",
      "999 end\n",
      "1099 end\n",
      "1199 end\n",
      "1299 end\n",
      "1399 end\n",
      "1499 end\n",
      "1599 end\n",
      "1699 end\n",
      "1799 end\n",
      "1899 end\n",
      "1999 end\n"
     ]
    }
   ],
   "source": [
    "#     xl   xr\n",
    "#  yu\n",
    "#  yd\n",
    "labels = np.zeros((2048,4),dtype=np.float32)\n",
    "num = 0\n",
    "while num < 2048:\n",
    "    \n",
    "    x1 = np.random.randint(128, 896)\n",
    "    x2 = np.random.randint(128, 896)\n",
    "    y1 = np.random.randint(128, 896)\n",
    "    y2 = np.random.randint(128, 896)\n",
    "    x_l = min(x1,x2)\n",
    "    x_r = max(x1,x2)\n",
    "    y_u = min(y1,y2)\n",
    "    y_d = max(y1,y2)\n",
    "    if x_r - x_l < 100 or y_d - y_u < 100 or x_r - x_l > 400 or y_d - y_u > 400:\n",
    "        continue\n",
    "    \n",
    "    labels[num,0] = x_l\n",
    "    labels[num,1] = x_r\n",
    "    labels[num,2] = y_u\n",
    "    labels[num,3] = y_d\n",
    "    vp = np.ones((1024,1024),dtype=np.float32)*2000\n",
    "    label = np.zeros((1024,1024),dtype=np.float32)\n",
    "    vp[y_u:y_d,x_l:x_r] = 3000\n",
    "    label[y_u:y_d,x_l:x_r] = 1\n",
    "    vs = vp / np.sqrt(3)\n",
    "    rho = 0.31 * vp ** (1 / 4) * 1000\n",
    "    vp[::2,::2].T.tofile(r'\\\\10.1.4.151\\share\\zzm\\data\\experiment4\\model_512\\m_'+str(num)+ '.vp')\n",
    "    vs[::2,::2].T.tofile(r'\\\\10.1.4.151\\share\\zzm\\data\\experiment4\\model_512\\m_'+str(num)+ '.vs')\n",
    "    rho[::2,::2].T.tofile(r'\\\\10.1.4.151\\share\\zzm\\data\\experiment4\\model_512\\m_'+str(num)+ '.rho')\n",
    "    np.save(r'\\\\10.1.4.151\\share\\zzm\\data\\experiment4\\model_512_labels\\label_'+str(num),label)\n",
    "    num+=1\n",
    "    if (num+1)%100 == 0:\n",
    "        print(num,\"end\")\n",
    "np.save(r'\\\\10.1.4.151\\share\\zzm\\data\\experiment4\\model_512_labels\\labels',labels)"
   ]
  },
  {
   "cell_type": "code",
   "execution_count": null,
   "outputs": [],
   "source": [
    "data = np.fromfile(r'\\\\10.1.4.151\\share\\zzm\\data\\experiment4\\model_512\\m_'+str(0)+ '.vp',dtype=np.float32)\n",
    "vpdata = data.reshape((512,512))\n",
    "plt.imshow(vpdata.T)"
   ],
   "metadata": {
    "collapsed": false,
    "pycharm": {
     "name": "#%%\n"
    }
   }
  },
  {
   "cell_type": "code",
   "execution_count": null,
   "outputs": [],
   "source": [
    "labels[0]/2"
   ],
   "metadata": {
    "collapsed": false,
    "pycharm": {
     "name": "#%%\n"
    }
   }
  },
  {
   "cell_type": "code",
   "execution_count": null,
   "outputs": [],
   "source": [
    "labels[0]/2"
   ],
   "metadata": {
    "collapsed": false,
    "pycharm": {
     "name": "#%%\n"
    }
   }
  },
  {
   "cell_type": "code",
   "execution_count": null,
   "outputs": [],
   "source": [
    "labels[0]/2"
   ],
   "metadata": {
    "collapsed": false,
    "pycharm": {
     "name": "#%%\n"
    }
   }
  },
  {
   "cell_type": "code",
   "execution_count": null,
   "outputs": [],
   "source": [
    "labels[0]/2"
   ],
   "metadata": {
    "collapsed": false,
    "pycharm": {
     "name": "#%%\n"
    }
   }
  },
  {
   "cell_type": "code",
   "execution_count": null,
   "outputs": [],
   "source": [
    "labels[0]/2"
   ],
   "metadata": {
    "collapsed": false,
    "pycharm": {
     "name": "#%%\n"
    }
   }
  },
  {
   "cell_type": "code",
   "execution_count": null,
   "outputs": [],
   "source": [
    "labels[0]/2"
   ],
   "metadata": {
    "collapsed": false,
    "pycharm": {
     "name": "#%%\n"
    }
   }
  },
  {
   "cell_type": "code",
   "execution_count": null,
   "outputs": [],
   "source": [
    "labels[0]/2"
   ],
   "metadata": {
    "collapsed": false,
    "pycharm": {
     "name": "#%%\n"
    }
   }
  },
  {
   "cell_type": "code",
   "execution_count": 14,
   "metadata": {},
   "outputs": [
    {
     "data": {
      "text/plain": [
       "<matplotlib.image.AxesImage at 0x1c9796e5b70>"
      ]
     },
     "execution_count": 14,
     "metadata": {},
     "output_type": "execute_result"
    },
    {
     "data": {
      "image/png": "[encoded data removed]",
      "text/plain": [
       "<Figure size 432x288 with 1 Axes>"
      ]
     },
     "metadata": {
      "needs_background": "light"
     },
     "output_type": "display_data"
    }
   ],
   "source": [
    "labels[0]/2"
   ]
  },
  {
   "cell_type": "code",
   "execution_count": 16,
   "metadata": {},
   "outputs": [
    {
     "data": {
      "text/plain": [
       "array([ 81.5, 221.5, 147. , 209. ], dtype=float32)"
      ]
     },
     "execution_count": 16,
     "metadata": {},
     "output_type": "execute_result"
    }
   ],
   "source": [
    "labels[0]/2"
   ]
  }
 ],
 "metadata": {
  "kernelspec": {
   "display_name": "Python 3",
   "language": "python",
   "name": "python3"
  },
  "language_info": {
   "codemirror_mode": {
    "name": "ipython",
    "version": 3
   },
   "file_extension": ".py",
   "mimetype": "text/x-python",
   "name": "python",
   "nbconvert_exporter": "python",
   "pygments_lexer": "ipython3",
   "version": "3.7.3"
  }
 },
 "nbformat": 4,
 "nbformat_minor": 1
}