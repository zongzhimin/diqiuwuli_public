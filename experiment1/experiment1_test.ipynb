{
 "cells": [
  {
   "cell_type": "code",
   "execution_count": 1,
   "metadata": {},
   "outputs": [],
   "source": [
    "import tensorflow as tf\n",
    "from tensorflow.keras import layers,Model,Sequential"
   ]
  },
  {
   "cell_type": "code",
   "execution_count": 4,
   "metadata": {},
   "outputs": [],
   "source": [
    "import numpy as np"
   ]
  },
  {
   "cell_type": "code",
   "execution_count": 2,
   "metadata": {},
   "outputs": [],
   "source": [
    "# 用全连接压缩与还原\n",
    "class FCZipSeismicData(Model):\n",
    "    def __init__(self):\n",
    "        super(FCZipSeismicData, self).__init__()\n",
    "        self.encoder = Sequential([\n",
    "            layers.Dense(2),\n",
    "            layers.BatchNormalization(),\n",
    "            layers.LeakyReLU(alpha=0.2)\n",
    "        ])\n",
    "        self.decoder = Sequential([\n",
    "            layers.Dense(1024),\n",
    "            layers.BatchNormalization(),\n",
    "            layers.Activation('tanh')\n",
    "        ])\n",
    "\n",
    "    def call(self, inputs, training=None, mask=None):\n",
    "        batchSize, dao_num, data_num = inputs.shape\n",
    "        x = tf.reshape(inputs, (-1, 1024))\n",
    "        x = self.encoder(x)\n",
    "        x = self.decoder(x)\n",
    "        x = tf.reshape(inputs, (batchSize, dao_num, data_num))\n",
    "        return x"
   ]
  },
  {
   "cell_type": "code",
   "execution_count": 3,
   "metadata": {},
   "outputs": [],
   "source": [
    "model = FCZipSeismicData()"
   ]
  },
  {
   "cell_type": "code",
   "execution_count": 5,
   "metadata": {},
   "outputs": [],
   "source": [
    "x = np.load(r'E:\\dataaaaaaaaaa\\x.npy')"
   ]
  },
  {
   "cell_type": "code",
   "execution_count": null,
   "metadata": {},
   "outputs": [],
   "source": [
    "lr = 5e-4\n",
    "epochs = 1000\n",
    "L1_penalty = 1\n",
    "optimizer = optimizers.Adam(learning_rate=lr)"
   ]
  },
  {
   "cell_type": "code",
   "execution_count": null,
   "metadata": {},
   "outputs": [],
   "source": [
    "for epoch in range(epochs):\n",
    "    with tf.GradientTape() as tape:\n",
    "        x_r = model(x)\n",
    "        l1_loss = L1_penalty * tf.reduce_mean(tf.abs(x_r - x))\n",
    "    grads = tape.gradient(l1_loss,model.trainable_variables)\n",
    "    optimizer.apply_gradients(zip(grads,model.trainable_variables))\n",
    "    print(l1_loss)"
   ]
  }
 ],
 "metadata": {
  "kernelspec": {
   "display_name": "Python 3",
   "language": "python",
   "name": "python3"
  },
  "language_info": {
   "codemirror_mode": {
    "name": "ipython",
    "version": 3
   },
   "file_extension": ".py",
   "mimetype": "text/x-python",
   "name": "python",
   "nbconvert_exporter": "python",
   "pygments_lexer": "ipython3",
   "version": "3.7.3"
  }
 },
 "nbformat": 4,
 "nbformat_minor": 1
}