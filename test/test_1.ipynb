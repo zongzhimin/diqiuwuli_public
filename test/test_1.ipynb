{
 "cells": [
  {
   "cell_type": "code",
   "execution_count": 1,
   "metadata": {},
   "outputs": [],
   "source": [
    "import imageio\n",
    "from PIL import Image\n",
    "import matplotlib.pyplot as plt\n",
    "import numpy as np"
   ]
  },
  {
   "cell_type": "code",
   "execution_count": 27,
   "metadata": {},
   "outputs": [],
   "source": [
    "content_image = imageio.imread(r\"C:\\Users\\zongzhimin\\Desktop\\model\\model2\\model_2.bmp\")"
   ]
  },
  {
   "cell_type": "code",
   "execution_count": 28,
   "metadata": {},
   "outputs": [
    {
     "data": {
      "text/plain": [
       "(646, 642, 3)"
      ]
     },
     "execution_count": 28,
     "metadata": {},
     "output_type": "execute_result"
    }
   ],
   "source": [
    "content_image.shape"
   ]
  },
  {
   "cell_type": "code",
   "execution_count": 29,
   "metadata": {},
   "outputs": [],
   "source": [
    "vp = content_image[:600,:600,2]"
   ]
  },
  {
   "cell_type": "code",
   "execution_count": 30,
   "metadata": {},
   "outputs": [
    {
     "data": {
      "text/plain": [
       "<matplotlib.image.AxesImage at 0x1d30d987518>"
      ]
     },
     "execution_count": 30,
     "metadata": {},
     "output_type": "execute_result"
    },
    {
     "data": {
      "image/png": "[encoded data removed]",
      "text/plain": [
       "<Figure size 432x288 with 1 Axes>"
      ]
     },
     "metadata": {
      "needs_background": "light"
     },
     "output_type": "display_data"
    }
   ],
   "source": [
    "plt.imshow(vp)"
   ]
  },
  {
   "cell_type": "code",
   "execution_count": 38,
   "metadata": {
    "scrolled": true
   },
   "outputs": [
    {
     "data": {
      "text/plain": [
       "array([2000, 2000, 2000, 2000, 2000, 2000, 2000, 2000, 2000, 2000, 2000,\n",
       "       2000, 2000, 2000, 2000, 2000, 2000, 2000, 2000, 2000, 2000, 2000,\n",
       "       2000, 2000, 2000, 2000, 2000, 2000, 2000, 2000, 2000, 2000, 2000,\n",
       "       2000, 2000, 2000, 2000, 2000, 2000, 2000, 2000, 2000, 2000, 2000,\n",
       "       2000, 2000, 2000, 2000, 2000, 2000, 2000, 2000, 2000, 2000, 2000,\n",
       "       2000, 2000, 2000, 2000, 2000, 2000, 2000, 2000, 2000, 2000, 2000,\n",
       "       2000, 2000, 2000, 2000, 2000, 2000, 2000, 2000, 2000, 2000, 2000,\n",
       "       2000, 2000, 2000, 2000, 2000, 2000, 2000, 2000, 2000, 2000, 2000,\n",
       "       2000, 2000, 2000, 2000, 2000, 2000, 2000, 2000, 2000, 2000, 2000,\n",
       "       2000, 2000, 2000, 2000, 2000, 2000, 2000, 2000, 2000, 2000, 2000,\n",
       "       2000, 2000, 2000, 2000, 2000, 2000, 2000, 2000, 2000, 2000, 2000,\n",
       "       2000, 2000, 2000, 2000, 2000, 2000, 2000, 2000, 2000, 2000, 2000,\n",
       "       2000, 2000, 2000, 2000, 2000, 2000, 2000, 2000, 2000, 2000, 2000,\n",
       "       2000, 2000, 2000, 2000, 2000, 2000, 2000, 2000, 2000, 2000, 2000,\n",
       "       2000, 2000, 2000, 2000, 2000, 2000, 2000, 2000, 2000, 2000, 2000,\n",
       "       2000, 2000, 2000, 2000, 2000, 2000, 2000, 2000, 2000, 2750, 2750,\n",
       "       2750, 2750, 2750, 2750, 2750, 2750, 2750, 2750, 2750, 2750, 2750,\n",
       "       2750, 2750, 2750, 2750, 2750, 2750, 2750, 2750, 2750, 2750, 2750,\n",
       "       2750, 2750, 2750, 2750, 2750, 2750, 2750, 2750, 2750, 2750, 2750,\n",
       "       2750, 2750, 2750, 2750, 2750, 2750, 2750, 2750, 2750, 2750, 2750,\n",
       "       2750, 2750, 2750, 2750, 2750, 2750, 2750, 2750, 2750, 2750, 2750,\n",
       "       2750, 2750, 2750, 2750, 2750, 2750, 2750, 2750, 2750, 2750, 2750,\n",
       "       2750, 2750, 2750, 2750, 2750, 2750, 2750, 2750, 2750, 2750, 2750,\n",
       "       2750, 2750, 2750, 2750, 4300, 4300, 4300, 4300, 4300, 4300, 4300,\n",
       "       4300, 4300, 4300, 4300, 4300, 4300, 4300, 4300, 4300, 4300, 4300,\n",
       "       4300, 4300, 4300, 4300, 4300, 4300, 4300, 4300, 4300, 4300, 4300,\n",
       "       4300, 4300, 4300, 4300, 4300, 4300, 4300, 4300, 4300, 4300, 3200,\n",
       "       3200, 3200, 3200, 3200, 3200, 3200, 3200, 3200, 3200, 3200, 3200,\n",
       "       3200, 3200, 3200, 3200, 3200, 3200, 3200, 3200, 3200, 3200, 3200,\n",
       "       3200, 3200, 3200, 3200, 3200, 3200, 3200, 3200, 3200, 3200, 3200,\n",
       "       3200, 3200, 3200, 3200, 3200, 3200, 3200, 3200, 3200, 3200, 3200,\n",
       "       3200, 3200, 3200, 3200, 3200, 3200, 3200, 3200, 3200, 3200, 3200,\n",
       "       3200, 3200, 3200, 3200, 3200, 3200, 3200, 3200, 3200, 3200, 3200,\n",
       "       3200, 3200, 3200, 3200, 3200, 3200, 3200, 3200, 3200, 3200, 3200,\n",
       "       3200, 3200, 3200, 3200, 3200, 3200, 3200, 3200, 3200, 3200, 3200,\n",
       "       3200, 3200, 3200, 3200, 3200, 3200, 3200, 3200, 3200, 3200, 3200,\n",
       "       3200, 3200, 3200, 3200, 3200, 3200, 3200, 3200, 3200, 3200, 3200,\n",
       "       3200, 3200, 3200, 3200, 3200, 3200, 3200, 3200, 3200, 3200, 3200,\n",
       "       3200, 3200, 3200, 3200, 3200, 3200, 3200, 3200, 3200, 3200, 3200,\n",
       "       3200, 3200, 3200, 3200, 3200, 3200, 3200, 3200, 3200, 3200, 3200,\n",
       "       3200, 3200, 3200, 3200, 3200, 3200, 3200, 3200, 3200, 3200, 3200,\n",
       "       3200, 3200, 3200, 3200, 3200, 3200, 3200, 3200, 3200, 3200, 3200,\n",
       "       3200, 3200, 3200, 3200, 3200, 3200, 3200, 3200, 3200, 3200, 3200,\n",
       "       3200, 3200, 3200, 3200, 3200, 3200, 3200, 3200, 3200, 3200, 3200,\n",
       "       3200, 3200, 3200, 3200, 3200, 3200, 3200, 3200, 3200, 3200, 3200,\n",
       "       3200, 3200, 3200, 3200, 3200, 3200, 3200, 3200, 3200, 3200, 3200,\n",
       "       3200, 3200, 3200, 3200, 3200, 3200, 3200, 3200, 3200, 3200, 3200,\n",
       "       3200, 3200, 3200, 3200, 3200, 3200, 3200, 3200, 3200, 3200, 3200,\n",
       "       3200, 3200, 3200, 3200, 3200, 3200, 3200, 3200, 3200, 3200, 3200,\n",
       "       3200, 3200, 3200, 3200, 3200, 3200, 3200, 3200, 3200, 3200, 3200,\n",
       "       3200, 3200, 3200, 3200, 3200, 3200, 3200, 3200, 3200, 3200, 3200,\n",
       "       3200, 3200, 3200, 3200, 3200, 3200, 3200, 3200, 3200, 3200, 3200,\n",
       "       3200, 3200, 3200, 3200, 3200, 3200, 3200, 3200, 3200, 3200, 3200,\n",
       "       3200, 3200, 3200, 3200, 3200, 3200, 3200, 3200, 3200, 3200, 3200,\n",
       "       3200, 3200, 3200, 3200, 3200, 3200], dtype=uint16)"
      ]
     },
     "execution_count": 38,
     "metadata": {},
     "output_type": "execute_result"
    }
   ],
   "source": [
    "vp[:,350]"
   ]
  },
  {
   "cell_type": "code",
   "execution_count": 33,
   "metadata": {},
   "outputs": [],
   "source": [
    "vp = np.where(vp==127,2000,vp)\n",
    "vp = np.where(vp==36,2750,vp)\n",
    "vp = np.where(vp==76,2900,vp)\n",
    "vp = np.where(vp==14,4300,vp)\n",
    "vp = np.where(vp==231,3200,vp)\n",
    "# vp = np.where(vp==14,5500,vp)"
   ]
  },
  {
   "cell_type": "code",
   "execution_count": 42,
   "metadata": {},
   "outputs": [
    {
     "data": {
      "text/plain": [
       "<matplotlib.image.AxesImage at 0x1d30daa3978>"
      ]
     },
     "execution_count": 42,
     "metadata": {},
     "output_type": "execute_result"
    },
    {
     "data": {
      "image/png": "[encoded data removed]",
      "text/plain": [
       "<Figure size 432x288 with 1 Axes>"
      ]
     },
     "metadata": {
      "needs_background": "light"
     },
     "output_type": "display_data"
    }
   ],
   "source": [
    "plt.imshow(vp)"
   ]
  },
  {
   "cell_type": "code",
   "execution_count": 39,
   "metadata": {},
   "outputs": [
    {
     "data": {
      "text/plain": [
       "0"
      ]
     },
     "execution_count": 39,
     "metadata": {},
     "output_type": "execute_result"
    }
   ],
   "source": [
    "len(np.where(vp == 0)[0])"
   ]
  },
  {
   "cell_type": "code",
   "execution_count": 40,
   "metadata": {},
   "outputs": [
    {
     "data": {
      "text/plain": [
       "(array([], dtype=int64), array([], dtype=int64))"
      ]
     },
     "execution_count": 40,
     "metadata": {},
     "output_type": "execute_result"
    }
   ],
   "source": [
    "np.where(vp == 0)"
   ]
  },
  {
   "cell_type": "code",
   "execution_count": 11,
   "metadata": {},
   "outputs": [
    {
     "data": {
      "text/plain": [
       "(400, 600)"
      ]
     },
     "execution_count": 11,
     "metadata": {},
     "output_type": "execute_result"
    }
   ],
   "source": [
    "vp.shape"
   ]
  },
  {
   "cell_type": "code",
   "execution_count": 41,
   "metadata": {},
   "outputs": [],
   "source": [
    "for i in range(vp.shape[0]):\n",
    "    for j in range(vp.shape[1]):\n",
    "        if vp[i,j]!=2000 and vp[i,j]!=2750 and vp[i,j]!=2900 and vp[i,j]!=4300 and vp[i,j]!=3200:\n",
    "            vp[i,j] = vp[i-1,j]"
   ]
  },
  {
   "cell_type": "code",
   "execution_count": 43,
   "metadata": {},
   "outputs": [],
   "source": [
    "rho = np.where(vp==2000,1930,vp)\n",
    "rho = np.where(rho==2750,2650,rho)\n",
    "rho = np.where(rho==3200,2950,rho)\n",
    "rho = np.where(rho==4300,4180,rho)\n",
    "rho = np.where(rho==2900,2710,rho)"
   ]
  },
  {
   "cell_type": "code",
   "execution_count": 44,
   "metadata": {},
   "outputs": [
    {
     "data": {
      "text/plain": [
       "<matplotlib.image.AxesImage at 0x1d30daffa90>"
      ]
     },
     "execution_count": 44,
     "metadata": {},
     "output_type": "execute_result"
    },
    {
     "data": {
      "image/png": "[encoded data removed]",
      "text/plain": [
       "<Figure size 432x288 with 1 Axes>"
      ]
     },
     "metadata": {
      "needs_background": "light"
     },
     "output_type": "display_data"
    }
   ],
   "source": [
    "plt.imshow(rho)"
   ]
  },
  {
   "cell_type": "code",
   "execution_count": 45,
   "metadata": {},
   "outputs": [
    {
     "data": {
      "text/plain": [
       "array([1930, 1930, 1930, 1930, 1930, 1930, 1930, 1930, 1930, 1930, 1930,\n",
       "       1930, 1930, 1930, 1930, 1930, 1930, 1930, 1930, 1930, 1930, 1930,\n",
       "       1930, 1930, 1930, 1930, 1930, 1930, 1930, 1930, 1930, 1930, 1930,\n",
       "       1930, 1930, 1930, 1930, 1930, 1930, 1930, 1930, 1930, 1930, 1930,\n",
       "       1930, 1930, 1930, 1930, 1930, 1930, 1930, 1930, 1930, 1930, 1930,\n",
       "       1930, 1930, 1930, 1930, 1930, 1930, 1930, 1930, 1930, 1930, 1930,\n",
       "       1930, 1930, 1930, 1930, 1930, 1930, 1930, 1930, 1930, 1930, 1930,\n",
       "       1930, 1930, 1930, 1930, 1930, 1930, 1930, 1930, 1930, 1930, 1930,\n",
       "       1930, 1930, 1930, 1930, 1930, 1930, 1930, 1930, 1930, 1930, 1930,\n",
       "       1930, 1930, 1930, 1930, 1930, 1930, 1930, 1930, 1930, 1930, 1930,\n",
       "       1930, 1930, 1930, 1930, 1930, 1930, 1930, 1930, 1930, 1930, 1930,\n",
       "       1930, 1930, 1930, 1930, 1930, 1930, 1930, 1930, 1930, 1930, 1930,\n",
       "       1930, 1930, 1930, 1930, 1930, 1930, 1930, 1930, 1930, 1930, 1930,\n",
       "       1930, 1930, 1930, 1930, 1930, 1930, 1930, 1930, 1930, 1930, 1930,\n",
       "       1930, 1930, 1930, 1930, 1930, 1930, 1930, 1930, 1930, 1930, 1930,\n",
       "       1930, 1930, 1930, 1930, 1930, 1930, 1930, 1930, 1930, 1930, 1930,\n",
       "       1930, 1930, 2650, 2650, 2650, 2650, 2650, 2650, 2650, 2650, 2650,\n",
       "       2650, 2650, 2650, 2650, 2650, 2650, 2650, 2650, 2650, 2650, 2650,\n",
       "       2650, 2650, 2650, 2650, 2650, 2650, 2650, 2650, 2650, 2650, 2650,\n",
       "       2650, 2650, 2650, 2650, 2650, 2650, 2650, 2650, 2650, 2650, 2650,\n",
       "       2650, 2650, 2650, 2650, 2650, 2650, 2650, 2650, 2650, 2650, 2650,\n",
       "       2650, 2650, 2650, 2650, 2650, 2650, 2650, 2650, 2650, 2650, 2650,\n",
       "       2650, 2650, 2650, 2650, 2650, 2650, 2650, 2650, 2650, 2650, 2650,\n",
       "       2650, 2650, 2650, 2650, 2650, 2650, 2650, 2650, 2650, 2650, 2650,\n",
       "       2650, 2650, 2650, 2650, 2650, 2710, 2710, 2710, 2710, 2710, 2710,\n",
       "       2710, 2710, 2710, 2710, 2710, 2710, 2710, 2710, 2710, 2710, 2710,\n",
       "       2710, 2710, 2710, 2710, 2710, 2710, 2710, 2710, 2710, 2710, 2710,\n",
       "       2710, 2710, 2710, 2710, 2710, 2710, 2710, 2710, 2710, 2710, 2710,\n",
       "       2710, 2710, 2710, 2710, 2710, 2710, 2710, 2710, 2710, 2710, 2710,\n",
       "       2710, 2950, 2950, 2950, 2950, 2950, 2950, 2950, 2950, 2950, 2950,\n",
       "       2950, 2950, 2950, 2950, 2950, 2950, 2950, 2950, 2950, 2950, 2950,\n",
       "       2950, 2950, 2950, 2950, 2950, 2950, 2950, 2950, 2950, 2950, 2950,\n",
       "       2950, 2950, 2950, 2950, 2950, 2950, 2950, 2950, 2950, 2950, 2950,\n",
       "       2950, 2950, 2950, 2950, 2950, 2950, 2950, 2950, 2950, 2950, 2950,\n",
       "       2950, 2950, 2950, 2950, 2950, 2950, 2950, 2950, 2950, 2950, 2950,\n",
       "       2950, 2950, 2950, 2950, 2950, 2950, 2950, 2950, 2950, 2950, 2950,\n",
       "       2950, 2950, 2950, 2950, 2950, 2950, 2950, 2950, 2950, 2950, 2950,\n",
       "       2950, 2950, 2950, 2950, 2950, 2950, 2950, 2950, 2950, 2950, 2950,\n",
       "       2950, 2950, 2950, 2950, 2950, 2950, 2950, 2950, 2950, 2950, 2950,\n",
       "       2950, 2950, 2950, 2950, 2950, 2950, 2950, 2950, 2950, 2950, 2950,\n",
       "       2950, 2950, 2950, 2950, 2950, 2950, 2950, 2950, 2950, 2950, 2950,\n",
       "       2950, 2950, 2950, 2950, 2950, 2950, 2950, 2950, 2950, 2950, 2950,\n",
       "       2950, 2950, 2950, 2950, 2950, 2950, 2950, 2950, 2950, 2950, 2950,\n",
       "       2950, 2950, 2950, 2950, 2950, 2950, 2950, 2950, 2950, 2950, 2950,\n",
       "       2950, 2950, 2950, 2950, 2950, 2950, 2950, 2950, 2950, 2950, 2950,\n",
       "       2950, 2950, 2950, 2950, 2950, 2950, 2950, 2950, 2950, 2950, 2950,\n",
       "       2950, 2950, 2950, 2950, 2950, 2950, 2950, 2950, 2950, 2950, 2950,\n",
       "       2950, 2950, 2950, 2950, 2950, 2950, 2950, 2950, 2950, 2950, 2950,\n",
       "       2950, 2950, 2950, 2950, 2950, 2950, 2950, 2950, 2950, 2950, 2950,\n",
       "       2950, 2950, 2950, 2950, 2950, 2950, 2950, 2950, 2950, 2950, 2950,\n",
       "       2950, 2950, 2950, 2950, 2950, 2950, 2950, 2950, 2950, 2950, 2950,\n",
       "       2950, 2950, 2950, 2950, 2950, 2950, 2950, 2950, 2950, 2950, 2950,\n",
       "       2950, 2950, 2950, 2950, 2950, 2950, 2950, 2950, 2950, 2950, 2950,\n",
       "       2950, 2950, 2950, 2950, 2950, 2950, 2950, 2950, 2950, 2950, 2950,\n",
       "       2950, 2950, 2950, 2950, 2950, 2950], dtype=uint16)"
      ]
     },
     "execution_count": 45,
     "metadata": {},
     "output_type": "execute_result"
    }
   ],
   "source": [
    "rho[:,300]"
   ]
  },
  {
   "cell_type": "code",
   "execution_count": 134,
   "metadata": {},
   "outputs": [],
   "source": [
    "# np.save(r'C:\\Users\\zongzhimin\\Desktop\\model\\vp_1500_1000',vp)"
   ]
  },
  {
   "cell_type": "code",
   "execution_count": 46,
   "metadata": {},
   "outputs": [
    {
     "data": {
      "text/plain": [
       "(600, 600)"
      ]
     },
     "execution_count": 46,
     "metadata": {},
     "output_type": "execute_result"
    }
   ],
   "source": [
    "vp.shape"
   ]
  },
  {
   "cell_type": "code",
   "execution_count": 47,
   "metadata": {},
   "outputs": [],
   "source": [
    "vpdata = vp"
   ]
  },
  {
   "cell_type": "code",
   "execution_count": 48,
   "metadata": {},
   "outputs": [],
   "source": [
    "vs = vp / np.sqrt(3)"
   ]
  },
  {
   "cell_type": "code",
   "execution_count": 49,
   "metadata": {},
   "outputs": [],
   "source": [
    "vs = vs.astype(np.float32)\n",
    "vp = vp.astype(np.float32)\n",
    "rho = rho.astype(np.float32)"
   ]
  },
  {
   "cell_type": "code",
   "execution_count": 50,
   "metadata": {},
   "outputs": [
    {
     "data": {
      "text/plain": [
       "(dtype('float32'), dtype('float32'), dtype('float32'))"
      ]
     },
     "execution_count": 50,
     "metadata": {},
     "output_type": "execute_result"
    }
   ],
   "source": [
    "vs.dtype,vp.dtype,rho.dtype"
   ]
  },
  {
   "cell_type": "code",
   "execution_count": 51,
   "metadata": {},
   "outputs": [],
   "source": [
    "vs.T.tofile(r'C:\\Users\\zongzhimin\\Desktop\\model\\model2\\m_2.vs')\n",
    "vp.T.tofile(r'C:\\Users\\zongzhimin\\Desktop\\model\\model2\\m_2.vp')\n",
    "rho.T.tofile(r'C:\\Users\\zongzhimin\\Desktop\\model\\model2\\m_2.rho')"
   ]
  },
  {
   "cell_type": "code",
   "execution_count": 52,
   "metadata": {},
   "outputs": [],
   "source": [
    "np.savetxt(r'C:\\Users\\zongzhimin\\Desktop\\model\\model2\\vp_2.txt',vp)\n",
    "np.savetxt(r'C:\\Users\\zongzhimin\\Desktop\\model\\model2\\vs_2.txt',vs)\n",
    "np.savetxt(r'C:\\Users\\zongzhimin\\Desktop\\model\\model2\\rho_2.txt',rho)"
   ]
  },
  {
   "cell_type": "code",
   "execution_count": 54,
   "metadata": {},
   "outputs": [],
   "source": [
    "vs1 = np.fromfile(r'C:\\Users\\zongzhimin\\Desktop\\model\\model2\\m_1.vs',dtype=np.float32)\n",
    "vp1 = np.fromfile(r'C:\\Users\\zongzhimin\\Desktop\\model\\model2\\m_1.vp',dtype=np.float32)\n",
    "rho1 = np.fromfile(r'C:\\Users\\zongzhimin\\Desktop\\model\\model2\\m_1.rho',dtype=np.float32)"
   ]
  },
  {
   "cell_type": "code",
   "execution_count": 57,
   "metadata": {},
   "outputs": [
    {
     "data": {
      "text/plain": [
       "<matplotlib.image.AxesImage at 0x1d30df12fd0>"
      ]
     },
     "execution_count": 57,
     "metadata": {},
     "output_type": "execute_result"
    },
    {
     "data": {
      "image/png": "[encoded data removed]",
      "text/plain": [
       "<Figure size 432x288 with 1 Axes>"
      ]
     },
     "metadata": {
      "needs_background": "light"
     },
     "output_type": "display_data"
    }
   ],
   "source": [
    "plt.imshow(vs1.reshape((600,400)).T)"
   ]
  }
 ],
 "metadata": {
  "kernelspec": {
   "display_name": "Python 3",
   "language": "python",
   "name": "python3"
  },
  "language_info": {
   "codemirror_mode": {
    "name": "ipython",
    "version": 3
   },
   "file_extension": ".py",
   "mimetype": "text/x-python",
   "name": "python",
   "nbconvert_exporter": "python",
   "pygments_lexer": "ipython3",
   "version": "3.7.3"
  }
 },
 "nbformat": 4,
 "nbformat_minor": 1
}