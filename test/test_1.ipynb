{
 "cells": [
  {
   "cell_type": "code",
   "execution_count": 1,
   "metadata": {},
   "outputs": [],
   "source": [
    "import imageio\n",
    "from PIL import Image\n",
    "import matplotlib.pyplot as plt\n",
    "import numpy as np"
   ]
  },
  {
   "cell_type": "code",
   "execution_count": 27,
   "metadata": {},
   "outputs": [],
   "source": [
    "content_image = imageio.imread(r\"C:\\Users\\zongzhimin\\Desktop\\model\\model2\\model_2.bmp\")"
   ]
  },
  {
   "cell_type": "code",
   "execution_count": 28,
   "metadata": {},
   "outputs": [
    {
     "data": {
      "text/plain": [
       "(646, 642, 3)"
      ]
     },
     "execution_count": 28,
     "metadata": {},
     "output_type": "execute_result"
    }
   ],
   "source": [
    "content_image.shape"
   ]
  },
  {
   "cell_type": "code",
   "execution_count": 29,
   "metadata": {},
   "outputs": [],
   "source": [
    "vp = content_image[:600,:600,2]"
   ]
  },
  {
   "cell_type": "code",
   "execution_count": 30,
   "metadata": {},
   "outputs": [
    {
     "data": {
      "text/plain": [
       "<matplotlib.image.AxesImage at 0x1d30d987518>"
      ]
     },
     "execution_count": 30,
     "metadata": {},
     "output_type": "execute_result"
    },
    {
     "data": {
      "image/png": "[encoded data removed]",
      "text/plain": [
       "<Figure size 432x288 with 1 Axes>"
      ]
     },
     "metadata": {
      "needs_background": "light"
     },
     "output_type": "display_data"
    }
   ],
   "source": [
    "plt.imshow(vp)"
   ]
  },
  {
   "cell_type": "code",
   "execution_count": 38,
   "metadata": {
    "scrolled": true
   },
   "outputs": [
    {
     "data": {
      "text/plain": [
       "array([2000, 2000, 2000, 2000, 2000, 2000, 2000, 2000, 2000, 2000, 2000,\n",
       "       2000, 2000, 2000, 2000, 2000, 2000, 2000, 2000, 2000, 2000, 2000,\n",
       "       2000, 2000, 2000, 2000, 2000, 2000, 2000, 2000, 2000, 2000, 2000,\n",
       "       2000, 2000, 2000, 2000, 2000, 2000, 2000, 2000, 2000, 2000, 2000,\n",
       "       2000, 2000, 2000, 2000, 2000, 2000, 2000, 2000, 2000, 2000, 2000,\n",
       "       2000, 2000, 2000, 2000, 2000, 2000, 2000, 2000, 2000, 2000, 2000,\n",
       "       2000, 2000, 2000, 2000, 2000, 2000, 2000, 2000, 2000, 2000, 2000,\n",
       "       2000, 2000, 2000, 2000, 2000, 2000, 2000, 2000, 2000, 2000, 2000,\n",
       "       2000, 2000, 2000, 2000, 2000, 2000, 2000, 2000, 2000, 2000, 2000,\n",
       "       2000, 2000, 2000, 2000, 2000, 2000, 2000, 2000, 2000, 2000, 2000,\n",
       "       2000, 2000, 2000, 2000, 2000, 2000, 2000, 2000, 2000, 2000, 2000,\n",
       "       2000, 2000, 2000, 2000, 2000, 2000, 2000, 2000, 2000, 2000, 2000,\n",
       "       2000, 2000, 2000, 2000, 2000, 2000, 2000, 2000, 2000, 2000, 2000,\n",
       "       2000, 2000, 2000, 2000, 2000, 2000, 2000, 2000, 2000, 2000, 2000,\n",
       "       2000, 2000, 2000, 2000, 2000, 2000, 2000, 2000, 2000, 2000, 2000,\n",
       "       2000, 2000, 2000, 2000, 2000, 2000, 2000, 2000, 2000, 2750, 2750,\n",
       "       2750, 2750, 2750, 2750, 2750, 2750, 2750, 2750, 2750, 2750, 2750,\n",
       "       2750, 2750, 2750, 2750, 2750, 2750, 2750, 2750, 2750, 2750, 2750,\n",
       "       2750, 2750, 2750, 2750, 2750, 2750, 2750, 2750, 2750, 2750, 2750,\n",
       "       2750, 2750, 2750, 2750, 2750, 2750, 2750, 2750, 2750, 2750, 2750,\n",
       "       2750, 2750, 2750, 2750, 2750, 2750, 2750, 2750, 2750, 2750, 2750,\n",
       "       2750, 2750, 2750, 2750, 2750, 2750, 2750, 2750, 2750, 2750, 2750,\n",
       "       2750, 2750, 2750, 2750, 2750, 2750, 2750, 2750, 2750, 2750, 2750,\n",
       "       2750, 2750, 2750, 2750, 4300, 4300, 4300, 4300, 4300, 4300, 4300,\n",
       "       4300, 4300, 4300, 4300, 4300, 4300, 4300, 4300, 4300, 4300, 4300,\n",
       "       4300, 4300, 4300, 4300, 4300, 4300, 4300, 4300, 4300, 4300, 4300,\n",
       "       4300, 4300, 4300, 4300, 4300, 4300, 4300, 4300, 4300, 4300, 3200,\n",
       "       3200, 3200, 3200, 3200, 3200, 3200, 3200, 3200, 3200, 3200, 3200,\n",
       "       3200, 3200, 3200, 3200, 3200, 3200, 3200, 3200, 3200, 3200, 3200,\n",
       "       3200, 3200, 3200, 3200, 3200, 3200, 3200, 3200, 3200, 3200, 3200,\n",
       "       3200, 3200, 3200, 3200, 3200, 3200, 3200, 3200, 3200, 3200, 3200,\n",
       "       3200, 3200, 3200, 3200, 3200, 3200, 3200, 3200, 3200, 3200, 3200,\n",
       "       3200, 3200, 3200, 3200, 3200, 3200, 3200, 3200, 3200, 3200, 3200,\n",
       "       3200, 3200, 3200, 3200, 3200, 3200, 3200, 3200, 3200, 3200, 3200,\n",
       "       3200, 3200, 3200, 3200, 3200, 3200, 3200, 3200, 3200, 3200, 3200,\n",
       "       3200, 3200, 3200, 3200, 3200, 3200, 3200, 3200, 3200, 3200, 3200,\n",
       "       3200, 3200, 3200, 3200, 3200, 3200, 3200, 3200, 3200, 3200, 3200,\n",
       "       3200, 3200, 3200, 3200, 3200, 3200, 3200, 3200, 3200, 3200, 3200,\n",
       "       3200, 3200, 3200, 3200, 3200, 3200, 3200, 3200, 3200, 3200, 3200,\n",
       "       3200, 3200, 3200, 3200, 3200, 3200, 3200, 3200, 3200, 3200, 3200,\n",
       "       3200, 3200, 3200, 3200, 3200, 3200, 3200, 3200, 3200, 3200, 3200,\n",
       "       3200, 3200, 3200, 3200, 3200, 3200, 3200, 3200, 3200, 3200, 3200,\n",
       "       3200, 3200, 3200, 3200, 3200, 3200, 3200, 3200, 3200, 3200, 3200,\n",
       "       3200, 3200, 3200, 3200, 3200, 3200, 3200, 3200, 3200, 3200, 3200,\n",
       "       3200, 3200, 3200, 3200, 3200, 3200, 3200, 3200, 3200, 3200, 3200,\n",
       "       3200, 3200, 3200, 3200, 3200, 3200, 3200, 3200, 3200, 3200, 3200,\n",
       "       3200, 3200, 3200, 3200, 3200, 3200, 3200, 3200, 3200, 3200, 3200,\n",
       "       3200, 3200, 3200, 3200, 3200, 3200, 3200, 3200, 3200, 3200, 3200,\n",
       "       3200, 3200, 3200, 3200, 3200, 3200, 3200, 3200, 3200, 3200, 3200,\n",
       "       3200, 3200, 3200, 3200, 3200, 3200, 3200, 3200, 3200, 3200, 3200,\n",
       "       3200, 3200, 3200, 3200, 3200, 3200, 3200, 3200, 3200, 3200, 3200,\n",
       "       3200, 3200, 3200, 3200, 3200, 3200, 3200, 3200, 3200, 3200, 3200,\n",
       "       3200, 3200, 3200, 3200, 3200, 3200, 3200, 3200, 3200, 3200, 3200,\n",
       "       3200, 3200, 3200, 3200, 3200, 3200, 3200, 3200, 3200, 3200, 3200,\n",
       "       3200, 3200, 3200, 3200, 3200, 3200], dtype=uint16)"
      ]
     },
     "execution_count": 38,
     "metadata": {},
     "output_type": "execute_result"
    }
   ],
   "source": [
    "vp[:,350]"
   ]
  },
  {
   "cell_type": "code",
   "execution_count": 33,
   "metadata": {},
   "outputs": [],
   "source": [
    "vp = np.where(vp==127,2000,vp)\n",
    "vp = np.where(vp==36,2750,vp)\n",
    "vp = np.where(vp==76,2900,vp)\n",
    "vp = np.where(vp==14,4300,vp)\n",
    "vp = np.where(vp==231,3200,vp)\n",
    "# vp = np.where(vp==14,5500,vp)"
   ]
  },
  {
   "cell_type": "code",
   "execution_count": 42,
   "metadata": {},
   "outputs": [
    {
     "data": {
      "text/plain": [
       "<matplotlib.image.AxesImage at 0x1d30daa3978>"
      ]
     },
     "execution_count": 42,
     "metadata": {},
     "output_type": "execute_result"
    },
    {
     "data": {
      "image/png": "[encoded data removed]",
      "text/plain": [
       "<Figure size 432x288 with 1 Axes>"
      ]
     },
     "metadata": {
      "needs_background": "light"
     },
     "output_type": "display_data"
    }
   ],
   "source": [
    "plt.imshow(vp)"
   ]
  },
  {
   "cell_type": "code",
   "execution_count": 39,
   "metadata": {},
   "outputs": [
    {
     "data": {
      "text/plain": [
       "0"
      ]
     },
     "execution_count": 39,
     "metadata": {},
     "output_type": "execute_result"
    }
   ],
   "source": [
    "len(np.where(vp == 0)[0])"
   ]
  },
  {
   "cell_type": "code",
   "execution_count": 40,
   "metadata": {},
   "outputs": [
    {
     "data": {
      "text/plain": [
       "(array([], dtype=int64), array([], dtype=int64))"
      ]
     },
     "execution_count": 40,
     "metadata": {},
     "output_type": "execute_result"
    }
   ],
   "source": [
    "np.where(vp == 0)"
   ]
  },
  {
   "cell_type": "code",
   "execution_count": 11,
   "metadata": {},
   "outputs": [
    {
     "data": {
      "text/plain": [
       "(400, 600)"
      ]
     },
     "execution_count": 11,
     "metadata": {},
     "output_type": "execute_result"
    }
   ],
   "source": [
    "vp.shape"
   ]
  },
  {
   "cell_type": "code",
   "execution_count": 41,
   "metadata": {},
   "outputs": [],
   "source": [
    "for i in range(vp.shape[0]):\n",
    "    for j in range(vp.shape[1]):\n",
    "        if vp[i,j]!=2000 and vp[i,j]!=2750 and vp[i,j]!=2900 and vp[i,j]!=4300 and vp[i,j]!=3200:\n",
    "            vp[i,j] = vp[i-1,j]"
   ]
  },
  {
   "cell_type": "code",
   "execution_count": 43,
   "metadata": {},
   "outputs": [],
   "source": [
    "rho = np.where(vp==2000,1930,vp)\n",
    "rho = np.where(rho==2750,2650,rho)\n",
    "rho = np.where(rho==3200,2950,rho)\n",
    "rho = np.where(rho==4300,4180,rho)\n",
    "rho = np.where(rho==2900,2710,rho)"
   ]
  },
  {
   "cell_type": "code",
   "execution_count": 44,
   "metadata": {},
   "outputs": [
    {
     "data": {
      "text/plain": [
       "<matplotlib.image.AxesImage at 0x1d30daffa90>"
      ]
     },
     "execution_count": 44,
     "metadata": {},
     "output_type": "execute_result"
    },
    {
     "data": {
      "image/png": "[encoded data removed]",
      "text/plain": [
       "<Figure size 432x288 with 1 Axes>"
      ]
     },
     "metadata": {
      "needs_background": "light"
     },
     "output_type": "display_data"
    }
   ],
   "source": [
    "plt.imshow(rho)"
   ]
  },
  {
   "cell_type": "code",
   "execution_count": 45,
   "metadata": {},
   "outputs": [
    {
     "data": {
      "text/plain": [
       "array([1930, 1930, 1930, 1930, 1930, 1930, 1930, 1930, 1930, 1930, 1930,\n",
       "       1930, 1930, 1930, 1930, 1930, 1930, 1930, 1930, 1930, 1930, 1930,\n",
       "       1930, 1930, 1930, 1930, 1930, 1930, 1930, 1930, 1930, 1930, 1930,\n",
       "       1930, 1930, 1930, 1930, 1930, 1930, 1930, 1930, 1930, 1930, 1930,\n",
       "       1930, 1930, 1930, 1930, 1930, 1930, 1930, 1930, 1930, 1930, 1930,\n",
       "       1930, 1930, 1930, 1930, 1930, 1930, 1930, 1930, 1930, 1930, 1930,\n",
       "       1930, 1930, 1930, 1930, 1930, 1930, 1930, 1930, 1930, 1930, 1930,\n",
       "       1930, 1930, 1930, 1930, 1930, 1930, 1930, 1930, 1930, 1930, 1930,\n",
       "       1930, 1930, 1930, 1930, 1930, 1930, 1930, 1930, 1930, 1930, 1930,\n",
       "       1930, 1930, 1930, 1930, 1930, 1930, 1930, 1930, 1930, 1930, 1930,\n",
       "       1930, 1930, 1930, 1930, 1930, 1930, 1930, 1930, 1930, 1930, 1930,\n",
       "       1930, 1930, 1930, 1930, 1930, 1930, 1930, 1930, 1930, 1930, 1930,\n",
       "       1930, 1930, 1930, 1930, 1930, 1930, 1930, 1930, 1930, 1930, 1930,\n",
       "       1930, 1930, 1930, 1930, 1930, 1930, 1930, 1930, 1930, 1930, 1930,\n",
       "       1930, 1930, 1930, 1930, 1930, 1930, 1930, 1930, 1930, 1930, 1930,\n",
       "       1930, 1930, 1930, 1930, 1930, 1930, 1930, 1930, 1930, 1930, 1930,\n",
       "       1930, 1930, 2650, 2650, 2650, 2650, 2650, 2650, 2650, 2650, 2650,\n",
       "       2650, 2650, 2650, 2650, 2650, 2650, 2650, 2650, 2650, 2650, 2650,\n",
       "       2650, 2650, 2650, 2650, 2650, 2650, 2650, 2650, 2650, 2650, 2650,\n",
       "       2650, 2650, 2650, 2650, 2650, 2650, 2650, 2650, 2650, 2650, 2650,\n",
       "       2650, 2650, 2650, 2650, 2650, 2650, 2650, 2650, 2650, 2650, 2650,\n",
       "       2650, 2650, 2650, 2650, 2650, 2650, 2650, 2650, 2650, 2650, 2650,\n",
       "       2650, 2650, 2650, 2650, 2650, 2650, 2650, 2650, 2650, 2650, 2650,\n",
       "       2650, 2650, 2650, 2650, 2650, 2650, 2650, 2650, 2650, 2650, 2650,\n",
       "       2650, 2650, 2650, 2650, 2650, 2710, 2710, 2710, 2710, 2710, 2710,\n",
       "       2710, 2710, 2710, 2710, 2710, 2710, 2710, 2710, 2710, 2710, 2710,\n",
       "       2710, 2710, 2710, 2710, 2710, 2710, 2710, 2710, 2710, 2710, 2710,\n",
       "       2710, 2710, 2710, 2710, 2710, 2710, 2710, 2710, 2710, 2710, 2710,\n",
       "       2710, 2710, 2710, 2710, 2710, 2710, 2710, 2710, 2710, 2710, 2710,\n",
       "       2710, 2950, 2950, 2950, 2950, 2950, 2950, 2950, 2950, 2950, 2950,\n",
       "       2950, 2950, 2950, 2950, 2950, 2950, 2950, 2950, 2950, 2950, 2950,\n",
       "       2950, 2950, 2950, 2950, 2950, 2950, 2950, 2950, 2950, 2950, 2950,\n",
       "       2950, 2950, 2950, 2950, 2950, 2950, 2950, 2950, 2950, 2950, 2950,\n",
       "       2950, 2950, 2950, 2950, 2950, 2950, 2950, 2950, 2950, 2950, 2950,\n",
       "       2950, 2950, 2950, 2950, 2950, 2950, 2950, 2950, 2950, 2950, 2950,\n",
       "       2950, 2950, 2950, 2950, 2950, 2950, 2950, 2950, 2950, 2950, 2950,\n",
       "       2950, 2950, 2950, 2950, 2950, 2950, 2950, 2950, 2950, 2950, 2950,\n",
       "       2950, 2950, 2950, 2950, 2950, 2950, 2950, 2950, 2950, 2950, 2950,\n",
       "       2950, 2950, 2950, 2950, 2950, 2950, 2950, 2950, 2950, 2950, 2950,\n",
       "       2950, 2950, 2950, 2950, 2950, 2950, 2950, 2950, 2950, 2950, 2950,\n",
       "       2950, 2950, 2950, 2950, 2950, 2950, 2950, 2950, 2950, 2950, 2950,\n",
       "       2950, 2950, 2950, 2950, 2950, 2950, 2950, 2950, 2950, 2950, 2950,\n",
       "       2950, 2950, 2950, 2950, 2950, 2950, 2950, 2950, 2950, 2950, 2950,\n",
       "       2950, 2950, 2950, 2950, 2950, 2950, 2950, 2950, 2950, 2950, 2950,\n",
       "       2950, 2950, 2950, 2950, 2950, 2950, 2950, 2950, 2950, 2950, 2950,\n",
       "       2950, 2950, 2950, 2950, 2950, 2950, 2950, 2950, 2950, 2950, 2950,\n",
       "       2950, 2950, 2950, 2950, 2950, 2950, 2950, 2950, 2950, 2950, 2950,\n",
       "       2950, 2950, 2950, 2950, 2950, 2950, 2950, 2950, 2950, 2950, 2950,\n",
       "       2950, 2950, 2950, 2950, 2950, 2950, 2950, 2950, 2950, 2950, 2950,\n",
       "       2950, 2950, 2950, 2950, 2950, 2950, 2950, 2950, 2950, 2950, 2950,\n",
       "       2950, 2950, 2950, 2950, 2950, 2950, 2950, 2950, 2950, 2950, 2950,\n",
       "       2950, 2950, 2950, 2950, 2950, 2950, 2950, 2950, 2950, 2950, 2950,\n",
       "       2950, 2950, 2950, 2950, 2950, 2950, 2950, 2950, 2950, 2950, 2950,\n",
       "       2950, 2950, 2950, 2950, 2950, 2950, 2950, 2950, 2950, 2950, 2950,\n",
       "       2950, 2950, 2950, 2950, 2950, 2950], dtype=uint16)"
      ]
     },
     "execution_count": 45,
     "metadata": {},
     "output_type": "execute_result"
    }
   ],
   "source": [
    "rho[:,300]"
   ]
  },
  {
   "cell_type": "code",
   "execution_count": 134,
   "metadata": {},
   "outputs": [],
   "source": [
    "# np.save(r'C:\\Users\\zongzhimin\\Desktop\\model\\vp_1500_1000',vp)"
   ]
  },
  {
   "cell_type": "code",
   "execution_count": 46,
   "metadata": {},
   "outputs": [
    {
     "data": {
      "text/plain": [
       "(600, 600)"
      ]
     },
     "execution_count": 46,
     "metadata": {},
     "output_type": "execute_result"
    }
   ],
   "source": [
    "vp.shape"
   ]
  },
  {
   "cell_type": "code",
   "execution_count": 47,
   "metadata": {},
   "outputs": [],
   "source": [
    "vpdata = vp"
   ]
  },
  {
   "cell_type": "code",
   "execution_count": 48,
   "metadata": {},
   "outputs": [],
   "source": [
    "vs = vp / np.sqrt(3)"
   ]
  },
  {
   "cell_type": "code",
   "execution_count": 49,
   "metadata": {},
   "outputs": [],
   "source": [
    "vs = vs.astype(np.float32)\n",
    "vp = vp.astype(np.float32)\n",
    "rho = rho.astype(np.float32)"
   ]
  },
  {
   "cell_type": "code",
   "execution_count": 50,
   "metadata": {},
   "outputs": [
    {
     "data": {
      "text/plain": [
       "(dtype('float32'), dtype('float32'), dtype('float32'))"
      ]
     },
     "execution_count": 50,
     "metadata": {},
     "output_type": "execute_result"
    }
   ],
   "source": [
    "vs.dtype,vp.dtype,rho.dtype"
   ]
  },
  {
   "cell_type": "code",
   "execution_count": 51,
   "metadata": {},
   "outputs": [],
   "source": [
    "vs.T.tofile(r'C:\\Users\\zongzhimin\\Desktop\\model\\model2\\m_2.vs')\n",
    "vp.T.tofile(r'C:\\Users\\zongzhimin\\Desktop\\model\\model2\\m_2.vp')\n",
    "rho.T.tofile(r'C:\\Users\\zongzhimin\\Desktop\\model\\model2\\m_2.rho')"
   ]
  },
  {
   "cell_type": "code",
   "execution_count": 52,
   "metadata": {},
   "outputs": [],
   "source": [
    "np.savetxt(r'C:\\Users\\zongzhimin\\Desktop\\model\\model2\\vp_2.txt',vp)\n",
    "np.savetxt(r'C:\\Users\\zongzhimin\\Desktop\\model\\model2\\vs_2.txt',vs)\n",
    "np.savetxt(r'C:\\Users\\zongzhimin\\Desktop\\model\\model2\\rho_2.txt',rho)"
   ]
  },
  {
   "cell_type": "code",
   "execution_count": 54,
   "metadata": {},
   "outputs": [],
   "source": [
    "vs1 = np.fromfile(r'C:\\Users\\zongzhimin\\Desktop\\model\\model2\\m_1.vs',dtype=np.float32)\n",
    "vp1 = np.fromfile(r'C:\\Users\\zongzhimin\\Desktop\\model\\model2\\m_1.vp',dtype=np.float32)\n",
    "rho1 = np.fromfile(r'C:\\Users\\zongzhimin\\Desktop\\model\\model2\\m_1.rho',dtype=np.float32)"
   ]
  },
  {
   "cell_type": "code",
   "execution_count": 57,
   "metadata": {},
   "outputs": [
    {
     "data": {
      "text/plain": [
       "<matplotlib.image.AxesImage at 0x1d30df12fd0>"
      ]
     },
     "execution_count": 57,
     "metadata": {},
     "output_type": "execute_result"
    },
    {
     "data": {
      "image/png": "[encoded data removed]",
      "text/plain": [
       "<Figure size 432x288 with 1 Axes>"
      ]
     },
     "metadata": {
      "needs_background": "light"
     },
     "output_type": "display_data"
    }
   ],
   "source": [
    "plt.imshow(vs1.reshape((600,400)).T)"
   ]
  },
  {
   "cell_type": "code",
   "execution_count": 2,
   "metadata": {
    "pycharm": {
     "name": "#%%\n"
    }
   },
   "outputs": [],
   "source": [
    "import obspy"
   ]
  },
  {
   "cell_type": "code",
   "execution_count": 3,
   "metadata": {},
   "outputs": [
    {
     "name": "stderr",
     "output_type": "stream",
     "text": [
      "D:\\development\\Anaconda3\\lib\\site-packages\\obspy\\io\\segy\\core.py:366: UserWarning: CREATING TRACE HEADER\n",
      "  warnings.warn(\"CREATING TRACE HEADER\")\n"
     ]
    }
   ],
   "source": [
    "st = obspy.read(r'C:\\Users\\zongzhimin\\Desktop\\model2\\testdata\\su_y.su.shot'+str(1))\n",
    "st.write(r'C:\\Users\\zongzhimin\\Desktop\\model2\\testdata\\segy_y.shot'+str(1),format='segy')"
   ]
  },
  {
   "cell_type": "code",
   "execution_count": 94,
   "metadata": {
    "pycharm": {
     "name": "#%%\n"
    }
   },
   "outputs": [],
   "source": [
    "for i in range(1,77):\n",
    "    st = obspy.read(r'\\\\10.1.4.151\\share\\zzm\\data\\others\\model_1\\su_1500_100\\su_x.su.shot'+str(i))\n",
    "    st.write(r'\\\\10.1.4.151\\share\\zzm\\data\\others\\model_1\\segy_1500_1000\\segy_x.shot'+str(i),format='segy')"
   ]
  },
  {
   "cell_type": "code",
   "execution_count": 95,
   "metadata": {},
   "outputs": [],
   "source": [
    "for i in range(1,77):\n",
    "    st = obspy.read(r'\\\\10.1.4.151\\share\\zzm\\data\\others\\model_1\\su_1500_100\\su_y.su.shot'+str(i))\n",
    "    st.write(r'\\\\10.1.4.151\\share\\zzm\\data\\others\\model_1\\segy_1500_1000\\segy_y.shot'+str(i),format='segy')"
   ]
  },
  {
   "cell_type": "code",
   "execution_count": 11,
   "metadata": {},
   "outputs": [
    {
     "ename": "SEGYTraceReadingError",
     "evalue": "Too little data left in the file to unpack it according to\n                  its trace header. This is most likely either due to a wrong\n                  byte order or a corrupt file.",
     "output_type": "error",
     "traceback": [
      "\u001B[1;31m---------------------------------------------------------------------------\u001B[0m",
      "\u001B[1;31mSEGYTraceReadingError\u001B[0m                     Traceback (most recent call last)",
      "\u001B[1;32m<ipython-input-11-87c68bb6c46e>\u001B[0m in \u001B[0;36m<module>\u001B[1;34m\u001B[0m\n\u001B[1;32m----> 1\u001B[1;33m \u001B[0ms\u001B[0m \u001B[1;33m=\u001B[0m \u001B[0mobspy\u001B[0m\u001B[1;33m.\u001B[0m\u001B[0mread\u001B[0m\u001B[1;33m(\u001B[0m\u001B[1;34mr'C:\\Users\\zongzhimin\\Desktop\\model2\\hdk_segy_proc\\model_1_y.segy'\u001B[0m\u001B[1;33m)\u001B[0m\u001B[1;33m\u001B[0m\u001B[1;33m\u001B[0m\u001B[0m\n\u001B[0m",
      "\u001B[1;32m<D:\\development\\Anaconda3\\lib\\site-packages\\decorator.py:decorator-gen-157>\u001B[0m in \u001B[0;36mread\u001B[1;34m(pathname_or_url, format, headonly, starttime, endtime, nearest_sample, dtype, apply_calib, check_compression, **kwargs)\u001B[0m\n",
      "\u001B[1;32mD:\\development\\Anaconda3\\lib\\site-packages\\obspy\\core\\util\\decorator.py\u001B[0m in \u001B[0;36m_map_example_filename\u001B[1;34m(func, *args, **kwargs)\u001B[0m\n\u001B[0;32m    298\u001B[0m                         \u001B[1;32mexcept\u001B[0m \u001B[0mIOError\u001B[0m\u001B[1;33m:\u001B[0m\u001B[1;33m\u001B[0m\u001B[1;33m\u001B[0m\u001B[0m\n\u001B[0;32m    299\u001B[0m                             \u001B[1;32mpass\u001B[0m\u001B[1;33m\u001B[0m\u001B[1;33m\u001B[0m\u001B[0m\n\u001B[1;32m--> 300\u001B[1;33m         \u001B[1;32mreturn\u001B[0m \u001B[0mfunc\u001B[0m\u001B[1;33m(\u001B[0m\u001B[1;33m*\u001B[0m\u001B[0margs\u001B[0m\u001B[1;33m,\u001B[0m \u001B[1;33m**\u001B[0m\u001B[0mkwargs\u001B[0m\u001B[1;33m)\u001B[0m\u001B[1;33m\u001B[0m\u001B[1;33m\u001B[0m\u001B[0m\n\u001B[0m\u001B[0;32m    301\u001B[0m     \u001B[1;32mreturn\u001B[0m \u001B[0m_map_example_filename\u001B[0m\u001B[1;33m\u001B[0m\u001B[1;33m\u001B[0m\u001B[0m\n\u001B[0;32m    302\u001B[0m \u001B[1;33m\u001B[0m\u001B[0m\n",
      "\u001B[1;32mD:\\development\\Anaconda3\\lib\\site-packages\\obspy\\core\\stream.py\u001B[0m in \u001B[0;36mread\u001B[1;34m(pathname_or_url, format, headonly, starttime, endtime, nearest_sample, dtype, apply_calib, check_compression, **kwargs)\u001B[0m\n\u001B[0;32m    210\u001B[0m         \u001B[0mst\u001B[0m \u001B[1;33m=\u001B[0m \u001B[0m_create_example_stream\u001B[0m\u001B[1;33m(\u001B[0m\u001B[0mheadonly\u001B[0m\u001B[1;33m=\u001B[0m\u001B[0mheadonly\u001B[0m\u001B[1;33m)\u001B[0m\u001B[1;33m\u001B[0m\u001B[1;33m\u001B[0m\u001B[0m\n\u001B[0;32m    211\u001B[0m     \u001B[1;32melse\u001B[0m\u001B[1;33m:\u001B[0m\u001B[1;33m\u001B[0m\u001B[1;33m\u001B[0m\u001B[0m\n\u001B[1;32m--> 212\u001B[1;33m         \u001B[0mst\u001B[0m \u001B[1;33m=\u001B[0m \u001B[0m_generic_reader\u001B[0m\u001B[1;33m(\u001B[0m\u001B[0mpathname_or_url\u001B[0m\u001B[1;33m,\u001B[0m \u001B[0m_read\u001B[0m\u001B[1;33m,\u001B[0m \u001B[1;33m**\u001B[0m\u001B[0mkwargs\u001B[0m\u001B[1;33m)\u001B[0m\u001B[1;33m\u001B[0m\u001B[1;33m\u001B[0m\u001B[0m\n\u001B[0m\u001B[0;32m    213\u001B[0m \u001B[1;33m\u001B[0m\u001B[0m\n\u001B[0;32m    214\u001B[0m     \u001B[1;32mif\u001B[0m \u001B[0mlen\u001B[0m\u001B[1;33m(\u001B[0m\u001B[0mst\u001B[0m\u001B[1;33m)\u001B[0m \u001B[1;33m==\u001B[0m \u001B[1;36m0\u001B[0m\u001B[1;33m:\u001B[0m\u001B[1;33m\u001B[0m\u001B[1;33m\u001B[0m\u001B[0m\n",
      "\u001B[1;32mD:\\development\\Anaconda3\\lib\\site-packages\\obspy\\core\\util\\base.py\u001B[0m in \u001B[0;36m_generic_reader\u001B[1;34m(pathname_or_url, callback_func, **kwargs)\u001B[0m\n\u001B[0;32m    700\u001B[0m                 \u001B[1;32mraise\u001B[0m \u001B[0mIOError\u001B[0m\u001B[1;33m(\u001B[0m\u001B[1;36m2\u001B[0m\u001B[1;33m,\u001B[0m \u001B[1;34m\"No such file or directory\"\u001B[0m\u001B[1;33m,\u001B[0m \u001B[0mpathname\u001B[0m\u001B[1;33m)\u001B[0m\u001B[1;33m\u001B[0m\u001B[1;33m\u001B[0m\u001B[0m\n\u001B[0;32m    701\u001B[0m \u001B[1;33m\u001B[0m\u001B[0m\n\u001B[1;32m--> 702\u001B[1;33m         \u001B[0mgeneric\u001B[0m \u001B[1;33m=\u001B[0m \u001B[0mcallback_func\u001B[0m\u001B[1;33m(\u001B[0m\u001B[0mpathnames\u001B[0m\u001B[1;33m[\u001B[0m\u001B[1;36m0\u001B[0m\u001B[1;33m]\u001B[0m\u001B[1;33m,\u001B[0m \u001B[1;33m**\u001B[0m\u001B[0mkwargs\u001B[0m\u001B[1;33m)\u001B[0m\u001B[1;33m\u001B[0m\u001B[1;33m\u001B[0m\u001B[0m\n\u001B[0m\u001B[0;32m    703\u001B[0m         \u001B[1;32mif\u001B[0m \u001B[0mlen\u001B[0m\u001B[1;33m(\u001B[0m\u001B[0mpathnames\u001B[0m\u001B[1;33m)\u001B[0m \u001B[1;33m>\u001B[0m \u001B[1;36m1\u001B[0m\u001B[1;33m:\u001B[0m\u001B[1;33m\u001B[0m\u001B[1;33m\u001B[0m\u001B[0m\n\u001B[0;32m    704\u001B[0m             \u001B[1;32mfor\u001B[0m \u001B[0mfilename\u001B[0m \u001B[1;32min\u001B[0m \u001B[0mpathnames\u001B[0m\u001B[1;33m[\u001B[0m\u001B[1;36m1\u001B[0m\u001B[1;33m:\u001B[0m\u001B[1;33m]\u001B[0m\u001B[1;33m:\u001B[0m\u001B[1;33m\u001B[0m\u001B[1;33m\u001B[0m\u001B[0m\n",
      "\u001B[1;32m<D:\\development\\Anaconda3\\lib\\site-packages\\decorator.py:decorator-gen-158>\u001B[0m in \u001B[0;36m_read\u001B[1;34m(filename, format, headonly, **kwargs)\u001B[0m\n",
      "\u001B[1;32mD:\\development\\Anaconda3\\lib\\site-packages\\obspy\\core\\util\\decorator.py\u001B[0m in \u001B[0;36muncompress_file\u001B[1;34m(func, filename, *args, **kwargs)\u001B[0m\n\u001B[0;32m    208\u001B[0m     \u001B[1;32melse\u001B[0m\u001B[1;33m:\u001B[0m\u001B[1;33m\u001B[0m\u001B[1;33m\u001B[0m\u001B[0m\n\u001B[0;32m    209\u001B[0m         \u001B[1;31m# no compressions\u001B[0m\u001B[1;33m\u001B[0m\u001B[1;33m\u001B[0m\u001B[1;33m\u001B[0m\u001B[0m\n\u001B[1;32m--> 210\u001B[1;33m         \u001B[0mresult\u001B[0m \u001B[1;33m=\u001B[0m \u001B[0mfunc\u001B[0m\u001B[1;33m(\u001B[0m\u001B[0mfilename\u001B[0m\u001B[1;33m,\u001B[0m \u001B[1;33m*\u001B[0m\u001B[0margs\u001B[0m\u001B[1;33m,\u001B[0m \u001B[1;33m**\u001B[0m\u001B[0mkwargs\u001B[0m\u001B[1;33m)\u001B[0m\u001B[1;33m\u001B[0m\u001B[1;33m\u001B[0m\u001B[0m\n\u001B[0m\u001B[0;32m    211\u001B[0m     \u001B[1;32mreturn\u001B[0m \u001B[0mresult\u001B[0m\u001B[1;33m\u001B[0m\u001B[1;33m\u001B[0m\u001B[0m\n\u001B[0;32m    212\u001B[0m \u001B[1;33m\u001B[0m\u001B[0m\n",
      "\u001B[1;32mD:\\development\\Anaconda3\\lib\\site-packages\\obspy\\core\\stream.py\u001B[0m in \u001B[0;36m_read\u001B[1;34m(filename, format, headonly, **kwargs)\u001B[0m\n\u001B[0;32m    255\u001B[0m     \"\"\"\n\u001B[0;32m    256\u001B[0m     stream, format = _read_from_plugin('waveform', filename, format=format,\n\u001B[1;32m--> 257\u001B[1;33m                                        headonly=headonly, **kwargs)\n\u001B[0m\u001B[0;32m    258\u001B[0m     \u001B[1;31m# set _format identifier for each element\u001B[0m\u001B[1;33m\u001B[0m\u001B[1;33m\u001B[0m\u001B[1;33m\u001B[0m\u001B[0m\n\u001B[0;32m    259\u001B[0m     \u001B[1;32mfor\u001B[0m \u001B[0mtrace\u001B[0m \u001B[1;32min\u001B[0m \u001B[0mstream\u001B[0m\u001B[1;33m:\u001B[0m\u001B[1;33m\u001B[0m\u001B[1;33m\u001B[0m\u001B[0m\n",
      "\u001B[1;32mD:\\development\\Anaconda3\\lib\\site-packages\\obspy\\core\\util\\base.py\u001B[0m in \u001B[0;36m_read_from_plugin\u001B[1;34m(plugin_type, filename, format, **kwargs)\u001B[0m\n\u001B[0;32m    468\u001B[0m         \u001B[1;32mraise\u001B[0m \u001B[0mTypeError\u001B[0m\u001B[1;33m(\u001B[0m\u001B[0mmsg\u001B[0m \u001B[1;33m%\u001B[0m \u001B[1;33m(\u001B[0m\u001B[0mformat_ep\u001B[0m\u001B[1;33m.\u001B[0m\u001B[0mname\u001B[0m\u001B[1;33m,\u001B[0m \u001B[1;34m', '\u001B[0m\u001B[1;33m.\u001B[0m\u001B[0mjoin\u001B[0m\u001B[1;33m(\u001B[0m\u001B[0meps\u001B[0m\u001B[1;33m)\u001B[0m\u001B[1;33m)\u001B[0m\u001B[1;33m)\u001B[0m\u001B[1;33m\u001B[0m\u001B[1;33m\u001B[0m\u001B[0m\n\u001B[0;32m    469\u001B[0m     \u001B[1;31m# read\u001B[0m\u001B[1;33m\u001B[0m\u001B[1;33m\u001B[0m\u001B[1;33m\u001B[0m\u001B[0m\n\u001B[1;32m--> 470\u001B[1;33m     \u001B[0mlist_obj\u001B[0m \u001B[1;33m=\u001B[0m \u001B[0mread_format\u001B[0m\u001B[1;33m(\u001B[0m\u001B[0mfilename\u001B[0m\u001B[1;33m,\u001B[0m \u001B[1;33m**\u001B[0m\u001B[0mkwargs\u001B[0m\u001B[1;33m)\u001B[0m\u001B[1;33m\u001B[0m\u001B[1;33m\u001B[0m\u001B[0m\n\u001B[0m\u001B[0;32m    471\u001B[0m     \u001B[1;32mreturn\u001B[0m \u001B[0mlist_obj\u001B[0m\u001B[1;33m,\u001B[0m \u001B[0mformat_ep\u001B[0m\u001B[1;33m.\u001B[0m\u001B[0mname\u001B[0m\u001B[1;33m\u001B[0m\u001B[1;33m\u001B[0m\u001B[0m\n\u001B[0;32m    472\u001B[0m \u001B[1;33m\u001B[0m\u001B[0m\n",
      "\u001B[1;32mD:\\development\\Anaconda3\\lib\\site-packages\\obspy\\io\\segy\\core.py\u001B[0m in \u001B[0;36m_read_segy\u001B[1;34m(filename, headonly, byteorder, textual_header_encoding, unpack_trace_headers, **kwargs)\u001B[0m\n\u001B[0;32m    177\u001B[0m         \u001B[0mfilename\u001B[0m\u001B[1;33m,\u001B[0m \u001B[0mendian\u001B[0m\u001B[1;33m=\u001B[0m\u001B[0mbyteorder\u001B[0m\u001B[1;33m,\u001B[0m\u001B[1;33m\u001B[0m\u001B[1;33m\u001B[0m\u001B[0m\n\u001B[0;32m    178\u001B[0m         \u001B[0mtextual_header_encoding\u001B[0m\u001B[1;33m=\u001B[0m\u001B[0mtextual_header_encoding\u001B[0m\u001B[1;33m,\u001B[0m\u001B[1;33m\u001B[0m\u001B[1;33m\u001B[0m\u001B[0m\n\u001B[1;32m--> 179\u001B[1;33m         unpack_headers=unpack_trace_headers)\n\u001B[0m\u001B[0;32m    180\u001B[0m     \u001B[1;31m# Create the stream object.\u001B[0m\u001B[1;33m\u001B[0m\u001B[1;33m\u001B[0m\u001B[1;33m\u001B[0m\u001B[0m\n\u001B[0;32m    181\u001B[0m     \u001B[0mstream\u001B[0m \u001B[1;33m=\u001B[0m \u001B[0mStream\u001B[0m\u001B[1;33m(\u001B[0m\u001B[1;33m)\u001B[0m\u001B[1;33m\u001B[0m\u001B[1;33m\u001B[0m\u001B[0m\n",
      "\u001B[1;32mD:\\development\\Anaconda3\\lib\\site-packages\\obspy\\io\\segy\\segy.py\u001B[0m in \u001B[0;36m_read_segy\u001B[1;34m(file, endian, textual_header_encoding, unpack_headers, headonly)\u001B[0m\n\u001B[0;32m    950\u001B[0m                 \u001B[0mopen_file\u001B[0m\u001B[1;33m,\u001B[0m \u001B[0mendian\u001B[0m\u001B[1;33m=\u001B[0m\u001B[0mendian\u001B[0m\u001B[1;33m,\u001B[0m\u001B[1;33m\u001B[0m\u001B[1;33m\u001B[0m\u001B[0m\n\u001B[0;32m    951\u001B[0m                 \u001B[0mtextual_header_encoding\u001B[0m\u001B[1;33m=\u001B[0m\u001B[0mtextual_header_encoding\u001B[0m\u001B[1;33m,\u001B[0m\u001B[1;33m\u001B[0m\u001B[1;33m\u001B[0m\u001B[0m\n\u001B[1;32m--> 952\u001B[1;33m                 unpack_headers=unpack_headers, headonly=headonly)\n\u001B[0m\u001B[0;32m    953\u001B[0m     \u001B[1;31m# Otherwise just read it.\u001B[0m\u001B[1;33m\u001B[0m\u001B[1;33m\u001B[0m\u001B[1;33m\u001B[0m\u001B[0m\n\u001B[0;32m    954\u001B[0m     return _internal_read_segy(file, endian=endian,\n",
      "\u001B[1;32mD:\\development\\Anaconda3\\lib\\site-packages\\obspy\\io\\segy\\segy.py\u001B[0m in \u001B[0;36m_internal_read_segy\u001B[1;34m(file, endian, textual_header_encoding, unpack_headers, headonly)\u001B[0m\n\u001B[0;32m    984\u001B[0m     return SEGYFile(file, endian=endian,\n\u001B[0;32m    985\u001B[0m                     \u001B[0mtextual_header_encoding\u001B[0m\u001B[1;33m=\u001B[0m\u001B[0mtextual_header_encoding\u001B[0m\u001B[1;33m,\u001B[0m\u001B[1;33m\u001B[0m\u001B[1;33m\u001B[0m\u001B[0m\n\u001B[1;32m--> 986\u001B[1;33m                     unpack_headers=unpack_headers, headonly=headonly)\n\u001B[0m\u001B[0;32m    987\u001B[0m \u001B[1;33m\u001B[0m\u001B[0m\n\u001B[0;32m    988\u001B[0m \u001B[1;33m\u001B[0m\u001B[0m\n",
      "\u001B[1;32mD:\\development\\Anaconda3\\lib\\site-packages\\obspy\\io\\segy\\segy.py\u001B[0m in \u001B[0;36m__init__\u001B[1;34m(self, file, endian, textual_header_encoding, unpack_headers, headonly, read_traces)\u001B[0m\n\u001B[0;32m    142\u001B[0m         \u001B[1;32mif\u001B[0m \u001B[0mread_traces\u001B[0m\u001B[1;33m:\u001B[0m\u001B[1;33m\u001B[0m\u001B[1;33m\u001B[0m\u001B[0m\n\u001B[0;32m    143\u001B[0m             [i for i in self._read_traces(\n\u001B[1;32m--> 144\u001B[1;33m                 unpack_headers=unpack_headers, headonly=headonly)]\n\u001B[0m\u001B[0;32m    145\u001B[0m \u001B[1;33m\u001B[0m\u001B[0m\n\u001B[0;32m    146\u001B[0m     \u001B[1;32mdef\u001B[0m \u001B[0m__str__\u001B[0m\u001B[1;33m(\u001B[0m\u001B[0mself\u001B[0m\u001B[1;33m)\u001B[0m\u001B[1;33m:\u001B[0m\u001B[1;33m\u001B[0m\u001B[1;33m\u001B[0m\u001B[0m\n",
      "\u001B[1;32mD:\\development\\Anaconda3\\lib\\site-packages\\obspy\\io\\segy\\segy.py\u001B[0m in \u001B[0;36m<listcomp>\u001B[1;34m(.0)\u001B[0m\n\u001B[0;32m    141\u001B[0m         \u001B[1;31m# Read the actual traces.\u001B[0m\u001B[1;33m\u001B[0m\u001B[1;33m\u001B[0m\u001B[1;33m\u001B[0m\u001B[0m\n\u001B[0;32m    142\u001B[0m         \u001B[1;32mif\u001B[0m \u001B[0mread_traces\u001B[0m\u001B[1;33m:\u001B[0m\u001B[1;33m\u001B[0m\u001B[1;33m\u001B[0m\u001B[0m\n\u001B[1;32m--> 143\u001B[1;33m             [i for i in self._read_traces(\n\u001B[0m\u001B[0;32m    144\u001B[0m                 unpack_headers=unpack_headers, headonly=headonly)]\n\u001B[0;32m    145\u001B[0m \u001B[1;33m\u001B[0m\u001B[0m\n",
      "\u001B[1;32mD:\\development\\Anaconda3\\lib\\site-packages\\obspy\\io\\segy\\segy.py\u001B[0m in \u001B[0;36m_read_traces\u001B[1;34m(self, unpack_headers, headonly, yield_each_trace)\u001B[0m\n\u001B[0;32m    420\u001B[0m                 trace = SEGYTrace(self.file, self.data_encoding, self.endian,\n\u001B[0;32m    421\u001B[0m                                   \u001B[0munpack_headers\u001B[0m\u001B[1;33m=\u001B[0m\u001B[0munpack_headers\u001B[0m\u001B[1;33m,\u001B[0m\u001B[1;33m\u001B[0m\u001B[1;33m\u001B[0m\u001B[0m\n\u001B[1;32m--> 422\u001B[1;33m                                   filesize=filesize, headonly=headonly)\n\u001B[0m\u001B[0;32m    423\u001B[0m                 \u001B[1;32mif\u001B[0m \u001B[0myield_each_trace\u001B[0m\u001B[1;33m:\u001B[0m\u001B[1;33m\u001B[0m\u001B[1;33m\u001B[0m\u001B[0m\n\u001B[0;32m    424\u001B[0m                     \u001B[1;32myield\u001B[0m \u001B[0mtrace\u001B[0m\u001B[1;33m\u001B[0m\u001B[1;33m\u001B[0m\u001B[0m\n",
      "\u001B[1;32mD:\\development\\Anaconda3\\lib\\site-packages\\obspy\\io\\segy\\segy.py\u001B[0m in \u001B[0;36m__init__\u001B[1;34m(self, file, data_encoding, endian, unpack_headers, filesize, headonly)\u001B[0m\n\u001B[0;32m    593\u001B[0m                 \u001B[0mself\u001B[0m\u001B[1;33m.\u001B[0m\u001B[0mfilesize\u001B[0m \u001B[1;33m=\u001B[0m \u001B[0mos\u001B[0m\u001B[1;33m.\u001B[0m\u001B[0mfstat\u001B[0m\u001B[1;33m(\u001B[0m\u001B[0mself\u001B[0m\u001B[1;33m.\u001B[0m\u001B[0mfile\u001B[0m\u001B[1;33m.\u001B[0m\u001B[0mfileno\u001B[0m\u001B[1;33m(\u001B[0m\u001B[1;33m)\u001B[0m\u001B[1;33m)\u001B[0m\u001B[1;33m[\u001B[0m\u001B[1;36m6\u001B[0m\u001B[1;33m]\u001B[0m\u001B[1;33m\u001B[0m\u001B[1;33m\u001B[0m\u001B[0m\n\u001B[0;32m    594\u001B[0m         \u001B[1;31m# Otherwise read the file.\u001B[0m\u001B[1;33m\u001B[0m\u001B[1;33m\u001B[0m\u001B[1;33m\u001B[0m\u001B[0m\n\u001B[1;32m--> 595\u001B[1;33m         \u001B[0mself\u001B[0m\u001B[1;33m.\u001B[0m\u001B[0m_read_trace\u001B[0m\u001B[1;33m(\u001B[0m\u001B[0munpack_headers\u001B[0m\u001B[1;33m=\u001B[0m\u001B[0munpack_headers\u001B[0m\u001B[1;33m,\u001B[0m \u001B[0mheadonly\u001B[0m\u001B[1;33m=\u001B[0m\u001B[0mheadonly\u001B[0m\u001B[1;33m)\u001B[0m\u001B[1;33m\u001B[0m\u001B[1;33m\u001B[0m\u001B[0m\n\u001B[0m\u001B[0;32m    596\u001B[0m \u001B[1;33m\u001B[0m\u001B[0m\n\u001B[0;32m    597\u001B[0m     \u001B[1;32mdef\u001B[0m \u001B[0m_read_trace\u001B[0m\u001B[1;33m(\u001B[0m\u001B[0mself\u001B[0m\u001B[1;33m,\u001B[0m \u001B[0munpack_headers\u001B[0m\u001B[1;33m=\u001B[0m\u001B[1;32mFalse\u001B[0m\u001B[1;33m,\u001B[0m \u001B[0mheadonly\u001B[0m\u001B[1;33m=\u001B[0m\u001B[1;32mFalse\u001B[0m\u001B[1;33m)\u001B[0m\u001B[1;33m:\u001B[0m\u001B[1;33m\u001B[0m\u001B[1;33m\u001B[0m\u001B[0m\n",
      "\u001B[1;32mD:\\development\\Anaconda3\\lib\\site-packages\\obspy\\io\\segy\\segy.py\u001B[0m in \u001B[0;36m_read_trace\u001B[1;34m(self, unpack_headers, headonly)\u001B[0m\n\u001B[0;32m    633\u001B[0m                   \u001B[0mbyte\u001B[0m \u001B[0morder\u001B[0m \u001B[1;32mor\u001B[0m \u001B[0ma\u001B[0m \u001B[0mcorrupt\u001B[0m \u001B[0mfile\u001B[0m\u001B[1;33m.\u001B[0m\u001B[1;33m\u001B[0m\u001B[1;33m\u001B[0m\u001B[0m\n\u001B[0;32m    634\u001B[0m                   \"\"\".strip()\n\u001B[1;32m--> 635\u001B[1;33m             \u001B[1;32mraise\u001B[0m \u001B[0mSEGYTraceReadingError\u001B[0m\u001B[1;33m(\u001B[0m\u001B[0mmsg\u001B[0m\u001B[1;33m)\u001B[0m\u001B[1;33m\u001B[0m\u001B[1;33m\u001B[0m\u001B[0m\n\u001B[0m\u001B[0;32m    636\u001B[0m         \u001B[1;32mif\u001B[0m \u001B[0mheadonly\u001B[0m\u001B[1;33m:\u001B[0m\u001B[1;33m\u001B[0m\u001B[1;33m\u001B[0m\u001B[0m\n\u001B[0;32m    637\u001B[0m             \u001B[1;31m# skip reading the data, but still advance the file\u001B[0m\u001B[1;33m\u001B[0m\u001B[1;33m\u001B[0m\u001B[1;33m\u001B[0m\u001B[0m\n",
      "\u001B[1;31mSEGYTraceReadingError\u001B[0m: Too little data left in the file to unpack it according to\n                  its trace header. This is most likely either due to a wrong\n                  byte order or a corrupt file."
     ]
    }
   ],
   "source": [
    "s = obspy.read(r'C:\\Users\\zongzhimin\\Desktop\\model2\\hdk_segy_proc\\model_1_y.segy')"
   ]
  },
  {
   "cell_type": "code",
   "execution_count": 14,
   "metadata": {},
   "outputs": [],
   "source": [
    "qp = np.ones((400,600),dtype=np.float32)*100\n",
    "qs = np.ones((400,600),dtype=np.float32)*80"
   ]
  },
  {
   "cell_type": "code",
   "execution_count": 15,
   "metadata": {},
   "outputs": [],
   "source": [
    "qp.T.tofile(r'C:\\Users\\zongzhimin\\Desktop\\model2\\m_1.qp')\n",
    "qs.T.tofile(r'C:\\Users\\zongzhimin\\Desktop\\model2\\m_1.qs')"
   ]
  },
  {
   "cell_type": "code",
   "execution_count": 17,
   "metadata": {},
   "outputs": [],
   "source": [
    "vs = np.zeros((400,600),dtype=np.float32)"
   ]
  },
  {
   "cell_type": "code",
   "execution_count": 18,
   "metadata": {},
   "outputs": [],
   "source": [
    "vs.T.tofile(r'C:\\Users\\zongzhimin\\Desktop\\model2\\m_1.vs')"
   ]
  },
  {
   "cell_type": "code",
   "execution_count": 27,
   "metadata": {},
   "outputs": [],
   "source": [
    "vp = np.fromfile(r'\\\\10.1.4.151\\share\\zzm\\data\\others\\model_2\\model_400_600\\m_1.vp',dtype=np.float32)\n",
    "vs = np.fromfile(r'\\\\10.1.4.151\\share\\zzm\\data\\others\\model_2\\model_400_600\\m_1.vs',dtype=np.float32)\n",
    "rho = np.fromfile(r'\\\\10.1.4.151\\share\\zzm\\data\\others\\model_2\\model_400_600\\m_1.rho',dtype=np.float32)\n",
    "qp = np.fromfile(r'\\\\10.1.4.151\\share\\zzm\\data\\others\\model_2\\model_400_600\\m_1.qp',dtype=np.float32)\n",
    "qs = np.fromfile(r'\\\\10.1.4.151\\share\\zzm\\data\\others\\model_2\\model_400_600\\m_1.qs',dtype=np.float32)"
   ]
  },
  {
   "cell_type": "code",
   "execution_count": 28,
   "metadata": {},
   "outputs": [],
   "source": [
    "vp = vp.reshape((600,400))\n",
    "vs = vs.reshape((600,400))\n",
    "rho = rho.reshape((600,400))\n",
    "qp = qp.reshape((600,400))\n",
    "qs = qs.reshape((600,400))"
   ]
  },
  {
   "cell_type": "code",
   "execution_count": 29,
   "metadata": {},
   "outputs": [
    {
     "data": {
      "text/plain": [
       "(600, 400)"
      ]
     },
     "execution_count": 29,
     "metadata": {},
     "output_type": "execute_result"
    }
   ],
   "source": [
    "vp.shape"
   ]
  },
  {
   "cell_type": "code",
   "execution_count": 34,
   "metadata": {},
   "outputs": [
    {
     "data": {
      "text/plain": [
       "(400, 400)"
      ]
     },
     "execution_count": 34,
     "metadata": {},
     "output_type": "execute_result"
    }
   ],
   "source": [
    "vp.T[:,500//5:2500//5].shape"
   ]
  },
  {
   "cell_type": "code",
   "execution_count": 24,
   "metadata": {},
   "outputs": [
    {
     "data": {
      "text/plain": [
       "<matplotlib.image.AxesImage at 0x1128c4e8978>"
      ]
     },
     "execution_count": 24,
     "metadata": {},
     "output_type": "execute_result"
    },
    {
     "data": {
      "image/png": "[encoded data removed]",
      "text/plain": [
       "<Figure size 432x288 with 1 Axes>"
      ]
     },
     "metadata": {
      "needs_background": "light"
     },
     "output_type": "display_data"
    }
   ],
   "source": [
    "plt.imshow(vp.T)"
   ]
  },
  {
   "cell_type": "code",
   "execution_count": 35,
   "metadata": {},
   "outputs": [],
   "source": [
    "vp = vp.T[:,500//5:2500//5]\n",
    "vs = vs.T[:,500//5:2500//5]\n",
    "rho = rho.T[:,500//5:2500//5]\n",
    "qp = qp.T[:,500//5:2500//5]\n",
    "qs = qs.T[:,500//5:2500//5]"
   ]
  },
  {
   "cell_type": "code",
   "execution_count": 47,
   "metadata": {},
   "outputs": [
    {
     "data": {
      "text/plain": [
       "(400, 400)"
      ]
     },
     "execution_count": 47,
     "metadata": {},
     "output_type": "execute_result"
    }
   ],
   "source": [
    "vp.shape"
   ]
  },
  {
   "cell_type": "code",
   "execution_count": 80,
   "metadata": {},
   "outputs": [
    {
     "data": {
      "text/plain": [
       "<matplotlib.colorbar.Colorbar at 0x1128e939668>"
      ]
     },
     "execution_count": 80,
     "metadata": {},
     "output_type": "execute_result"
    },
    {
     "data": {
      "image/png": "[encoded data removed]",
      "text/plain": [
       "<Figure size 432x288 with 2 Axes>"
      ]
     },
     "metadata": {
      "needs_background": "light"
     },
     "output_type": "display_data"
    }
   ],
   "source": [
    "plt.imshow(vp)\n",
    "plt.xlabel('���루m��')\n",
    "plt.ylabel('��ȣ�m��')\n",
    "plt.xticks([0,100,200,300],[0,500,1000,1500])\n",
    "plt.yticks([0,50,100,150,200,250,300,350],[0,250,500,750,1000,1250,1500,1750])\n",
    "ax = plt.gca()\n",
    "ax.xaxis.set_ticks_position('top')\n",
    "ax.xaxis.set_label_position('top')\n",
    "plt.savefig(r'C:\\Users\\zongzhimin\\Desktop\\model2\\model\\ģ��1.jpg',bbox_inches='tight',dpi=300,pad_inches=0.5)\n",
    "cax = plt.axes([0.26,0.04,0.505,0.05])\n",
    "plt.colorbar(cax=cax,orientation='horizontal')"
   ]
  },
  {
   "cell_type": "code",
   "execution_count": 58,
   "metadata": {},
   "outputs": [],
   "source": [
    "vp2 = np.fromfile(r'C:\\Users\\zongzhimin\\Desktop\\model2\\m_2.vp',dtype=np.float32)\n",
    "vp2 = vp2.reshape((600,600))\n",
    "vp2 = vp2.T"
   ]
  },
  {
   "cell_type": "code",
   "execution_count": 82,
   "metadata": {},
   "outputs": [
    {
     "data": {
      "text/plain": [
       "<matplotlib.colorbar.Colorbar at 0x1128eb501d0>"
      ]
     },
     "execution_count": 82,
     "metadata": {},
     "output_type": "execute_result"
    },
    {
     "data": {
      "image/png": "[encoded data removed]",
      "text/plain": [
       "<Figure size 432x288 with 2 Axes>"
      ]
     },
     "metadata": {
      "needs_background": "light"
     },
     "output_type": "display_data"
    }
   ],
   "source": [
    "plt.imshow(vp2)\n",
    "plt.xlabel('���루m��')\n",
    "plt.ylabel('��ȣ�m��')\n",
    "plt.xticks([0,100,200,300,400,500],[0,500,1000,1500,2000,2500])\n",
    "plt.yticks([0,100,200,300,400,500],[0,500,1000,1500,2000,2500])\n",
    "ax = plt.gca()\n",
    "ax.xaxis.set_ticks_position('top')\n",
    "ax.xaxis.set_label_position('top')\n",
    "plt.savefig(r'C:\\Users\\zongzhimin\\Desktop\\model2\\model\\ģ��2.jpg',bbox_inches='tight',dpi=300,pad_inches=0.5)\n",
    "cax = plt.axes([0.26,0.04,0.505,0.05])\n",
    "plt.colorbar(cax=cax,orientation='horizontal')"
   ]
  },
  {
   "cell_type": "code",
   "execution_count": null,
   "outputs": [],
   "source": [
    "vp.T.tofile(r'\\\\10.1.4.151\\share\\zzm\\data\\others\\model_2\\model_400_400\\m.vp')\n",
    "vs.T.tofile(r'\\\\10.1.4.151\\share\\zzm\\data\\others\\model_2\\model_400_400\\m.vs')\n",
    "rho.T.tofile(r'\\\\10.1.4.151\\share\\zzm\\data\\others\\model_2\\model_400_400\\m.rho')\n",
    "qp.T.tofile(r'\\\\10.1.4.151\\share\\zzm\\data\\others\\model_2\\model_400_400\\m.qp')\n",
    "qs.T.tofile(r'\\\\10.1.4.151\\share\\zzm\\data\\others\\model_2\\model_400_400\\m.qs')"
   ],
   "metadata": {
    "collapsed": false,
    "pycharm": {
     "name": "#%%\n"
    }
   }
  },
  {
   "cell_type": "code",
   "execution_count": null,
   "outputs": [],
   "source": [
    "vs = np.zeros((600,600),dtype=np.float32)\n",
    "vs.T.tofile(r'C:\\Users\\zongzhimin\\Desktop\\model2\\m_2.vs')"
   ],
   "metadata": {
    "collapsed": false,
    "pycharm": {
     "name": "#%%\n"
    }
   }
  },
  {
   "cell_type": "code",
   "execution_count": null,
   "outputs": [],
   "source": [
    "vp = np.loadtxt(r'C:\\Users\\zongzhimin\\Desktop\\model\\vp.txt')\n",
    "vs = np.loadtxt(r'C:\\Users\\zongzhimin\\Desktop\\model\\vs.txt')\n",
    "rho = np.loadtxt(r'C:\\Users\\zongzhimin\\Desktop\\model\\rho.txt')"
   ],
   "metadata": {
    "collapsed": false,
    "pycharm": {
     "name": "#%%\n"
    }
   }
  },
  {
   "cell_type": "code",
   "execution_count": null,
   "outputs": [],
   "source": [
    "vp = vp.astype(np.float32)\n",
    "vs = vs.astype(np.float32)\n",
    "rho = rho.astype(np.float32)"
   ],
   "metadata": {
    "collapsed": false,
    "pycharm": {
     "name": "#%%\n"
    }
   }
  },
  {
   "cell_type": "code",
   "execution_count": null,
   "outputs": [],
   "source": [
    "plt.imshow(vp)"
   ],
   "metadata": {
    "collapsed": false,
    "pycharm": {
     "name": "#%%\n"
    }
   }
  },
  {
   "cell_type": "code",
   "execution_count": null,
   "outputs": [],
   "source": [
    "vp.T.tofile(r'C:\\Users\\zongzhimin\\Desktop\\model\\m.vp')\n",
    "vs.T.tofile(r'C:\\Users\\zongzhimin\\Desktop\\model\\m.vs')\n",
    "rho.T.tofile(r'C:\\Users\\zongzhimin\\Desktop\\model\\m.rho')"
   ],
   "metadata": {
    "collapsed": false,
    "pycharm": {
     "name": "#%%\n"
    }
   }
  },
  {
   "cell_type": "code",
   "execution_count": null,
   "outputs": [],
   "source": [
    "vp_m1 = np.fromfile(r'\\\\10.1.4.151\\share\\zzm\\data\\others\\model_2\\model_400_400\\m.vp',dtype=np.float32)\n",
    "vs_m1 = np.fromfile(r'\\\\10.1.4.151\\share\\zzm\\data\\others\\model_2\\model_400_400\\m.vs',dtype=np.float32)\n",
    "rho_m1 = np.fromfile(r'\\\\10.1.4.151\\share\\zzm\\data\\others\\model_2\\model_400_400\\m.rho',dtype=np.float32)"
   ],
   "metadata": {
    "collapsed": false,
    "pycharm": {
     "name": "#%%\n"
    }
   }
  },
  {
   "cell_type": "code",
   "execution_count": null,
   "outputs": [],
   "source": [
    "vp_m1 = vp_m1.reshape((400,400))\n",
    "vs_m1 = vs_m1.reshape((400,400))\n",
    "rho_m1 = rho_m1.reshape((400,400))"
   ],
   "metadata": {
    "collapsed": false,
    "pycharm": {
     "name": "#%%\n"
    }
   }
  },
  {
   "cell_type": "code",
   "execution_count": null,
   "outputs": [],
   "source": [
    "plt.imshow(vp_m1.T)"
   ],
   "metadata": {
    "collapsed": false,
    "pycharm": {
     "name": "#%%\n"
    }
   }
  },
  {
   "cell_type": "code",
   "execution_count": null,
   "outputs": [],
   "source": [
    "np.savetxt(r'C:\\Users\\zongzhimin\\Desktop\\model\\txt\\m_1_vp.txt',vp_m1.T)\n",
    "np.savetxt(r'C:\\Users\\zongzhimin\\Desktop\\model\\txt\\m_1_vs.txt',vs_m1.T)\n",
    "np.savetxt(r'C:\\Users\\zongzhimin\\Desktop\\model\\txt\\m_1_rho.txt',rho_m1.T)"
   ],
   "metadata": {
    "collapsed": false,
    "pycharm": {
     "name": "#%%\n"
    }
   }
  },
  {
   "cell_type": "code",
   "execution_count": null,
   "outputs": [],
   "source": [
    "vp_m1 = np.fromfile(r'\\\\10.1.4.151\\share\\zzm\\data\\others\\model_2\\model_400_600\\m_1.vp',dtype=np.float32)\n",
    "vs_m1 = np.fromfile(r'\\\\10.1.4.151\\share\\zzm\\data\\others\\model_2\\model_400_600\\m_1.vs',dtype=np.float32)\n",
    "rho_m1 = np.fromfile(r'\\\\10.1.4.151\\share\\zzm\\data\\others\\model_2\\model_400_600\\m_1.rho',dtype=np.float32)"
   ],
   "metadata": {
    "collapsed": false,
    "pycharm": {
     "name": "#%%\n"
    }
   }
  },
  {
   "cell_type": "code",
   "execution_count": null,
   "outputs": [],
   "source": [
    "vp_m1 = vp_m1.reshape((600,400))\n",
    "vs_m1 = vs_m1.reshape((600,400))\n",
    "rho_m1 = rho_m1.reshape((600,400))"
   ],
   "metadata": {
    "collapsed": false,
    "pycharm": {
     "name": "#%%\n"
    }
   }
  },
  {
   "cell_type": "code",
   "execution_count": null,
   "outputs": [],
   "source": [
    "plt.imshow(vp_m1.T)"
   ],
   "metadata": {
    "collapsed": false,
    "pycharm": {
     "name": "#%%\n"
    }
   }
  },
  {
   "cell_type": "code",
   "execution_count": null,
   "outputs": [],
   "source": [
    "np.savetxt(r'C:\\Users\\zongzhimin\\Desktop\\model\\txt\\m_1_400_600_vp.txt',vp_m1.T)\n",
    "np.savetxt(r'C:\\Users\\zongzhimin\\Desktop\\model\\txt\\m_1_400_600_vs.txt',vs_m1.T)\n",
    "np.savetxt(r'C:\\Users\\zongzhimin\\Desktop\\model\\txt\\m_1_400_600_rho.txt',rho_m1.T)"
   ],
   "metadata": {
    "collapsed": false,
    "pycharm": {
     "name": "#%%\n"
    }
   }
  },
  {
   "cell_type": "code",
   "execution_count": null,
   "outputs": [],
   "source": [
    "np.savetxt(r'C:\\Users\\zongzhimin\\Desktop\\model\\txt\\m_1_400_600_vp.txt',vp_m1.T)\n",
    "np.savetxt(r'C:\\Users\\zongzhimin\\Desktop\\model\\txt\\m_1_400_600_vs.txt',vs_m1.T)\n",
    "np.savetxt(r'C:\\Users\\zongzhimin\\Desktop\\model\\txt\\m_1_400_600_rho.txt',rho_m1.T)"
   ],
   "metadata": {
    "collapsed": false,
    "pycharm": {
     "name": "#%%\n"
    }
   }
  },
  {
   "cell_type": "code",
   "execution_count": 41,
   "metadata": {},
   "outputs": [],
   "source": [
    "vp = vp.astype(np.float32)\n",
    "vs = vs.astype(np.float32)\n",
    "rho = rho.astype(np.float32)"
   ]
  },
  {
   "cell_type": "code",
   "execution_count": 42,
   "metadata": {},
   "outputs": [],
   "source": [
    "vs = np.zeros((600,600),dtype=np.float32)\n",
    "vs.T.tofile(r'C:\\Users\\zongzhimin\\Desktop\\model2\\m_2.vs')"
   ]
  },
  {
   "cell_type": "code",
   "execution_count": null,
   "outputs": [],
   "source": [
    "vp = np.loadtxt(r'C:\\Users\\zongzhimin\\Desktop\\model\\vp.txt')\n",
    "vs = np.loadtxt(r'C:\\Users\\zongzhimin\\Desktop\\model\\vs.txt')\n",
    "rho = np.loadtxt(r'C:\\Users\\zongzhimin\\Desktop\\model\\rho.txt')"
   ],
   "metadata": {
    "collapsed": false,
    "pycharm": {
     "name": "#%%\n"
    }
   }
  },
  {
   "cell_type": "code",
   "execution_count": null,
   "outputs": [],
   "source": [
    "vp = vp.astype(np.float32)\n",
    "vs = vs.astype(np.float32)\n",
    "rho = rho.astype(np.float32)"
   ],
   "metadata": {
    "collapsed": false,
    "pycharm": {
     "name": "#%%\n"
    }
   }
  },
  {
   "cell_type": "code",
   "execution_count": null,
   "outputs": [],
   "source": [
    "plt.imshow(vp)"
   ],
   "metadata": {
    "collapsed": false,
    "pycharm": {
     "name": "#%%\n"
    }
   }
  },
  {
   "cell_type": "code",
   "execution_count": null,
   "outputs": [],
   "source": [
    "vp.T.tofile(r'C:\\Users\\zongzhimin\\Desktop\\model\\m.vp')\n",
    "vs.T.tofile(r'C:\\Users\\zongzhimin\\Desktop\\model\\m.vs')\n",
    "rho.T.tofile(r'C:\\Users\\zongzhimin\\Desktop\\model\\m.rho')"
   ],
   "metadata": {
    "collapsed": false,
    "pycharm": {
     "name": "#%%\n"
    }
   }
  },
  {
   "cell_type": "code",
   "execution_count": null,
   "outputs": [],
   "source": [
    "vp_m1 = np.fromfile(r'\\\\10.1.4.151\\share\\zzm\\data\\others\\model_2\\model_400_400\\m.vp',dtype=np.float32)\n",
    "vs_m1 = np.fromfile(r'\\\\10.1.4.151\\share\\zzm\\data\\others\\model_2\\model_400_400\\m.vs',dtype=np.float32)\n",
    "rho_m1 = np.fromfile(r'\\\\10.1.4.151\\share\\zzm\\data\\others\\model_2\\model_400_400\\m.rho',dtype=np.float32)"
   ],
   "metadata": {
    "collapsed": false,
    "pycharm": {
     "name": "#%%\n"
    }
   }
  },
  {
   "cell_type": "code",
   "execution_count": null,
   "outputs": [],
   "source": [
    "vp_m1 = vp_m1.reshape((400,400))\n",
    "vs_m1 = vs_m1.reshape((400,400))\n",
    "rho_m1 = rho_m1.reshape((400,400))"
   ],
   "metadata": {
    "collapsed": false,
    "pycharm": {
     "name": "#%%\n"
    }
   }
  },
  {
   "cell_type": "code",
   "execution_count": null,
   "outputs": [],
   "source": [
    "plt.imshow(vp_m1.T)"
   ],
   "metadata": {
    "collapsed": false,
    "pycharm": {
     "name": "#%%\n"
    }
   }
  },
  {
   "cell_type": "code",
   "execution_count": null,
   "outputs": [],
   "source": [
    "np.savetxt(r'C:\\Users\\zongzhimin\\Desktop\\model\\txt\\m_1_vp.txt',vp_m1.T)\n",
    "np.savetxt(r'C:\\Users\\zongzhimin\\Desktop\\model\\txt\\m_1_vs.txt',vs_m1.T)\n",
    "np.savetxt(r'C:\\Users\\zongzhimin\\Desktop\\model\\txt\\m_1_rho.txt',rho_m1.T)"
   ],
   "metadata": {
    "collapsed": false,
    "pycharm": {
     "name": "#%%\n"
    }
   }
  },
  {
   "cell_type": "code",
   "execution_count": null,
   "outputs": [],
   "source": [
    "vp_m1 = np.fromfile(r'\\\\10.1.4.151\\share\\zzm\\data\\others\\model_2\\model_400_600\\m_1.vp',dtype=np.float32)\n",
    "vs_m1 = np.fromfile(r'\\\\10.1.4.151\\share\\zzm\\data\\others\\model_2\\model_400_600\\m_1.vs',dtype=np.float32)\n",
    "rho_m1 = np.fromfile(r'\\\\10.1.4.151\\share\\zzm\\data\\others\\model_2\\model_400_600\\m_1.rho',dtype=np.float32)"
   ],
   "metadata": {
    "collapsed": false,
    "pycharm": {
     "name": "#%%\n"
    }
   }
  },
  {
   "cell_type": "code",
   "execution_count": null,
   "outputs": [],
   "source": [
    "vp_m1 = vp_m1.reshape((600,400))\n",
    "vs_m1 = vs_m1.reshape((600,400))\n",
    "rho_m1 = rho_m1.reshape((600,400))"
   ],
   "metadata": {
    "collapsed": false,
    "pycharm": {
     "name": "#%%\n"
    }
   }
  },
  {
   "cell_type": "code",
   "execution_count": null,
   "outputs": [],
   "source": [
    "plt.imshow(vp_m1.T)"
   ],
   "metadata": {
    "collapsed": false,
    "pycharm": {
     "name": "#%%\n"
    }
   }
  },
  {
   "cell_type": "code",
   "execution_count": null,
   "outputs": [],
   "source": [
    "np.savetxt(r'C:\\Users\\zongzhimin\\Desktop\\model\\txt\\m_1_400_600_vp.txt',vp_m1.T)\n",
    "np.savetxt(r'C:\\Users\\zongzhimin\\Desktop\\model\\txt\\m_1_400_600_vs.txt',vs_m1.T)\n",
    "np.savetxt(r'C:\\Users\\zongzhimin\\Desktop\\model\\txt\\m_1_400_600_rho.txt',rho_m1.T)"
   ],
   "metadata": {
    "collapsed": false,
    "pycharm": {
     "name": "#%%\n"
    }
   }
  },
  {
   "cell_type": "code",
   "execution_count": 83,
   "metadata": {},
   "outputs": [],
   "source": [
    "np.savetxt(r'C:\\Users\\zongzhimin\\Desktop\\model\\txt\\m_1_400_600_vp.txt',vp_m1.T)\n",
    "np.savetxt(r'C:\\Users\\zongzhimin\\Desktop\\model\\txt\\m_1_400_600_vs.txt',vs_m1.T)\n",
    "np.savetxt(r'C:\\Users\\zongzhimin\\Desktop\\model\\txt\\m_1_400_600_rho.txt',rho_m1.T)"
   ]
  },
  {
   "cell_type": "code",
   "execution_count": 91,
   "metadata": {},
   "outputs": [],
   "source": [
    "vp = vp.astype(np.float32)\n",
    "vs = vs.astype(np.float32)\n",
    "rho = rho.astype(np.float32)"
   ]
  },
  {
   "cell_type": "code",
   "execution_count": 92,
   "metadata": {},
   "outputs": [
    {
     "data": {
      "text/plain": [
       "<matplotlib.image.AxesImage at 0x1128c9ff240>"
      ]
     },
     "execution_count": 92,
     "metadata": {},
     "output_type": "execute_result"
    },
    {
     "data": {
      "image/png": "[encoded data removed]",
      "text/plain": [
       "<Figure size 432x288 with 1 Axes>"
      ]
     },
     "metadata": {
      "needs_background": "light"
     },
     "output_type": "display_data"
    }
   ],
   "source": [
    "plt.imshow(vp)"
   ]
  },
  {
   "cell_type": "code",
   "execution_count": 93,
   "metadata": {},
   "outputs": [],
   "source": [
    "vp.T.tofile(r'C:\\Users\\zongzhimin\\Desktop\\model\\m.vp')\n",
    "vs.T.tofile(r'C:\\Users\\zongzhimin\\Desktop\\model\\m.vs')\n",
    "rho.T.tofile(r'C:\\Users\\zongzhimin\\Desktop\\model\\m.rho')"
   ]
  },
  {
   "cell_type": "code",
   "execution_count": 99,
   "metadata": {
    "scrolled": true
   },
   "outputs": [],
   "source": [
    "vp_m1 = np.fromfile(r'\\\\10.1.4.151\\share\\zzm\\data\\others\\model_2\\model_400_400\\m.vp',dtype=np.float32)\n",
    "vs_m1 = np.fromfile(r'\\\\10.1.4.151\\share\\zzm\\data\\others\\model_2\\model_400_400\\m.vs',dtype=np.float32)\n",
    "rho_m1 = np.fromfile(r'\\\\10.1.4.151\\share\\zzm\\data\\others\\model_2\\model_400_400\\m.rho',dtype=np.float32)"
   ]
  },
  {
   "cell_type": "code",
   "execution_count": 104,
   "metadata": {},
   "outputs": [],
   "source": [
    "vp_m1 = vp_m1.reshape((400,400))\n",
    "vs_m1 = vs_m1.reshape((400,400))\n",
    "rho_m1 = rho_m1.reshape((400,400))"
   ]
  },
  {
   "cell_type": "code",
   "execution_count": 103,
   "metadata": {},
   "outputs": [
    {
     "data": {
      "text/plain": [
       "<matplotlib.image.AxesImage at 0x1128f04b630>"
      ]
     },
     "execution_count": 103,
     "metadata": {},
     "output_type": "execute_result"
    },
    {
     "data": {
      "image/png": "[encoded data removed]",
      "text/plain": [
       "<Figure size 432x288 with 1 Axes>"
      ]
     },
     "metadata": {
      "needs_background": "light"
     },
     "output_type": "display_data"
    }
   ],
   "source": [
    "plt.imshow(vp_m1.T)"
   ]
  },
  {
   "cell_type": "code",
   "execution_count": 105,
   "metadata": {},
   "outputs": [],
   "source": [
    "np.savetxt(r'C:\\Users\\zongzhimin\\Desktop\\model\\txt\\m_1_vp.txt',vp_m1.T)\n",
    "np.savetxt(r'C:\\Users\\zongzhimin\\Desktop\\model\\txt\\m_1_vs.txt',vs_m1.T)\n",
    "np.savetxt(r'C:\\Users\\zongzhimin\\Desktop\\model\\txt\\m_1_rho.txt',rho_m1.T)"
   ]
  },
  {
   "cell_type": "code",
   "execution_count": 116,
   "metadata": {},
   "outputs": [],
   "source": [
    "vp_m1 = np.fromfile(r'\\\\10.1.4.151\\share\\zzm\\data\\others\\model_2\\model_400_600\\m_1.vp',dtype=np.float32)\n",
    "vs_m1 = np.fromfile(r'\\\\10.1.4.151\\share\\zzm\\data\\others\\model_2\\model_400_600\\m_1.vs',dtype=np.float32)\n",
    "rho_m1 = np.fromfile(r'\\\\10.1.4.151\\share\\zzm\\data\\others\\model_2\\model_400_600\\m_1.rho',dtype=np.float32)"
   ]
  },
  {
   "cell_type": "code",
   "execution_count": 117,
   "metadata": {},
   "outputs": [],
   "source": [
    "vp_m1 = vp_m1.reshape((600,400))\n",
    "vs_m1 = vs_m1.reshape((600,400))\n",
    "rho_m1 = rho_m1.reshape((600,400))"
   ]
  },
  {
   "cell_type": "code",
   "execution_count": 118,
   "metadata": {
    "scrolled": true
   },
   "outputs": [
    {
     "data": {
      "text/plain": [
       "<matplotlib.image.AxesImage at 0x1128f325710>"
      ]
     },
     "execution_count": 118,
     "metadata": {},
     "output_type": "execute_result"
    },
    {
     "data": {
      "image/png": "[encoded data removed]",
      "text/plain": [
       "<Figure size 432x288 with 1 Axes>"
      ]
     },
     "metadata": {
      "needs_background": "light"
     },
     "output_type": "display_data"
    }
   ],
   "source": [
    "plt.imshow(vp_m1.T)"
   ]
  },
  {
   "cell_type": "code",
   "execution_count": 119,
   "metadata": {},
   "outputs": [],
   "source": [
    "np.savetxt(r'C:\\Users\\zongzhimin\\Desktop\\model\\txt\\m_1_400_600_vp.txt',vp_m1.T)\n",
    "np.savetxt(r'C:\\Users\\zongzhimin\\Desktop\\model\\txt\\m_1_400_600_vs.txt',vs_m1.T)\n",
    "np.savetxt(r'C:\\Users\\zongzhimin\\Desktop\\model\\txt\\m_1_400_600_rho.txt',rho_m1.T)"
   ]
  }
 ],
 "metadata": {
  "kernelspec": {
   "display_name": "Python 3",
   "language": "python",
   "name": "python3"
  },
  "language_info": {
   "codemirror_mode": {
    "name": "ipython",
    "version": 3
   },
   "file_extension": ".py",
   "mimetype": "text/x-python",
   "name": "python",
   "nbconvert_exporter": "python",
   "pygments_lexer": "ipython3",
   "version": "3.7.3"
  }
 },
 "nbformat": 4,
 "nbformat_minor": 1
}