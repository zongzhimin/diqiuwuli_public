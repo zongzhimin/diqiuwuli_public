{
 "cells": [
  {
   "cell_type": "code",
   "execution_count": 1,
   "metadata": {},
   "outputs": [],
   "source": [
    "import imageio\n",
    "from PIL import Image\n",
    "import matplotlib.pyplot as plt\n",
    "import numpy as np"
   ]
  },
  {
   "cell_type": "code",
   "execution_count": 106,
   "metadata": {},
   "outputs": [],
   "source": [
    "content_image = imageio.imread(r\"C:\\Users\\zongzhimin\\Desktop\\model\\model_1500_1000.bmp\")"
   ]
  },
  {
   "cell_type": "code",
   "execution_count": 107,
   "metadata": {},
   "outputs": [
    {
     "data": {
      "text/plain": [
       "(1001, 1519, 3)"
      ]
     },
     "execution_count": 107,
     "metadata": {},
     "output_type": "execute_result"
    }
   ],
   "source": [
    "content_image.shape"
   ]
  },
  {
   "cell_type": "code",
   "execution_count": 108,
   "metadata": {},
   "outputs": [],
   "source": [
    "vp = content_image[:1000,:1500,2]"
   ]
  },
  {
   "cell_type": "code",
   "execution_count": 109,
   "metadata": {},
   "outputs": [
    {
     "data": {
      "text/plain": [
       "<matplotlib.image.AxesImage at 0x11f299c3e48>"
      ]
     },
     "execution_count": 109,
     "metadata": {},
     "output_type": "execute_result"
    },
    {
     "data": {
      "image/png": "[encoded data removed]",
      "text/plain": [
       "<Figure size 432x288 with 1 Axes>"
      ]
     },
     "metadata": {
      "needs_background": "light"
     },
     "output_type": "display_data"
    }
   ],
   "source": [
    "plt.imshow(vp)"
   ]
  },
  {
   "cell_type": "code",
   "execution_count": 110,
   "metadata": {},
   "outputs": [
    {
     "data": {
      "text/plain": [
       "Array([127, 127, 127, 127, 127, 127, 127, 127, 127, 127, 127, 127, 127,\n",
       "       127, 127, 127, 127, 127, 127, 127, 127, 127, 127, 127, 127, 127,\n",
       "       127, 127, 127, 127, 127, 127, 127, 127, 127, 127, 127, 127, 127,\n",
       "       127, 127, 127, 127, 127, 127, 127, 127, 127, 127, 127, 127, 127,\n",
       "       127, 127, 127, 127, 127, 127, 127, 127, 127, 127, 127, 127, 127,\n",
       "       127, 127, 127, 127, 127, 127, 127, 127, 127, 127, 127, 127, 127,\n",
       "       127, 127, 127, 127, 127, 127, 127, 127, 127, 127, 127, 127, 127,\n",
       "       127, 127, 127, 127, 127, 127, 127, 127, 127, 127, 127, 127, 127,\n",
       "         0,  36,  36,  36,  36,  36,  36,  36,  36,  36,  36,  36,  36,\n",
       "        36,  36,  36,  36,  36,  36,  36,  36,  36,  36,  36,  36,  36,\n",
       "        36,  36,  36,  36,  36,  36,  36,  36,  36,  36,  36,  36,  36,\n",
       "        36,  36,  36,  36,  36,  36,  36,  36,  36,  36,  36,  36,  36,\n",
       "        36,  36,  36,  36,  36,  36,   0,  76,  76,  76,  76,  76,  76,\n",
       "        76,  76,  76,  76,  76,  76,  76,  76,  76,  76,  76,  76,  76,\n",
       "        76,  76,  76,  76,  76,  76,  76,  76,  76,  76,  76,  76,  76,\n",
       "        76,  76,  76,  76,  76,  76,  76,  76,  76,  76,  76,  76,  76,\n",
       "        76,  76,  76,  76,  76,  76,  76,  76,  76,  76,  76,  76,  76,\n",
       "        76,  76,  76,  76,  76,  76,  76,  76,  76,  76,  76,  76,  76,\n",
       "        76,  76,  76,  76,  76,  76,  76,  76,  76,  76,  76,  76,  76,\n",
       "        76,  76,  76,  76,  76,  76,  76,  76,  76,  76,  76,  76,  76,\n",
       "        76,  76,  76,  76,  76,  76,  76,  76,  76,  76,  76,  76,  76,\n",
       "        76,  76,  76,  76,  76,  76,  76,  76,  76,  76,  76,  76,  76,\n",
       "        76,  76,  76,  76,  76,  76,  76,  76,  76,  76,  76,  76,  76,\n",
       "        76,  76,  76,  76,  76,  76,  76,  76,  76,  76,  76,  76,  76,\n",
       "        76,  76,  76,  76,  76,  76,  76,  76,   0,  14,  14,  14,  14,\n",
       "        14,  14,  14,  14,  14,  14,  14,  14,  14,  14,  14,  14,  14,\n",
       "        14,  14,  14,  14,  14,  14,  14,  14,  14,  14,  14,  14,  14,\n",
       "        14,  14,  14,  14,  14,  14,  14,  14,  14,  14,  14,  14,  14,\n",
       "        14,  14,  14,  14,  14,  14,  14,  14,  14,  14,  14,  14,  14,\n",
       "        14,  14,  14,  14,  14,  14,  14,  14,  14,  14,  14,  14,  14,\n",
       "        14,  14,  14,  14,  14,  14,  14,  14,  14,  14,  14,  14,  14,\n",
       "        14,  14,  14,  14,  14,  14,  14,  14,  14,  14,  14,  14,  14,\n",
       "        14,  14,  14,  14,  14,  14,  14,  14,  14,  14,  14,  14,  14,\n",
       "        14,  14,  14,  14,  14,  14,  14,  14,  14,  14,  14,  14,  14,\n",
       "        14,  14,   0, 231, 231, 231, 231, 231, 231, 231, 231, 231, 231,\n",
       "       231, 231, 231, 231, 231, 231, 231, 231, 231, 231, 231, 231, 231,\n",
       "       231, 231, 231, 231, 231, 231, 231, 231, 231, 231, 231, 231, 231,\n",
       "       231, 231, 231, 231, 231, 231, 231, 231, 231, 231, 231, 231, 231,\n",
       "       231, 231, 231, 231, 231, 231, 231, 231, 231, 231, 231, 231, 231,\n",
       "       231, 231, 231, 231, 231, 231, 231, 231, 231, 231, 231, 231, 231,\n",
       "       231, 231, 231, 231, 231, 231, 231, 231, 231, 231, 231, 231, 231,\n",
       "       231, 231, 231, 231, 231, 231, 231, 231, 231, 231, 231, 231, 231,\n",
       "       231, 231, 231, 231, 231, 231, 231, 231, 231, 231, 231, 231, 231,\n",
       "       231, 231, 231, 231, 231, 231, 231, 231, 231, 231, 231, 231, 231,\n",
       "       231, 231, 231, 231, 231, 231, 231, 231, 231, 231, 231, 231, 231,\n",
       "       231, 231, 231, 231, 231, 231, 231, 231, 231, 231, 231, 231, 231,\n",
       "       231, 231, 231, 231, 231, 231, 231, 231, 231, 231, 231, 231, 231,\n",
       "       231, 231, 231, 231, 231, 231, 231, 231, 231, 231, 231, 231, 231,\n",
       "       231, 231, 231, 231, 231, 231, 231, 231, 231, 231, 231, 231, 231,\n",
       "       231, 231, 231, 231, 231, 231, 231, 231, 231, 231, 231, 231, 231,\n",
       "       231, 231, 231, 231, 231, 231, 231, 231, 231, 231, 231, 231, 231,\n",
       "       231, 231, 231, 231, 231, 231, 231, 231, 231, 231, 231, 231, 231,\n",
       "       231, 231, 231, 231, 231, 231, 231, 231, 231, 231, 231, 231, 231,\n",
       "       231, 231, 231, 231, 231, 231, 231, 231, 231, 231, 231, 231, 231,\n",
       "       231, 231, 231, 231, 231, 231, 231, 231, 231, 231, 231, 231, 231,\n",
       "       231, 231, 231, 231, 231, 231, 231, 231, 231, 231, 231, 231, 231,\n",
       "       231, 231, 231, 231, 231, 231, 231, 231, 231, 231, 231, 231, 231,\n",
       "       231, 231, 231, 231, 231, 231, 231, 231, 231, 231, 231, 231, 231,\n",
       "       231, 231, 231, 231, 231, 231, 231, 231, 231, 231, 231, 231, 231,\n",
       "       231, 231, 231, 231, 231, 231, 231, 231, 231, 231, 231, 231, 231,\n",
       "       231, 231, 231, 231, 231, 231, 231, 231, 231, 231, 231, 231, 231,\n",
       "       231, 231, 231, 231, 231, 231, 231, 231, 231, 231, 231, 231, 231,\n",
       "       231, 231, 231, 231, 231, 231, 231, 231, 231, 231, 231, 231, 231,\n",
       "       231, 231, 231, 231, 231, 231, 231, 231, 231, 231, 231, 231, 231,\n",
       "       231, 231, 231, 231, 231, 231, 231, 231, 231, 231, 231, 231, 231,\n",
       "       231, 231, 231, 231, 231, 231, 231, 231, 231, 231, 231, 231, 231,\n",
       "       231, 231, 231, 231, 231, 231, 231, 231, 231, 231, 231, 231, 231,\n",
       "       231, 231, 231, 231, 231, 231, 231, 231, 231, 231, 231, 231, 231,\n",
       "       231, 231, 231, 231, 231, 231, 231, 231, 231, 231, 231, 231, 231,\n",
       "       231, 231, 231, 231, 231, 231, 231, 231, 231, 231, 231, 231, 231,\n",
       "       231, 231, 231, 231, 231, 231, 231, 231, 231, 231, 231, 231, 231,\n",
       "       231, 231, 231, 231, 231, 231, 231, 231, 231, 231, 231, 231, 231,\n",
       "       231, 231, 231, 231, 231, 231, 231, 231, 231, 231, 231, 231, 231,\n",
       "       231, 231, 231, 231, 231, 231, 231, 231, 231, 231, 231, 231, 231,\n",
       "       231, 231, 231, 231, 231, 231, 231, 231, 231, 231, 231, 231, 231,\n",
       "       231, 231, 231, 231, 231, 231, 231, 231, 231, 231, 231, 231, 231,\n",
       "       231, 231, 231, 231, 231, 231, 231, 231, 231, 231, 231, 231],\n",
       "      dtype=uint8)"
      ]
     },
     "execution_count": 110,
     "metadata": {},
     "output_type": "execute_result"
    }
   ],
   "source": [
    "vp[:,450]"
   ]
  },
  {
   "cell_type": "code",
   "execution_count": 111,
   "metadata": {},
   "outputs": [],
   "source": [
    "vp = np.where(vp==127,1800,vp)\n",
    "vp = np.where(vp==36,2500,vp)\n",
    "vp = np.where(vp==76,3500,vp)\n",
    "vp = np.where(vp==204,4000,vp)\n",
    "vp = np.where(vp==231,4500,vp)\n",
    "vp = np.where(vp==14,5500,vp)"
   ]
  },
  {
   "cell_type": "code",
   "execution_count": 133,
   "metadata": {},
   "outputs": [
    {
     "data": {
      "text/plain": [
       "<matplotlib.image.AxesImage at 0x11f2a005278>"
      ]
     },
     "execution_count": 133,
     "metadata": {},
     "output_type": "execute_result"
    },
    {
     "data": {
      "image/png": "[encoded data removed]",
      "text/plain": [
       "<Figure size 432x288 with 1 Axes>"
      ]
     },
     "metadata": {
      "needs_background": "light"
     },
     "output_type": "display_data"
    }
   ],
   "source": [
    "plt.imshow(vp)"
   ]
  },
  {
   "cell_type": "code",
   "execution_count": 132,
   "metadata": {},
   "outputs": [
    {
     "data": {
      "text/plain": [
       "0"
      ]
     },
     "execution_count": 132,
     "metadata": {},
     "output_type": "execute_result"
    }
   ],
   "source": [
    "len(np.where(vp == 0)[0])"
   ]
  },
  {
   "cell_type": "code",
   "execution_count": 131,
   "metadata": {},
   "outputs": [
    {
     "data": {
      "text/plain": [
       "(array([], dtype=int64), array([], dtype=int64))"
      ]
     },
     "execution_count": 131,
     "metadata": {},
     "output_type": "execute_result"
    }
   ],
   "source": [
    "np.where(vp == 0)"
   ]
  },
  {
   "cell_type": "code",
   "execution_count": 130,
   "metadata": {},
   "outputs": [],
   "source": [
    "for i in range(1000):\n",
    "    for j in range(1500):\n",
    "        if vp[i,j]!=1800 and vp[i,j]!=2500 and vp[i,j]!=3500 and vp[i,j]!=4000 and vp[i,j]!=4500 and vp[i,j]!=5500:\n",
    "            vp[i,j] = vp[i-1,j]"
   ]
  },
  {
   "cell_type": "code",
   "execution_count": 134,
   "metadata": {},
   "outputs": [],
   "source": [
    "np.save(r'C:\\Users\\zongzhimin\\Desktop\\model\\vp_1500_1000',vp)"
   ]
  },
  {
   "cell_type": "code",
   "execution_count": 135,
   "metadata": {},
   "outputs": [
    {
     "data": {
      "text/plain": [
       "(1000, 1500)"
      ]
     },
     "execution_count": 135,
     "metadata": {},
     "output_type": "execute_result"
    }
   ],
   "source": [
    "vp.shape"
   ]
  },
  {
   "cell_type": "code",
   "execution_count": 136,
   "metadata": {},
   "outputs": [],
   "source": [
    "vpdata = vp"
   ]
  },
  {
   "cell_type": "code",
   "execution_count": 137,
   "metadata": {},
   "outputs": [],
   "source": [
    "vsdata = vpdata / np.sqrt(3)"
   ]
  },
  {
   "cell_type": "code",
   "execution_count": 6,
   "metadata": {},
   "outputs": [],
   "source": [
    "# img = Image.open(r\"C:\\Users\\zongzhimin\\Desktop\\model\\model.bmp\")"
   ]
  },
  {
   "cell_type": "code",
   "execution_count": 22,
   "metadata": {},
   "outputs": [],
   "source": [
    "# img = img.resize((300, 200))\n",
    "# img.save(r\"C:\\Users\\zongzhimin\\Desktop\\model\\model_200_300.jpg\")"
   ]
  },
  {
   "cell_type": "code",
   "execution_count": 5,
   "metadata": {},
   "outputs": [],
   "source": [
    "m_rho = np.fromfile(r'C:\\Users\\zongzhimin\\Desktop\\model\\model_200_300\\m.rho',dtype=np.float32)\n",
    "m_vp = np.fromfile(r'C:\\Users\\zongzhimin\\Desktop\\model\\model_200_300\\m.vp',dtype=np.float32)\n",
    "m_vs = np.fromfile(r'C:\\Users\\zongzhimin\\Desktop\\model\\model_200_300\\m.vs',dtype=np.float32)"
   ]
  },
  {
   "cell_type": "code",
   "execution_count": 8,
   "metadata": {},
   "outputs": [],
   "source": [
    "m_rho = m_rho.reshape(300,200)\n",
    "m_vp = m_vp.reshape(300,200)\n",
    "m_vs = m_vs.reshape(300,200)"
   ]
  },
  {
   "cell_type": "code",
   "execution_count": 11,
   "metadata": {},
   "outputs": [
    {
     "data": {
      "text/plain": [
       "<matplotlib.image.AxesImage at 0x2051a91bac8>"
      ]
     },
     "execution_count": 11,
     "metadata": {},
     "output_type": "execute_result"
    },
    {
     "data": {
      "image/png": "[encoded data removed]",
      "text/plain": [
       "<Figure size 432x288 with 1 Axes>"
      ]
     },
     "metadata": {
      "needs_background": "light"
     },
     "output_type": "display_data"
    }
   ],
   "source": [
    "plt.imshow(m_vs.T)"
   ]
  },
  {
   "cell_type": "code",
   "execution_count": 15,
   "metadata": {},
   "outputs": [],
   "source": [
    "np.savetxt(r'C:\\Users\\zongzhimin\\Desktop\\model\\model_200_300\\m_rho_200_300.txt',m_rho.T)\n",
    "np.savetxt(r'C:\\Users\\zongzhimin\\Desktop\\model\\model_200_300\\m_vp_200_300.txt',m_vp.T)\n",
    "np.savetxt(r'C:\\Users\\zongzhimin\\Desktop\\model\\model_200_300\\m_vs_200_300.txt',m_vs.T)"
   ]
  }
 ],
 "metadata": {
  "kernelspec": {
   "display_name": "Python 3",
   "language": "python",
   "name": "python3"
  },
  "language_info": {
   "codemirror_mode": {
    "name": "ipython",
    "version": 3
   },
   "file_extension": ".py",
   "mimetype": "text/x-python",
   "name": "python",
   "nbconvert_exporter": "python",
   "pygments_lexer": "ipython3",
   "version": "3.7.3"
  }
 },
 "nbformat": 4,
 "nbformat_minor": 1
}
