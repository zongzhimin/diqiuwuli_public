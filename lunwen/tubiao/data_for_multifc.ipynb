{
 "cells": [
  {
   "cell_type": "code",
   "execution_count": 3,
   "metadata": {},
   "outputs": [],
   "source": [
    "import numpy as np\n",
    "from pre_experiment2.Multi_FC_Model import MultiFCModel\n",
    "from tensorflow.keras import optimizers\n",
    "from pre_experiment2.multiFC_utils import data_shffle\n",
    "import matplotlib.pyplot as plt\n",
    "import tensorflow as tf"
   ]
  },
  {
   "cell_type": "code",
   "execution_count": 14,
   "metadata": {},
   "outputs": [],
   "source": [
    "from pylab import mpl\n",
    "mpl.rcParams['font.sans-serif'] = ['SimHei'] # 指定默认字体\n",
    "mpl.rcParams['axes.unicode_minus'] = False # 解决保存图像是负号'-'显示为方块的问题"
   ]
  },
  {
   "cell_type": "code",
   "execution_count": 5,
   "metadata": {},
   "outputs": [
    {
     "data": {
      "text/plain": [
       "<tensorflow.python.training.tracking.util.CheckpointLoadStatus at 0x209e550f438>"
      ]
     },
     "execution_count": 5,
     "metadata": {},
     "output_type": "execute_result"
    }
   ],
   "source": [
    "model = MultiFCModel()\n",
    "model.load_weights(r'E:\\stuCode\\diqiuwuli\\pre_experiment2\\weights\\weights_s_30.w')"
   ]
  },
  {
   "cell_type": "code",
   "execution_count": 8,
   "metadata": {},
   "outputs": [],
   "source": [
    "x_test = np.load(r'E:\\tools\\写论文\\图表数据\\多层全连接\\x_test_512_'+str(1)+'.npy')\n",
    "y_test = np.load(r'E:\\tools\\写论文\\图表数据\\多层全连接\\y_test_s_'+str(1)+'.npy')*1000"
   ]
  },
  {
   "cell_type": "code",
   "execution_count": 18,
   "metadata": {},
   "outputs": [],
   "source": [
    "y_test_dc = np.load(r'E:\\tools\\写论文\\图表数据\\多层全连接\\y_test_'+str(1)+'.npy')"
   ]
  },
  {
   "cell_type": "code",
   "execution_count": 29,
   "metadata": {},
   "outputs": [
    {
     "data": {
      "text/plain": [
       "170.66667"
      ]
     },
     "execution_count": 29,
     "metadata": {},
     "output_type": "execute_result"
    }
   ],
   "source": [
    "y_test[0][0]"
   ]
  },
  {
   "cell_type": "code",
   "execution_count": 30,
   "metadata": {},
   "outputs": [
    {
     "data": {
      "text/plain": [
       "256.0"
      ]
     },
     "execution_count": 30,
     "metadata": {},
     "output_type": "execute_result"
    }
   ],
   "source": [
    "y_test_dc[0][0]"
   ]
  },
  {
   "cell_type": "code",
   "execution_count": 33,
   "metadata": {},
   "outputs": [
    {
     "data": {
      "text/plain": [
       "256.00000500000004"
      ]
     },
     "execution_count": 33,
     "metadata": {},
     "output_type": "execute_result"
    }
   ],
   "source": [
    "170.66667/1000 * 1500"
   ]
  },
  {
   "cell_type": "code",
   "execution_count": 10,
   "metadata": {},
   "outputs": [
    {
     "data": {
      "text/plain": [
       "((512, 33, 10240), (512, 512))"
      ]
     },
     "execution_count": 10,
     "metadata": {},
     "output_type": "execute_result"
    }
   ],
   "source": [
    "x_test.shape,y_test.shape"
   ]
  },
  {
   "cell_type": "code",
   "execution_count": 50,
   "metadata": {},
   "outputs": [
    {
     "data": {
      "image/png": "[encoded data removed]",
      "text/plain": [
       "<Figure size 432x288 with 1 Axes>"
      ]
     },
     "metadata": {
      "needs_background": "light"
     },
     "output_type": "display_data"
    }
   ],
   "source": [
    "plt.title(\"时域预测\")\n",
    "plt.ylabel(\"时间（ms）\")\n",
    "plt.xlabel(\"距离(m)\")\n",
    "plt.xticks([0,100,200,300,400,500],[0,200,400,600,800,1000])\n",
    "plt.plot([i for i in range(512)],y_test[16],label='time')\n",
    "plt.legend()\n",
    "plt.ylim(100, 200)\n",
    "plt.savefig(r'E:\\tools\\写论文\\图表数据\\多层全连接\\时域标签.jpg',bbox_inches='tight',dpi=300,pad_inches=0.5)"
   ]
  },
  {
   "cell_type": "code",
   "execution_count": 51,
   "metadata": {},
   "outputs": [],
   "source": [
    "train_loss = np.load(r'E:\\stuCode\\diqiuwuli\\pre_experiment2\\loss\\train_loss.npy')"
   ]
  },
  {
   "cell_type": "code",
   "execution_count": 52,
   "metadata": {},
   "outputs": [
    {
     "data": {
      "text/plain": [
       "array([5978.275   ,  874.64166 ,  452.59863 ,  267.21826 ,  185.7383  ,\n",
       "        135.91916 ,   96.093666,   69.5231  ,   53.94493 ,   46.622055,\n",
       "         41.39439 ,   37.71063 ,   34.54391 ,   31.894987,   29.595545,\n",
       "         27.665808,   26.028633,   24.661943,   23.423836,   22.37243 ,\n",
       "         22.12098 ,   32.94798 ,   82.69393 ,   78.721664,   33.770554,\n",
       "         26.875826,   23.958563,   20.93786 ,   19.868826,   20.620596,\n",
       "         22.909334,   39.177204,   85.08204 ,   68.02882 ,  116.704926,\n",
       "         48.467224,   31.51755 ,   24.692434,   23.41082 ,   23.751951,\n",
       "         23.894402,   23.822767,   24.686998,   27.316202,   32.067142,\n",
       "         39.0217  ,   53.77538 ,  106.65525 ,  275.7091  ,   99.33109 ,\n",
       "         44.484146,   34.38612 ,   39.98201 ,   46.978703,   61.405655,\n",
       "       6495.0312  ,  901.88525 ,  407.91467 ,  260.2006  ,  178.55385 ,\n",
       "        127.570854,   89.007385,   67.02128 ,   54.86221 ,   48.1326  ,\n",
       "         43.46118 ,   39.870705,   36.9127  ,   34.378048,   32.16401 ,\n",
       "         30.068106,   28.107231,   26.37457 ,   24.942915,   23.54402 ,\n",
       "         22.190191,   21.060226,   20.153564,   19.81618 ], dtype=float32)"
      ]
     },
     "execution_count": 52,
     "metadata": {},
     "output_type": "execute_result"
    }
   ],
   "source": [
    "train_loss"
   ]
  },
  {
   "cell_type": "code",
   "execution_count": 53,
   "metadata": {},
   "outputs": [],
   "source": [
    "dev_loss = np.load(r'E:\\stuCode\\diqiuwuli\\pre_experiment2\\loss\\dev_loss.npy')"
   ]
  },
  {
   "cell_type": "code",
   "execution_count": 54,
   "metadata": {},
   "outputs": [
    {
     "data": {
      "text/plain": [
       "array([1682.8978  ,  612.62714 ,  347.84836 ,  232.88742 ,  185.91199 ,\n",
       "        133.4778  ,   95.09709 ,   75.47232 ,   64.202965,   58.53135 ,\n",
       "         53.786102,   49.621952,   46.070408,   43.51658 ,   41.78196 ,\n",
       "         40.87447 ,   39.998264,   39.278137,   38.37483 ,   36.43309 ,\n",
       "         43.926613,   36.99431 ,  124.177574,   44.92858 ,   41.745552,\n",
       "         34.138397,   36.212475,   39.3106  ,   40.890965,   35.03157 ,\n",
       "         30.050024,   72.21613 ,  127.49153 ,   40.511726,   83.72867 ,\n",
       "         48.07    ,   34.338024,   35.38439 ,   36.19932 ,   34.60611 ,\n",
       "         37.593468,   44.81033 ,   51.329292,   54.48503 ,   62.61522 ,\n",
       "         95.52757 ,  168.758   ,  255.81332 ,  358.72897 ,   54.20856 ,\n",
       "         35.137547,   49.952965,   70.84314 ,   95.096405, 1399.6426  ,\n",
       "        542.2597  ,  333.03088 ,  231.164   ,  171.23001 ,  127.13339 ,\n",
       "         96.07786 ,   76.99559 ,   67.05831 ,   60.56224 ,   55.632854,\n",
       "         52.207596,   49.48835 ,   47.243343,   44.976578,   42.81121 ,\n",
       "         40.9104  ,   39.353622,   38.182327,   37.082428,   35.980034,\n",
       "         35.008816,   33.984295,   35.592545], dtype=float32)"
      ]
     },
     "execution_count": 54,
     "metadata": {},
     "output_type": "execute_result"
    }
   ],
   "source": [
    "dev_loss"
   ]
  }
 ],
 "metadata": {
  "kernelspec": {
   "display_name": "Python 3",
   "language": "python",
   "name": "python3"
  },
  "language_info": {
   "codemirror_mode": {
    "name": "ipython",
    "version": 3
   },
   "file_extension": ".py",
   "mimetype": "text/x-python",
   "name": "python",
   "nbconvert_exporter": "python",
   "pygments_lexer": "ipython3",
   "version": "3.7.3"
  }
 },
 "nbformat": 4,
 "nbformat_minor": 1
}
