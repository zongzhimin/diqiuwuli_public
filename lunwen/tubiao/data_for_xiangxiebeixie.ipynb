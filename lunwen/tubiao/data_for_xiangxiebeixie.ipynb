{
 "cells": [
  {
   "cell_type": "code",
   "execution_count": 1,
   "metadata": {},
   "outputs": [],
   "source": [
    "import numpy as np\n",
    "# from tensorflow.keras import optimizers,Sequential, layers, Model\n",
    "import matplotlib.pyplot as plt\n",
    "# import tensorflow as tf\n",
    "\n",
    "\n",
    "from pylab import mpl\n",
    "mpl.rcParams['font.sans-serif'] = ['SimHei'] # 指定默认字体\n",
    "mpl.rcParams['axes.unicode_minus'] = False # 解决保存图像是负号'-'显示为方块的问题\n",
    "\n",
    "import json"
   ]
  },
  {
   "cell_type": "code",
   "execution_count": 37,
   "metadata": {},
   "outputs": [],
   "source": [
    "from matplotlib import colors"
   ]
  },
  {
   "cell_type": "code",
   "execution_count": 2,
   "metadata": {},
   "outputs": [],
   "source": [
    "# 单层预测\n",
    "class FcCvModelV(Model):\n",
    "    def __init__(self):\n",
    "        super(FcCvModelV, self).__init__()\n",
    "        # 多层全链接的第一层，每一道数据的提取\n",
    "        # 实际上是在每道上的滑动全连接\n",
    "        self.fcOne = Sequential([\n",
    "            layers.Dense(64),\n",
    "            layers.BatchNormalization(),\n",
    "            layers.LeakyReLU(0.2),\n",
    "            layers.Dense(8),\n",
    "            layers.BatchNormalization(),\n",
    "            layers.LeakyReLU(0.2)\n",
    "        ])\n",
    "        # 1.减少过拟合的情况\n",
    "        # 2.模拟道数据的丢失\n",
    "        self.dropout_fc = layers.Dropout(0.3)\n",
    "\n",
    "        # 1维卷积综合提取特征\n",
    "        self.conv1 = Sequential([\n",
    "            layers.Conv1D(filters=64, kernel_size=9, strides=1, padding='same'),\n",
    "            layers.BatchNormalization(),\n",
    "            layers.LeakyReLU(0.2)\n",
    "        ])\n",
    "        self.dropout_c1 = layers.Dropout(0.3)\n",
    "        self.conv2 = Sequential([\n",
    "            layers.Conv1D(filters=64, kernel_size=9, strides=1, padding='same'),\n",
    "            layers.BatchNormalization(),\n",
    "            layers.LeakyReLU(0.2)\n",
    "        ])\n",
    "        self.dropout_c2 = layers.Dropout(0.3)\n",
    "        # 1维卷积综合提取特征+降维\n",
    "        self.conv3 = Sequential([\n",
    "            layers.Conv1D(filters=128, kernel_size=4, strides=4, padding='valid'),\n",
    "            layers.BatchNormalization(),\n",
    "            layers.LeakyReLU(0.2)\n",
    "        ])\n",
    "        self.dropout_c3 = layers.Dropout(0.3)\n",
    "        # 1维卷积综合提取特征\n",
    "        self.conv4 = Sequential([\n",
    "            layers.Conv1D(filters=128, kernel_size=7, strides=1, padding='same'),\n",
    "            layers.BatchNormalization(),\n",
    "            layers.LeakyReLU(0.2)\n",
    "        ])\n",
    "        self.dropout_c4 = layers.Dropout(0.3)\n",
    "        self.conv5 = Sequential([\n",
    "            layers.Conv1D(filters=128, kernel_size=7, strides=1, padding='same'),\n",
    "            layers.BatchNormalization(),\n",
    "            layers.LeakyReLU(0.2)\n",
    "        ])\n",
    "        self.dropout_c5 = layers.Dropout(0.3)\n",
    "        # 1维卷积综合提取特征+降维\n",
    "        self.conv6 = Sequential([\n",
    "            layers.Conv1D(filters=256, kernel_size=4, strides=4, padding='valid'),\n",
    "            layers.BatchNormalization(),\n",
    "            layers.LeakyReLU(0.2)\n",
    "        ])\n",
    "        # 最终作出异常体坐标与半径的预测\n",
    "        self.fcThree = Sequential([\n",
    "            layers.Dense(512)\n",
    "        ])\n",
    "\n",
    "    def call(self, inputs, training=None, mask=None):\n",
    "        batchSize, dao_num, data_num = inputs.shape\n",
    "        x = tf.reshape(inputs, (-1, 1024))\n",
    "        x = self.fcOne(x)\n",
    "        x = tf.reshape(x, (batchSize, dao_num, -1))\n",
    "        x = tf.transpose(x, perm=[0, 2, 1])\n",
    "        x = self.dropout_fc(x, training=training)\n",
    "        x = self.conv1(x)\n",
    "        x = self.dropout_c1(x, training=training)\n",
    "        x = self.conv2(x)\n",
    "        x = self.dropout_c2(x, training=training)\n",
    "        x = self.conv3(x)\n",
    "        x = self.dropout_c3(x, training=training)\n",
    "        x = self.conv4(x)\n",
    "        x = self.dropout_c4(x, training=training)\n",
    "        x = self.conv5(x)\n",
    "        x = self.dropout_c5(x, training=training)\n",
    "        x = self.conv6(x)\n",
    "        x = tf.reshape(x, (batchSize, -1))\n",
    "        x = self.fcThree(x)\n",
    "        return x"
   ]
  },
  {
   "cell_type": "code",
   "execution_count": 3,
   "metadata": {},
   "outputs": [
    {
     "data": {
      "text/plain": [
       "<tensorflow.python.training.tracking.util.CheckpointLoadStatus at 0x263160cb828>"
      ]
     },
     "execution_count": 3,
     "metadata": {},
     "output_type": "execute_result"
    }
   ],
   "source": [
    "model = FcCvModelV()\n",
    "model.load_weights(r'E:\\tools\\写论文\\图表数据\\单层向斜背斜预测\\weights\\weights_'+str(1798))"
   ]
  },
  {
   "cell_type": "code",
   "execution_count": 8,
   "metadata": {},
   "outputs": [],
   "source": [
    "test_x = np.load(r'E:\\tools\\写论文\\图表数据\\单层向斜背斜预测\\部分测试数据\\x_test_512_1.npy')\n",
    "test_y = np.load(r'E:\\tools\\写论文\\图表数据\\单层向斜背斜预测\\部分测试数据\\x_test_s_1.npy')*1000"
   ]
  },
  {
   "cell_type": "code",
   "execution_count": 6,
   "metadata": {},
   "outputs": [],
   "source": [
    "y_test_pred = model(test_x)\n",
    "test_loss = tf.reduce_mean(tf.losses.MSE(y_test_pred, test_y))"
   ]
  },
  {
   "cell_type": "code",
   "execution_count": 10,
   "metadata": {},
   "outputs": [
    {
     "data": {
      "text/plain": [
       "<tf.Tensor: id=679, shape=(), dtype=float32, numpy=25.656101>"
      ]
     },
     "execution_count": 10,
     "metadata": {},
     "output_type": "execute_result"
    }
   ],
   "source": [
    "test_loss"
   ]
  },
  {
   "cell_type": "code",
   "execution_count": 3,
   "metadata": {},
   "outputs": [],
   "source": [
    "y_test_pred = np.load(r'E:\\tools\\写论文\\图表数据\\单层向斜背斜预测\\部分测试数据\\y_test_pred.npy')"
   ]
  },
  {
   "cell_type": "code",
   "execution_count": 54,
   "metadata": {},
   "outputs": [],
   "source": [
    "data_json_f = open(r'E:\\tools\\写论文\\图表数据\\单层向斜背斜预测\\run-loss_all_Fcov_xiangxiebeixie-tag-dev_loss.json','r')\n",
    "data_json = json.load(data_json_f)\n",
    "data_json_f.close()\n",
    "loss_dev = np.array(data_json)\n",
    "loss_dev_index = loss_dev[:,1]\n",
    "loss_dev_loss = loss_dev[:,2]\n",
    "\n",
    "data_json_f = open(r'E:\\tools\\写论文\\图表数据\\单层向斜背斜预测\\run-loss_all_Fcov_xiangxiebeixie-tag-train_loss.json','r')\n",
    "data_json = json.load(data_json_f)\n",
    "data_json_f.close()\n",
    "loss_train = np.array(data_json)\n",
    "loss_train_index = loss_train[:,1]\n",
    "loss_train_loss = loss_train[:,2]\n",
    "\n",
    "data_json_f = open(r'E:\\tools\\写论文\\图表数据\\单层向斜背斜预测\\run-loss_all_Fcov_xiangxiebeixie_300+-tag-dev_loss.json','r')\n",
    "data_json = json.load(data_json_f)\n",
    "data_json_f.close()\n",
    "loss_dev_300 = np.array(data_json)\n",
    "loss_dev_300_index = loss_dev_300[:,1]\n",
    "loss_dev_300_loss = loss_dev_300[:,2]\n",
    "\n",
    "data_json_f = open(r'E:\\tools\\写论文\\图表数据\\单层向斜背斜预测\\run-loss_all_Fcov_xiangxiebeixie_300+-tag-train_loss.json','r')\n",
    "data_json = json.load(data_json_f)\n",
    "data_json_f.close()\n",
    "loss_train_300 = np.array(data_json)\n",
    "loss_train_300_index = loss_train_300[:,1]\n",
    "loss_train_300_loss = loss_train_300[:,2]\n",
    "\n",
    "data_json_f = open(r'E:\\tools\\写论文\\图表数据\\单层向斜背斜预测\\run-loss_all_Fcov_xiangxiebeixie_450+-tag-dev_loss.json','r')\n",
    "data_json = json.load(data_json_f)\n",
    "data_json_f.close()\n",
    "loss_dev_450 = np.array(data_json)\n",
    "loss_dev_450_index = loss_dev_450[:,1]\n",
    "loss_dev_450_loss = loss_dev_450[:,2]\n",
    "\n",
    "data_json_f = open(r'E:\\tools\\写论文\\图表数据\\单层向斜背斜预测\\run-loss_all_Fcov_xiangxiebeixie_450+-tag-train_loss.json','r')\n",
    "data_json = json.load(data_json_f)\n",
    "data_json_f.close()\n",
    "loss_train_450 = np.array(data_json)\n",
    "loss_train_450_index = loss_train_450[:,1]\n",
    "loss_train_450_loss = loss_train_450[:,2]\n",
    "\n",
    "data_json_f = open(r'E:\\tools\\写论文\\图表数据\\单层向斜背斜预测\\run-loss_all_Fcov_xiangxiebeixie_1362_2-tag-dev_loss.json','r')\n",
    "data_json = json.load(data_json_f)\n",
    "data_json_f.close()\n",
    "loss_dev_1362 = np.array(data_json)\n",
    "loss_dev_1362_index = loss_dev_1362[:,1]\n",
    "loss_dev_1362_loss = loss_dev_1362[:,2]\n",
    "\n",
    "data_json_f = open(r'E:\\tools\\写论文\\图表数据\\单层向斜背斜预测\\run-loss_all_Fcov_xiangxiebeixie_1362_2-tag-train_loss.json','r')\n",
    "data_json = json.load(data_json_f)\n",
    "data_json_f.close()\n",
    "loss_train_1362 = np.array(data_json)\n",
    "loss_train_1362_index = loss_train_1362[:,1]\n",
    "loss_train_1362_loss = loss_train_1362[:,2]"
   ]
  },
  {
   "cell_type": "code",
   "execution_count": 40,
   "metadata": {},
   "outputs": [],
   "source": [
    "np.save(r'E:\\tools\\写论文\\图表数据\\单层向斜背斜预测\\dev_index',dev_index)\n",
    "np.save(r'E:\\tools\\写论文\\图表数据\\单层向斜背斜预测\\dev_loss',dev_loss)\n",
    "np.save(r'E:\\tools\\写论文\\图表数据\\单层向斜背斜预测\\train_index',train_index)\n",
    "np.save(r'E:\\tools\\写论文\\图表数据\\单层向斜背斜预测\\train_loss',train_loss)"
   ]
  },
  {
   "cell_type": "code",
   "execution_count": 55,
   "metadata": {},
   "outputs": [],
   "source": [
    "dev_index = np.load(r'E:\\tools\\写论文\\图表数据\\单层向斜背斜预测\\dev_index.npy')\n",
    "dev_loss = np.load(r'E:\\tools\\写论文\\图表数据\\单层向斜背斜预测\\dev_loss.npy')\n",
    "train_index = np.load(r'E:\\tools\\写论文\\图表数据\\单层向斜背斜预测\\train_index.npy')\n",
    "train_loss = np.load(r'E:\\tools\\写论文\\图表数据\\单层向斜背斜预测\\train_loss.npy')"
   ]
  },
  {
   "cell_type": "code",
   "execution_count": 60,
   "metadata": {},
   "outputs": [
    {
     "data": {
      "text/plain": [
       "27.157630920410156"
      ]
     },
     "execution_count": 60,
     "metadata": {},
     "output_type": "execute_result"
    }
   ],
   "source": [
    "train_loss[-1]"
   ]
  },
  {
   "cell_type": "code",
   "execution_count": 61,
   "metadata": {},
   "outputs": [
    {
     "data": {
      "text/plain": [
       "31.656816482543945"
      ]
     },
     "execution_count": 61,
     "metadata": {},
     "output_type": "execute_result"
    }
   ],
   "source": [
    "dev_loss[-1]"
   ]
  },
  {
   "cell_type": "code",
   "execution_count": null,
   "metadata": {},
   "outputs": [],
   "source": []
  },
  {
   "cell_type": "code",
   "execution_count": 41,
   "metadata": {},
   "outputs": [
    {
     "data": {
      "image/png": "[encoded data removed]",
      "text/plain": [
       "<Figure size 432x288 with 1 Axes>"
      ]
     },
     "metadata": {
      "needs_background": "light"
     },
     "output_type": "display_data"
    }
   ],
   "source": [
    "plt.title(\"单层预测训练中loss变化\")\n",
    "plt.ylabel(\"loss\")\n",
    "plt.xlabel(\"迭代次数\")\n",
    "plt.plot(dev_index,dev_loss,label='dev_loss')\n",
    "plt.plot(train_index,train_loss,label='train_loss')\n",
    "plt.legend()\n",
    "plt.savefig(r'E:\\tools\\写论文\\图表数据\\单层向斜背斜预测\\单层预测训练中loss变化.jpg',bbox_inches='tight',dpi=300,pad_inches=0.5)"
   ]
  },
  {
   "cell_type": "code",
   "execution_count": 42,
   "metadata": {},
   "outputs": [
    {
     "data": {
      "text/plain": [
       "2000"
      ]
     },
     "execution_count": 42,
     "metadata": {},
     "output_type": "execute_result"
    }
   ],
   "source": [
    "len(dev_index)"
   ]
  },
  {
   "cell_type": "code",
   "execution_count": 44,
   "metadata": {},
   "outputs": [
    {
     "data": {
      "image/png": "[encoded data removed]",
      "text/plain": [
       "<Figure size 432x288 with 1 Axes>"
      ]
     },
     "metadata": {
      "needs_background": "light"
     },
     "output_type": "display_data"
    }
   ],
   "source": [
    "plt.title(\"单层预测训练中loss变化(后半段)\")\n",
    "plt.ylabel(\"loss\")\n",
    "plt.xlabel(\"迭代次数\")\n",
    "plt.plot(dev_index[1000:],dev_loss[1000:],label='dev_loss')\n",
    "plt.plot(train_index[1000:],train_loss[1000:],label='train_loss')\n",
    "plt.legend()\n",
    "plt.savefig(r'E:\\tools\\写论文\\图表数据\\单层向斜背斜预测\\单层预测训练中loss变化(后半段).jpg',bbox_inches='tight',dpi=300,pad_inches=0.5)"
   ]
  },
  {
   "cell_type": "code",
   "execution_count": 39,
   "metadata": {},
   "outputs": [
    {
     "data": {
      "image/png": "[encoded data removed]",
      "text/plain": [
       "<Figure size 432x288 with 1 Axes>"
      ]
     },
     "metadata": {
      "needs_background": "light"
     },
     "output_type": "display_data"
    },
    {
     "data": {
      "image/png": "[encoded data removed]",
      "text/plain": [
       "<Figure size 432x288 with 1 Axes>"
      ]
     },
     "metadata": {
      "needs_background": "light"
     },
     "output_type": "display_data"
    }
   ],
   "source": [
    "# plt.plot(loss_dev_index[2:300],loss_dev_loss[2:300])\n",
    "# plt.show()\n",
    "# plt.plot(loss_train_index[2:300],loss_train_loss[2:300])\n",
    "# plt.show()\n",
    "\n",
    "# plt.plot(loss_dev_450_index,loss_dev_450_loss)\n",
    "# plt.show()\n",
    "# plt.plot(loss_train_450_index,loss_train_450_loss)\n",
    "# plt.show()\n",
    "dev_index = np.concatenate([loss_dev_index[100:300],loss_dev_450_index[0:800] , 1378 + loss_dev_1362_index],axis=-1)\n",
    "dev_loss = np.concatenate([loss_dev_loss[100:300],loss_dev_450_loss[0:800] , loss_dev_1362_loss],axis=-1)\n",
    "train_index = np.concatenate([ loss_train_index[100:300],loss_train_450_index[0:800] , 1378 + loss_train_1362_index],axis=-1)\n",
    "train_loss = np.concatenate([ loss_train_loss[100:300],loss_train_450_loss[0:800] , loss_train_1362_loss],axis=-1)\n",
    "\n",
    "plt.plot(dev_index,dev_loss)\n",
    "plt.show()\n",
    "plt.plot(train_index,train_loss)\n",
    "plt.show()"
   ]
  },
  {
   "cell_type": "code",
   "execution_count": 38,
   "metadata": {},
   "outputs": [
    {
     "ename": "KeyboardInterrupt",
     "evalue": "",
     "output_type": "error",
     "traceback": [
      "\u001b[1;31m---------------------------------------------------------------------------\u001b[0m",
      "\u001b[1;31mKeyboardInterrupt\u001b[0m                         Traceback (most recent call last)",
      "\u001b[1;32m<ipython-input-38-9cd091ce03ac>\u001b[0m in \u001b[0;36m<module>\u001b[1;34m\u001b[0m\n\u001b[0;32m     24\u001b[0m                 \u001b[0mvsdata\u001b[0m \u001b[1;33m=\u001b[0m \u001b[0mvpdata\u001b[0m \u001b[1;33m/\u001b[0m \u001b[0mnp\u001b[0m\u001b[1;33m.\u001b[0m\u001b[0msqrt\u001b[0m\u001b[1;33m(\u001b[0m\u001b[1;36m3\u001b[0m\u001b[1;33m)\u001b[0m\u001b[1;33m\u001b[0m\u001b[1;33m\u001b[0m\u001b[0m\n\u001b[0;32m     25\u001b[0m                 \u001b[0mrhodata\u001b[0m \u001b[1;33m=\u001b[0m \u001b[1;36m0.31\u001b[0m \u001b[1;33m*\u001b[0m \u001b[0mvpdata\u001b[0m \u001b[1;33m**\u001b[0m \u001b[1;33m(\u001b[0m\u001b[1;36m1\u001b[0m \u001b[1;33m/\u001b[0m \u001b[1;36m4\u001b[0m\u001b[1;33m)\u001b[0m \u001b[1;33m*\u001b[0m \u001b[1;36m1000\u001b[0m\u001b[1;33m\u001b[0m\u001b[1;33m\u001b[0m\u001b[0m\n\u001b[1;32m---> 26\u001b[1;33m                 \u001b[0mnp\u001b[0m\u001b[1;33m.\u001b[0m\u001b[0msave\u001b[0m\u001b[1;33m(\u001b[0m\u001b[1;34mr'E:\\tools\\写论文\\图表数据\\单层向斜背斜预测\\部分测试数据\\model\\model_sd_'\u001b[0m \u001b[1;33m+\u001b[0m \u001b[0mstr\u001b[0m\u001b[1;33m(\u001b[0m\u001b[0mcount\u001b[0m\u001b[1;33m)\u001b[0m\u001b[1;33m,\u001b[0m\u001b[0mvpdata\u001b[0m\u001b[1;33m)\u001b[0m\u001b[1;33m\u001b[0m\u001b[1;33m\u001b[0m\u001b[0m\n\u001b[0m\u001b[0;32m     27\u001b[0m \u001b[1;31m#                 保存模型为32float的二进制文件：\u001b[0m\u001b[1;33m\u001b[0m\u001b[1;33m\u001b[0m\u001b[1;33m\u001b[0m\u001b[0m\n\u001b[0;32m     28\u001b[0m \u001b[1;31m#                 vpdata.tofile(r'E:\\model_512_speed_depth\\model_sd_' + str(count) + '.vp')\u001b[0m\u001b[1;33m\u001b[0m\u001b[1;33m\u001b[0m\u001b[1;33m\u001b[0m\u001b[0m\n",
      "\u001b[1;32mD:\\development\\Anaconda3\\lib\\site-packages\\numpy\\lib\\npyio.py\u001b[0m in \u001b[0;36msave\u001b[1;34m(file, arr, allow_pickle, fix_imports)\u001b[0m\n\u001b[0;32m    534\u001b[0m         \u001b[0marr\u001b[0m \u001b[1;33m=\u001b[0m \u001b[0mnp\u001b[0m\u001b[1;33m.\u001b[0m\u001b[0masanyarray\u001b[0m\u001b[1;33m(\u001b[0m\u001b[0marr\u001b[0m\u001b[1;33m)\u001b[0m\u001b[1;33m\u001b[0m\u001b[1;33m\u001b[0m\u001b[0m\n\u001b[0;32m    535\u001b[0m         format.write_array(fid, arr, allow_pickle=allow_pickle,\n\u001b[1;32m--> 536\u001b[1;33m                            pickle_kwargs=pickle_kwargs)\n\u001b[0m\u001b[0;32m    537\u001b[0m     \u001b[1;32mfinally\u001b[0m\u001b[1;33m:\u001b[0m\u001b[1;33m\u001b[0m\u001b[1;33m\u001b[0m\u001b[0m\n\u001b[0;32m    538\u001b[0m         \u001b[1;32mif\u001b[0m \u001b[0mown_fid\u001b[0m\u001b[1;33m:\u001b[0m\u001b[1;33m\u001b[0m\u001b[1;33m\u001b[0m\u001b[0m\n",
      "\u001b[1;32mD:\\development\\Anaconda3\\lib\\site-packages\\numpy\\lib\\format.py\u001b[0m in \u001b[0;36mwrite_array\u001b[1;34m(fp, array, version, allow_pickle, pickle_kwargs)\u001b[0m\n\u001b[0;32m    642\u001b[0m     \u001b[1;32melse\u001b[0m\u001b[1;33m:\u001b[0m\u001b[1;33m\u001b[0m\u001b[1;33m\u001b[0m\u001b[0m\n\u001b[0;32m    643\u001b[0m         \u001b[1;32mif\u001b[0m \u001b[0misfileobj\u001b[0m\u001b[1;33m(\u001b[0m\u001b[0mfp\u001b[0m\u001b[1;33m)\u001b[0m\u001b[1;33m:\u001b[0m\u001b[1;33m\u001b[0m\u001b[1;33m\u001b[0m\u001b[0m\n\u001b[1;32m--> 644\u001b[1;33m             \u001b[0marray\u001b[0m\u001b[1;33m.\u001b[0m\u001b[0mtofile\u001b[0m\u001b[1;33m(\u001b[0m\u001b[0mfp\u001b[0m\u001b[1;33m)\u001b[0m\u001b[1;33m\u001b[0m\u001b[1;33m\u001b[0m\u001b[0m\n\u001b[0m\u001b[0;32m    645\u001b[0m         \u001b[1;32melse\u001b[0m\u001b[1;33m:\u001b[0m\u001b[1;33m\u001b[0m\u001b[1;33m\u001b[0m\u001b[0m\n\u001b[0;32m    646\u001b[0m             for chunk in numpy.nditer(\n",
      "\u001b[1;31mKeyboardInterrupt\u001b[0m: "
     ]
    }
   ],
   "source": [
    "k = 0\n",
    "count = 0\n",
    "while k < 100:\n",
    "    vpdata = np.zeros((512, 512), dtype=np.float32)\n",
    "    x = np.random.randint(128, 384, size=(3))\n",
    "    y = np.random.randint(256, 384, size=(3))\n",
    "    x[0] = 0\n",
    "    x[2] = 511\n",
    "    z1 = np.polyfit(x, y, 2)\n",
    "    p1 = np.poly1d(z1)\n",
    "    depths = np.round(p1([i for i in range(512)])).astype(np.int32)\n",
    "    if np.max(depths) > 511 or np.min(depths) < 0:\n",
    "        print(\"no\")\n",
    "    else:\n",
    "        max_depth = np.max(depths)\n",
    "        min_depth = np.min(depths)\n",
    "        change_up = int(min_depth / 3)\n",
    "        change_deep = int((512 - max_depth) / 2)\n",
    "        for depth_change in [-change_up, -2 * change_up, 0, change_deep]:\n",
    "            for speed in [1500, 1600, 1700, 1800]:\n",
    "                for i, depth in enumerate(depths + depth_change):\n",
    "                    vpdata[i][0:depth] = speed\n",
    "                    vpdata[i][depth:] = 2200\n",
    "                vsdata = vpdata / np.sqrt(3)\n",
    "                rhodata = 0.31 * vpdata ** (1 / 4) * 1000\n",
    "                np.save(r'E:\\tools\\写论文\\图表数据\\单层向斜背斜预测\\部分测试数据\\model\\model_sd_' + str(count),vpdata)\n",
    "#                 保存模型为32float的二进制文件：\n",
    "#                 vpdata.tofile(r'E:\\model_512_speed_depth\\model_sd_' + str(count) + '.vp')\n",
    "#                 vsdata.tofile(r'E:\\model_512_speed_depth\\model_sd_' + str(count) + '.vs')\n",
    "#                 rhodata.tofile(r'E:\\model_512_speed_depth\\model_sd_' + str(count) + '.rho')\n",
    "                count += 1\n",
    "        #                 plt.figure()\n",
    "        #                 plt.imshow(vpdata.T,cmap=plt.cm.jet, interpolation='nearest',extent=[0,512,512,0])\n",
    "        #                 plt.title('Layered model')\n",
    "        #                 plt.xlabel('X [m]')\n",
    "        #                 plt.ylabel('Depth [m]')\n",
    "        #                 plt.tight_layout\n",
    "        # plt.savefig('layered model')\n",
    "        k = k + 1\n"
   ]
  },
  {
   "cell_type": "code",
   "execution_count": 45,
   "metadata": {},
   "outputs": [
    {
     "data": {
      "text/plain": [
       "<matplotlib.image.AxesImage at 0x1b15112b4a8>"
      ]
     },
     "execution_count": 45,
     "metadata": {},
     "output_type": "execute_result"
    },
    {
     "data": {
      "image/png": "[encoded data removed]",
      "text/plain": [
       "<Figure size 432x288 with 1 Axes>"
      ]
     },
     "metadata": {
      "needs_background": "light"
     },
     "output_type": "display_data"
    }
   ],
   "source": [
    "vpdata = np.load(r'E:\\tools\\写论文\\图表数据\\单层向斜背斜预测\\部分测试数据\\model\\model_sd_' + str(49)+'.npy')\n",
    "plt.imshow(vpdata.T)"
   ]
  },
  {
   "cell_type": "code",
   "execution_count": 46,
   "metadata": {},
   "outputs": [],
   "source": [
    "vpdata1 = np.load(r'E:\\tools\\写论文\\图表数据\\单层向斜背斜预测\\部分测试数据\\model\\model_sd_' + str(0)+'.npy')\n",
    "vpdata2 = np.load(r'E:\\tools\\写论文\\图表数据\\单层向斜背斜预测\\部分测试数据\\model\\model_sd_' + str(25)+'.npy')\n",
    "vpdata3 = np.load(r'E:\\tools\\写论文\\图表数据\\单层向斜背斜预测\\部分测试数据\\model\\model_sd_' + str(9)+'.npy')\n",
    "vpdata4 = np.load(r'E:\\tools\\写论文\\图表数据\\单层向斜背斜预测\\部分测试数据\\model\\model_sd_' + str(49)+'.npy')\n",
    "vpdatas = [vpdata1.T,vpdata2.T,vpdata3.T,vpdata4.T]"
   ]
  },
  {
   "cell_type": "code",
   "execution_count": 48,
   "metadata": {},
   "outputs": [
    {
     "data": {
      "image/png": "[encoded data removed]",
      "text/plain": [
       "<Figure size 864x576 with 5 Axes>"
      ]
     },
     "metadata": {
      "needs_background": "light"
     },
     "output_type": "display_data"
    }
   ],
   "source": [
    "Nr = 1\n",
    "Nc = 4\n",
    "\n",
    "fig, axs = plt.subplots(Nr, Nc,figsize=(12, 8))\n",
    "fig.suptitle('单层向斜背斜地层模型',y=0.75,fontsize='xx-large')\n",
    "\n",
    "images = []\n",
    "# for i in range(Nr):\n",
    "for j in range(Nc):\n",
    "    # Generate data with a range that varies from one plot to the next.\n",
    "    axs[j].xaxis.set_ticks_position('top')\n",
    "    axs[j].set_xlabel('距离（m）')\n",
    "    axs[j].set_ylabel('深度（m）')\n",
    "    axs[j].set_xticks([0,100,200,300,400,500])\n",
    "    axs[j].set_xticklabels([0,200,400,600,800,1000])\n",
    "    axs[j].set_yticks([0,100,200,300,400,500])\n",
    "    axs[j].set_yticklabels([0,200,400,600,800,1000])\n",
    "    axs[j].xaxis.set_label_position('top')\n",
    "    images.append(axs[j].imshow(vpdatas[j]))\n",
    "    axs[j].label_outer()\n",
    "\n",
    "# Find the min and max of all colors for use in setting the color scale.\n",
    "vmin = min(image.get_array().min() for image in images)\n",
    "vmax = max(image.get_array().max() for image in images)\n",
    "norm = colors.Normalize(vmin=vmin, vmax=vmax)\n",
    "for im in images:\n",
    "    im.set_norm(norm)\n",
    "    \n",
    "position=fig.add_axes([0.13, 0.28, 0.765, 0.04])#位置[左,y,右,高]\n",
    "cbar  = fig.colorbar(images[0], ax=axs, cax=position, orientation='horizontal', fraction=.2)\n",
    "cbar.set_label('速度（m/s）',fontsize='x-large')\n",
    "\n",
    "# Make images respond to changes in the norm of other images (e.g. via the\n",
    "# \"edit axis, curves and images parameters\" GUI on Qt), but be careful not to\n",
    "# recurse infinitely!\n",
    "def update(changed_image):\n",
    "    for im in images:\n",
    "        if (changed_image.get_cmap() != im.get_cmap()\n",
    "                or changed_image.get_clim() != im.get_clim()):\n",
    "            im.set_cmap(changed_image.get_cmap())\n",
    "            im.set_clim(changed_image.get_clim())\n",
    "\n",
    "\n",
    "for im in images:\n",
    "    im.callbacksSM.connect('changed', update)\n",
    "plt.subplots_adjust(wspace=0.1, hspace=0.1)\n",
    "plt.savefig(r'E:\\tools\\写论文\\图表数据\\单层向斜背斜预测\\单层向斜背斜地层模型.jpg',bbox_inches='tight',dpi=300,pad_inches=0.2)\n",
    "plt.show()\n"
   ]
  },
  {
   "cell_type": "code",
   "execution_count": 51,
   "metadata": {},
   "outputs": [],
   "source": [
    "# 时域标签计算\n",
    "\n",
    "data = np.fromfile(r'E:\\tools\\写论文\\图表数据\\things\\su_model\\model_sd_6812.vp', dtype=np.float32)\n",
    "vpdata1 = data.reshape(512, 512)\n",
    "\n",
    "labels_512_1 = np.zeros((1,512),dtype=np.float32)\n",
    "up_speed = -1\n",
    "for i in range(512):\n",
    "    for index, j in enumerate(vpdata1.T[:, i]):\n",
    "        if up_speed == -1:\n",
    "            up_speed = j\n",
    "        if up_speed != j:\n",
    "            labels_512_1[0, i] = index\n",
    "            break\n",
    "labels_512_1 = labels_512_1/up_speed\n",
    "\n",
    "data = np.fromfile(r'E:\\tools\\写论文\\图表数据\\things\\su_model\\model_sd_4861.vp', dtype=np.float32)\n",
    "vpdata2 = data.reshape(512, 512)\n",
    "\n",
    "labels_512_2 = np.zeros((1,512),dtype=np.float32)\n",
    "up_speed = -1\n",
    "for i in range(512):\n",
    "    for index, j in enumerate(vpdata2.T[:, i]):\n",
    "        if up_speed == -1:\n",
    "            up_speed = j\n",
    "        if up_speed != j:\n",
    "            labels_512_2[0, i] = index\n",
    "            break\n",
    "labels_512_2 = labels_512_2/up_speed"
   ]
  },
  {
   "cell_type": "code",
   "execution_count": 49,
   "metadata": {},
   "outputs": [],
   "source": [
    "data = np.fromfile(r'E:\\tools\\写论文\\图表数据\\things\\su_model\\model_sd_6812.vp', dtype=np.float32)\n",
    "vpdata1 = data.reshape(512, 512)\n",
    "data = np.fromfile(r'E:\\tools\\写论文\\图表数据\\things\\su_model\\model_sd_4861.vp', dtype=np.float32)\n",
    "vpdata2 = data.reshape(512, 512)"
   ]
  },
  {
   "cell_type": "code",
   "execution_count": 53,
   "metadata": {},
   "outputs": [
    {
     "data": {
      "image/png": "[encoded data removed]",
      "text/plain": [
       "<Figure size 1152x216 with 4 Axes>"
      ]
     },
     "metadata": {
      "needs_background": "light"
     },
     "output_type": "display_data"
    }
   ],
   "source": [
    "plt.figure(figsize=(16,3))\n",
    "plt.suptitle(\"地层模型的时域标签\",fontsize='xx-large',y=1.2)\n",
    "\n",
    "colors_list = ['cyan', 'Lime','yellow'] \n",
    "cmap = colors.ListedColormap(colors_list)\n",
    "plt.subplot(1,4,1)\n",
    "plt.xlabel(\"距离（m）\")\n",
    "plt.ylabel(\"深度（m）\")\n",
    "plt.yticks([0,100,200,300,400,500],[0,200,400,600,800,1000])\n",
    "plt.xticks([0,200,400],[0,400,800])\n",
    "ax = plt.gca()\n",
    "ax.xaxis.set_ticks_position('top')\n",
    "ax.xaxis.set_label_position('top')\n",
    "plt.title(\"地层模型1\",y=1.16)\n",
    "plt.annotate('t',fontsize='x-large',xy=(250,443),xytext=(242,40),arrowprops=dict(arrowstyle=\"->\",connectionstyle=\"arc3\"))\n",
    "plt.annotate('',xy=(270,0),xytext=(270,443),arrowprops=dict(arrowstyle=\"->\",connectionstyle=\"arc3\"))\n",
    "\n",
    "plt.imshow(vpdata1.T,cmap = cmap)\n",
    "\n",
    "\n",
    "plt.subplot(1,4,2)\n",
    "plt.title('地层模型1对应的时域标签',y=1.16)\n",
    "plt.xlabel(\"距离（m）\")\n",
    "plt.ylabel('时间（s）')\n",
    "plt.xticks([0,200,400],[0,400,800])\n",
    "ax = plt.gca()\n",
    "ax.xaxis.set_ticks_position('top')\n",
    "ax.xaxis.set_label_position('top')\n",
    "plt.ylim(0.20,0.35)\n",
    "# plt.yticks(fontproperties = 'Times New Roman' ,size = 6,rotation = 90)\n",
    "plt.plot([i for i in range(512)],labels_512_1[0])\n",
    "\n",
    "\n",
    "plt.subplot(1,4,3)\n",
    "plt.xlabel(\"距离（m）\")\n",
    "plt.ylabel(\"深度（m）\")\n",
    "plt.yticks([0,100,200,300,400,500],[0,200,400,600,800,1000])\n",
    "plt.xticks([0,200,400],[0,400,800])\n",
    "ax = plt.gca()\n",
    "ax.xaxis.set_ticks_position('top')\n",
    "ax.xaxis.set_label_position('top')\n",
    "plt.title(\"地层模型2\",y=1.16)\n",
    "plt.annotate('t',fontsize='x-large',xy=(250,420),xytext=(242,40),arrowprops=dict(arrowstyle=\"->\",connectionstyle=\"arc3\"))\n",
    "plt.annotate('',xy=(270,0),xytext=(270,420),arrowprops=dict(arrowstyle=\"->\",connectionstyle=\"arc3\"))\n",
    "plt.imshow(vpdata2.T,cmap = cmap)\n",
    "\n",
    "plt.subplot(1,4,4)\n",
    "plt.title('地层模型2对应的时域标签',y=1.16)\n",
    "plt.xlabel(\"距离（m）\")\n",
    "plt.ylabel('时间（s）')\n",
    "plt.xticks([0,200,400],[0,400,800])\n",
    "ax = plt.gca()\n",
    "ax.xaxis.set_ticks_position('top')\n",
    "ax.xaxis.set_label_position('top')\n",
    "plt.ylim(0.20,0.35)\n",
    "# plt.yticks(fontproperties = 'Times New Roman' ,size = 6,rotation = 90)\n",
    "plt.plot([i for i in range(512)],labels_512_2[0])\n",
    "plt.subplots_adjust(wspace=0.4, hspace=0.1)\n",
    "plt.savefig(r'E:\\tools\\写论文\\图表数据\\单层向斜背斜预测\\时域标签.jpg',bbox_inches='tight',dpi=300,pad_inches=0.2)"
   ]
  },
  {
   "cell_type": "code",
   "execution_count": 73,
   "metadata": {},
   "outputs": [],
   "source": [
    "y_pred = np.load(r'E:\\tools\\写论文\\图表数据\\单层向斜背斜预测\\部分测试数据\\y_test_pred.npy')\n",
    "y_true = np.load(r'E:\\tools\\写论文\\图表数据\\单层向斜背斜预测\\部分测试数据\\x_test_s_1.npy')*1000"
   ]
  },
  {
   "cell_type": "code",
   "execution_count": 68,
   "metadata": {},
   "outputs": [
    {
     "data": {
      "text/plain": [
       "(512, 512)"
      ]
     },
     "execution_count": 68,
     "metadata": {},
     "output_type": "execute_result"
    }
   ],
   "source": [
    "y_pred.shape"
   ]
  },
  {
   "cell_type": "code",
   "execution_count": 152,
   "metadata": {},
   "outputs": [
    {
     "data": {
      "text/plain": [
       "3.5694575"
      ]
     },
     "execution_count": 152,
     "metadata": {},
     "output_type": "execute_result"
    }
   ],
   "source": [
    "np.mean(np.abs(y_pred - y_true))"
   ]
  },
  {
   "cell_type": "code",
   "execution_count": 151,
   "metadata": {},
   "outputs": [
    {
     "name": "stdout",
     "output_type": "stream",
     "text": [
      "355\n",
      "360\n",
      "274\n",
      "255\n"
     ]
    },
    {
     "data": {
      "image/png": "[encoded data removed]",
      "text/plain": [
       "<Figure size 1152x216 with 4 Axes>"
      ]
     },
     "metadata": {
      "needs_background": "light"
     },
     "output_type": "display_data"
    }
   ],
   "source": [
    "plt.figure(figsize=(16,3))\n",
    "plt.suptitle(\"单层地层时域预测与实际数据对比\",fontsize='xx-large',y=1.2)\n",
    "\n",
    "plt.subplot(1,4,1)\n",
    "# index = np.random.randint(0,512)\n",
    "index=355\n",
    "print(index)\n",
    "plt.title('预测1',y=1.16)\n",
    "plt.xlabel(\"距离（m）\")\n",
    "plt.ylabel('时间（ms）')\n",
    "plt.xticks([0,200,400],[0,400,800])\n",
    "ax = plt.gca()\n",
    "ax.xaxis.set_ticks_position('top')\n",
    "ax.xaxis.set_label_position('top')\n",
    "plt.ylim(0,300)\n",
    "# plt.yticks(fontproperties = 'Times New Roman' ,size = 6,rotation = 90)\n",
    "plt.plot([i for i in range(512)],y_pred[index],label=\"pred\")\n",
    "plt.plot([i for i in range(512)],y_true[index],label='true')\n",
    "plt.legend()\n",
    "# plt.subplots_adjust(wspace=0.4, hspace=0.1)\n",
    "\n",
    "plt.subplot(1,4,2)\n",
    "# index = np.random.randint(0,512)\n",
    "index = 360\n",
    "print(index)\n",
    "plt.title('预测2',y=1.16)\n",
    "plt.xlabel(\"距离（m）\")\n",
    "plt.ylabel('时间（ms）')\n",
    "plt.xticks([0,200,400],[0,400,800])\n",
    "ax = plt.gca()\n",
    "ax.xaxis.set_ticks_position('top')\n",
    "ax.xaxis.set_label_position('top')\n",
    "plt.ylim(0,300)\n",
    "# plt.yticks(fontproperties = 'Times New Roman' ,size = 6,rotation = 90)\n",
    "plt.plot([i for i in range(512)],y_pred[index],label=\"pred\")\n",
    "plt.plot([i for i in range(512)],y_true[index],label='true')\n",
    "plt.legend()\n",
    "# plt.subplots_adjust(wspace=0.4, hspace=0.1)\n",
    "\n",
    "plt.subplot(1,4,3)\n",
    "# index = np.random.randint(0,512)\n",
    "index = 274\n",
    "print(index)\n",
    "plt.title('预测3',y=1.16)\n",
    "plt.xlabel(\"距离（m）\")\n",
    "plt.ylabel('时间（ms）')\n",
    "plt.xticks([0,200,400],[0,400,800])\n",
    "ax = plt.gca()\n",
    "ax.xaxis.set_ticks_position('top')\n",
    "ax.xaxis.set_label_position('top')\n",
    "plt.ylim(0,300)\n",
    "# plt.yticks(fontproperties = 'Times New Roman' ,size = 6,rotation = 90)\n",
    "plt.plot([i for i in range(512)],y_pred[index],label=\"pred\")\n",
    "plt.plot([i for i in range(512)],y_true[index],label='true')\n",
    "plt.legend()\n",
    "# plt.subplots_adjust(wspace=0.4, hspace=0.1)\n",
    "\n",
    "plt.subplot(1,4,4)\n",
    "# index = np.random.randint(0,512)\n",
    "index = 255\n",
    "print(index)\n",
    "plt.title('预测4',y=1.16)\n",
    "plt.xlabel(\"距离（m）\")\n",
    "plt.ylabel('时间（ms）')\n",
    "plt.xticks([0,200,400],[0,400,800])\n",
    "ax = plt.gca()\n",
    "ax.xaxis.set_ticks_position('top')\n",
    "ax.xaxis.set_label_position('top')\n",
    "plt.ylim(0,300)\n",
    "# plt.yticks(fontproperties = 'Times New Roman' ,size = 6,rotation = 90)\n",
    "plt.plot([i for i in range(512)],y_pred[index],label=\"pred\")\n",
    "plt.plot([i for i in range(512)],y_true[index],label='true')\n",
    "plt.legend()\n",
    "# plt.subplots_adjust(wspace=0.4, hspace=0.1)\n",
    "plt.savefig(r'E:\\tools\\写论文\\图表数据\\单层向斜背斜预测\\单层地层时域预测与实际数据对比.jpg',bbox_inches='tight',dpi=300,pad_inches=0.2)"
   ]
  },
  {
   "cell_type": "code",
   "execution_count": 69,
   "metadata": {},
   "outputs": [
    {
     "data": {
      "text/plain": [
       "[<matplotlib.lines.Line2D at 0x1b14c260e80>]"
      ]
     },
     "execution_count": 69,
     "metadata": {},
     "output_type": "execute_result"
    },
    {
     "data": {
      "image/png": "[encoded data removed]",
      "text/plain": [
       "<Figure size 432x288 with 1 Axes>"
      ]
     },
     "metadata": {
      "needs_background": "light"
     },
     "output_type": "display_data"
    }
   ],
   "source": [
    "plt.title('实际',y=1.16)\n",
    "plt.xlabel(\"距离（m）\")\n",
    "plt.ylabel('时间（s）')\n",
    "plt.xticks([0,200,400],[0,400,800])\n",
    "ax = plt.gca()\n",
    "ax.xaxis.set_ticks_position('top')\n",
    "ax.xaxis.set_label_position('top')\n",
    "# plt.ylim(0.20,0.35)\n",
    "# plt.yticks(fontproperties = 'Times New Roman' ,size = 6,rotation = 90)\n",
    "plt.plot([i for i in range(512)],y_true[0])\n",
    "# plt.subplots_adjust(wspace=0.4, hspace=0.1)"
   ]
  }
 ],
 "metadata": {
  "kernelspec": {
   "display_name": "Python 3",
   "language": "python",
   "name": "python3"
  },
  "language_info": {
   "codemirror_mode": {
    "name": "ipython",
    "version": 3
   },
   "file_extension": ".py",
   "mimetype": "text/x-python",
   "name": "python",
   "nbconvert_exporter": "python",
   "pygments_lexer": "ipython3",
   "version": "3.7.3"
  }
 },
 "nbformat": 4,
 "nbformat_minor": 1
}
