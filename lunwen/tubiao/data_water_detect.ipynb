{
 "cells": [
  {
   "cell_type": "code",
   "execution_count": 1,
   "metadata": {},
   "outputs": [],
   "source": [
    "import numpy as np\n",
    "import matplotlib.pyplot as plt\n",
    "from mpl_toolkits.axes_grid1 import ImageGrid\n",
    "from matplotlib import colors"
   ]
  },
  {
   "cell_type": "code",
   "execution_count": 2,
   "metadata": {},
   "outputs": [],
   "source": [
    "from pylab import mpl\n",
    "mpl.rcParams['font.sans-serif'] = ['SimHei'] # 指定默认字体\n",
    "mpl.rcParams['axes.unicode_minus'] = False # 解决保存图像是负号'-'显示为方块的问题"
   ]
  },
  {
   "cell_type": "code",
   "execution_count": 3,
   "metadata": {},
   "outputs": [
    {
     "data": {
      "text/plain": [
       "<matplotlib.image.AxesImage at 0x1e1bfc8f6d8>"
      ]
     },
     "execution_count": 3,
     "metadata": {},
     "output_type": "execute_result"
    },
    {
     "data": {
      "image/png": "[encoded data removed]",
      "text/plain": [
       "<Figure size 432x288 with 1 Axes>"
      ]
     },
     "metadata": {
      "needs_background": "light"
     },
     "output_type": "display_data"
    }
   ],
   "source": [
    "vpdata = np.fromfile(r'F:\\tttt\\data\\water_detect\\1\\m_'+str(1)+'.vp',dtype=np.float32)\n",
    "vpdata = vpdata.reshape((512,512))\n",
    "vsdata = np.fromfile(r'F:\\tttt\\data\\water_detect\\1\\m_'+str(1)+'.vs',dtype=np.float32)\n",
    "vsdata = vsdata.reshape((512,512))\n",
    "rhodata = np.fromfile(r'F:\\tttt\\data\\water_detect\\1\\m_'+str(1)+'.rho',dtype=np.float32)\n",
    "rhodata = rhodata.reshape((512,512))\n",
    "plt.imshow(rhodata.T)"
   ]
  },
  {
   "cell_type": "code",
   "execution_count": 20,
   "metadata": {},
   "outputs": [
    {
     "data": {
      "text/plain": [
       "2000.0"
      ]
     },
     "execution_count": 20,
     "metadata": {},
     "output_type": "execute_result"
    }
   ],
   "source": [
    "vpdata[0,0]"
   ]
  },
  {
   "cell_type": "code",
   "execution_count": 6,
   "metadata": {},
   "outputs": [],
   "source": [
    "vpdata1 = np.fromfile(r'F:\\tttt\\data\\water_detect\\1\\m_'+str(np.random.randint(0, 10))+'.vp',dtype=np.float32)\n",
    "vpdata1 = vpdata1.reshape((512,512))\n",
    "vpdata2 = np.fromfile(r'F:\\tttt\\data\\water_detect\\1\\m_'+str(np.random.randint(0, 10))+'.vp',dtype=np.float32)\n",
    "vpdata2 = vpdata2.reshape((512,512))\n",
    "vpdata3 = np.fromfile(r'F:\\tttt\\data\\water_detect\\1\\m_'+str(np.random.randint(0, 10))+'.vp',dtype=np.float32)\n",
    "vpdata3 = vpdata3.reshape((512,512))"
   ]
  },
  {
   "cell_type": "code",
   "execution_count": 7,
   "metadata": {},
   "outputs": [
    {
     "data": {
      "image/png": "[encoded data removed]",
      "text/plain": [
       "<Figure size 1296x864 with 3 Axes>"
      ]
     },
     "metadata": {
      "needs_background": "light"
     },
     "output_type": "display_data"
    }
   ],
   "source": [
    "plt.figure(figsize=(18,12))\n",
    "plt.subplot(1, 3, 1)\n",
    "plt.title(\"数据1\")\n",
    "plt.ylabel(\"深度\")\n",
    "plt.xlabel(\"水平\")\n",
    "plt.imshow(vpdata1.T)\n",
    "plt.subplot(1, 3, 2)\n",
    "plt.title(\"数据2\")\n",
    "plt.ylabel(\"深度\")\n",
    "plt.xlabel(\"水平\")\n",
    "plt.imshow(vpdata2.T)\n",
    "plt.subplot(1, 3, 3)\n",
    "plt.title(\"数据3\")\n",
    "plt.ylabel(\"深度\")\n",
    "plt.xlabel(\"水平\")\n",
    "plt.imshow(vpdata3.T)\n",
    "plt.savefig(r'E:\\tools\\写论文\\datas\\data\\water_detect\\水层检测模型图片.jpg',bbox_inches='tight',dpi=300,pad_inches=0.5)"
   ]
  }
 ],
 "metadata": {
  "kernelspec": {
   "display_name": "Python 3",
   "language": "python",
   "name": "python3"
  },
  "language_info": {
   "codemirror_mode": {
    "name": "ipython",
    "version": 3
   },
   "file_extension": ".py",
   "mimetype": "text/x-python",
   "name": "python",
   "nbconvert_exporter": "python",
   "pygments_lexer": "ipython3",
   "version": "3.7.3"
  }
 },
 "nbformat": 4,
 "nbformat_minor": 1
}