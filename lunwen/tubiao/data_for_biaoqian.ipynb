{
 "cells": [
  {
   "cell_type": "code",
   "execution_count": 1,
   "metadata": {},
   "outputs": [],
   "source": [
    "import numpy as np\n",
    "import matplotlib.pyplot as plt"
   ]
  },
  {
   "cell_type": "code",
   "execution_count": 5,
   "metadata": {},
   "outputs": [],
   "source": [
    "import matplotlib.colors as colors"
   ]
  },
  {
   "cell_type": "code",
   "execution_count": 2,
   "metadata": {},
   "outputs": [],
   "source": [
    "from pylab import mpl\n",
    "mpl.rcParams['font.sans-serif'] = ['SimHei'] # 指定默认字体\n",
    "mpl.rcParams['axes.unicode_minus'] = False # 解决保存图像是负号'-'显示为方块的问题"
   ]
  },
  {
   "cell_type": "code",
   "execution_count": 3,
   "metadata": {},
   "outputs": [],
   "source": [
    "y_test = np.load(r'E:\\stuCode\\diqiuData\\npData\\data1024\\data3\\y_test.npy')"
   ]
  },
  {
   "cell_type": "code",
   "execution_count": 7,
   "metadata": {},
   "outputs": [],
   "source": [
    "mat1 = np.zeros((8,8),dtype=np.int32)\n",
    "mat1[0:4,:] = 1500\n",
    "mat1[4:,:] = 2200\n",
    "\n",
    "mat1_label = np.zeros((8,8),dtype=np.int32)\n",
    "mat1_label[0:4,:] = 0\n",
    "mat1_label[4:,:] = 1\n",
    "\n",
    "# mat2 = np.zeros((8,8),dtype=np.int32)\n",
    "# mat2[0:4,:] = 1600\n",
    "# mat2[4:,:] = 2200\n",
    "\n",
    "# mat2_labels = np.zeros((8,8),dtype=np.int32)\n",
    "# mat2_labels[0:4,:] = 2\n",
    "# mat2_labels[4:,:] = 5"
   ]
  },
  {
   "cell_type": "code",
   "execution_count": 16,
   "metadata": {},
   "outputs": [
    {
     "data": {
      "image/png": "[encoded data removed]",
      "text/plain": [
       "<Figure size 576x432 with 2 Axes>"
      ]
     },
     "metadata": {
      "needs_background": "light"
     },
     "output_type": "display_data"
    }
   ],
   "source": [
    "plt.figure(figsize=(8,6))\n",
    "plt.suptitle(\"卷积网络标签方式\",fontsize='xx-large',y=0.9)\n",
    "\n",
    "plt.subplot(1,2,1)\n",
    "colors_list = ['cyan', 'Lime','yellow'] \n",
    "cmap = colors.ListedColormap(colors_list)\n",
    "plt.ylabel(\"深度（m）\")\n",
    "plt.xlabel(\"距离（m）\")\n",
    "plt.yticks([0,1,2,3,4,5,6,7],[64,192,320,448,576,704,832,960])\n",
    "plt.xticks([0,2,4,6],[0,320,576,832])\n",
    "ax = plt.gca()\n",
    "ax.xaxis.set_ticks_position('top')\n",
    "ax.xaxis.set_label_position('top')\n",
    "plt.imshow(mat1, cmap=cmap)\n",
    "for i in range(mat1.shape[0]):\n",
    "    for j in range(mat1.shape[1]-1):\n",
    "        plt.text(x=j, y=i, s=mat1[i, j])    \n",
    "# plt.xticks([])\n",
    "# plt.yticks([])\n",
    "\n",
    "plt.title(\"地层模型\")\n",
    "\n",
    "plt.subplot(1,2,2)\n",
    "plt.ylabel(\"深度（m）\")\n",
    "plt.xlabel(\"距离（m）\")\n",
    "plt.yticks([0,1,2,3,4,5,6,7],[64,192,320,448,576,704,832,960])\n",
    "plt.xticks([0,2,4,6],[0,320,576,832])\n",
    "ax = plt.gca()\n",
    "ax.xaxis.set_ticks_position('top')\n",
    "ax.xaxis.set_label_position('top')\n",
    "plt.imshow(mat1_label, cmap=cmap)\n",
    "for i in range(mat1_label.shape[0]):\n",
    "    for j in range(mat1_label.shape[1]):\n",
    "        plt.text(x=j, y=i, s=mat1_label[i, j])        \n",
    "# plt.xticks([])\n",
    "# plt.yticks([])\n",
    "plt.title(\"数据标签\")\n",
    "plt.savefig(r'E:\\tools\\写论文\\图表数据\\卷积网络\\卷积网络标签方式.jpg',bbox_inches='tight',dpi=300,pad_inches=0.2)"
   ]
  }
 ],
 "metadata": {
  "kernelspec": {
   "display_name": "Python 3",
   "language": "python",
   "name": "python3"
  },
  "language_info": {
   "codemirror_mode": {
    "name": "ipython",
    "version": 3
   },
   "file_extension": ".py",
   "mimetype": "text/x-python",
   "name": "python",
   "nbconvert_exporter": "python",
   "pygments_lexer": "ipython3",
   "version": "3.7.3"
  }
 },
 "nbformat": 4,
 "nbformat_minor": 1
}